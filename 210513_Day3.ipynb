{
 "cells": [
  {
   "cell_type": "code",
   "execution_count": 40,
   "metadata": {},
   "outputs": [],
   "source": [
    "import pandas as pd\n",
    "import numpy as np\n",
    "import requests as req\n",
    "from bs4 import BeautifulSoup as bs"
   ]
  },
  {
   "cell_type": "markdown",
   "metadata": {},
   "source": [
    "# Selenium 모듈"
   ]
  },
  {
   "cell_type": "markdown",
   "metadata": {},
   "source": [
    "## 웹페이지 제어\n",
    "--> !pip install selenium\n",
    "<br>--> chrom driver 설치"
   ]
  },
  {
   "cell_type": "code",
   "execution_count": 4,
   "metadata": {},
   "outputs": [
    {
     "name": "stdout",
     "output_type": "stream",
     "text": [
      "Collecting selenium\n",
      "  Downloading selenium-3.141.0-py2.py3-none-any.whl (904 kB)\n",
      "Requirement already satisfied: urllib3 in c:\\users\\21smt17\\anaconda3\\lib\\site-packages (from selenium) (1.25.11)\n",
      "Installing collected packages: selenium\n",
      "Successfully installed selenium-3.141.0\n"
     ]
    }
   ],
   "source": [
    "!pip install selenium"
   ]
  },
  {
   "cell_type": "code",
   "execution_count": 5,
   "metadata": {},
   "outputs": [],
   "source": [
    "# webdriver --> 웹을 통제하기 위한 라이브러리\n",
    "# Keys --> 웹을 통해 입력하기 위한 라이브러리\n",
    "from selenium import webdriver as wb\n",
    "from selenium.webdriver.common.keys import Keys"
   ]
  },
  {
   "cell_type": "code",
   "execution_count": 20,
   "metadata": {},
   "outputs": [],
   "source": [
    "driver = wb.Chrome() # 크롬페이지\n",
    "\n",
    "url = \"https://www.naver.com/\"\n",
    "\n",
    "res = driver.get(url)"
   ]
  },
  {
   "cell_type": "markdown",
   "metadata": {},
   "source": [
    "## 검색어 보내기"
   ]
  },
  {
   "cell_type": "code",
   "execution_count": 16,
   "metadata": {},
   "outputs": [],
   "source": [
    "#검색창 찾기\n",
    "input_area = driver.find_element_by_id(\"query\")"
   ]
  },
  {
   "cell_type": "code",
   "execution_count": 17,
   "metadata": {},
   "outputs": [],
   "source": [
    "input_area.send_keys(\"시고르자브종\")"
   ]
  },
  {
   "cell_type": "markdown",
   "metadata": {},
   "source": [
    "### 엔터제어"
   ]
  },
  {
   "cell_type": "code",
   "execution_count": 9,
   "metadata": {},
   "outputs": [],
   "source": [
    "input_area.send_keys(Keys.ENTER)"
   ]
  },
  {
   "cell_type": "code",
   "execution_count": 18,
   "metadata": {},
   "outputs": [],
   "source": [
    "#버튼가져오기\n",
    "btn = driver.find_element_by_id(\"search_btn\")"
   ]
  },
  {
   "cell_type": "code",
   "execution_count": 19,
   "metadata": {},
   "outputs": [],
   "source": [
    "btn.click()"
   ]
  },
  {
   "cell_type": "markdown",
   "metadata": {},
   "source": [
    "# google에서 광주날씨를 검색하기"
   ]
  },
  {
   "cell_type": "code",
   "execution_count": 36,
   "metadata": {},
   "outputs": [],
   "source": [
    "driver = wb.Chrome() # 크롬페이지\n",
    "\n",
    "url = \"https://www.google.com/\"\n",
    "\n",
    "driver.get(url)"
   ]
  },
  {
   "cell_type": "code",
   "execution_count": 32,
   "metadata": {},
   "outputs": [],
   "source": [
    "input_area2 = driver.find_element_by_name(\"q\")   #driver.find_element_by_class_name(\"gLFyz\")"
   ]
  },
  {
   "cell_type": "code",
   "execution_count": 33,
   "metadata": {},
   "outputs": [],
   "source": [
    "input_area2.send_keys(\"광주날씨\")"
   ]
  },
  {
   "cell_type": "code",
   "execution_count": 35,
   "metadata": {},
   "outputs": [],
   "source": [
    "input_area2.send_keys(Keys.ENTER)"
   ]
  },
  {
   "cell_type": "markdown",
   "metadata": {},
   "source": [
    "# 한솥도시락 크롤링하기"
   ]
  },
  {
   "cell_type": "code",
   "execution_count": 83,
   "metadata": {},
   "outputs": [],
   "source": [
    "driver = wb.Chrome()\n",
    "url = \"https://www.hsd.co.kr/menu/menu_list\"                          #1단계\n",
    "driver.get(url)"
   ]
  },
  {
   "cell_type": "code",
   "execution_count": 42,
   "metadata": {
    "scrolled": true
   },
   "outputs": [],
   "source": [
    "soup = bs(driver.page_source, \"lxml\")          #3단계"
   ]
  },
  {
   "cell_type": "code",
   "execution_count": 61,
   "metadata": {},
   "outputs": [],
   "source": [
    "name = soup.select(\".item-text > .h\")          #4단계"
   ]
  },
  {
   "cell_type": "code",
   "execution_count": 62,
   "metadata": {
    "scrolled": true
   },
   "outputs": [
    {
     "data": {
      "text/plain": [
       "'치킨스테이크 스페셜'"
      ]
     },
     "execution_count": 62,
     "metadata": {},
     "output_type": "execute_result"
    }
   ],
   "source": [
    "name[0].text"
   ]
  },
  {
   "cell_type": "code",
   "execution_count": 85,
   "metadata": {},
   "outputs": [],
   "source": [
    "name1 = soup.select(\".item-price > strong \")"
   ]
  },
  {
   "cell_type": "code",
   "execution_count": 86,
   "metadata": {},
   "outputs": [
    {
     "data": {
      "text/plain": [
       "'10,000'"
      ]
     },
     "execution_count": 86,
     "metadata": {},
     "output_type": "execute_result"
    }
   ],
   "source": [
    "name1[0].text"
   ]
  },
  {
   "cell_type": "markdown",
   "metadata": {},
   "source": [
    "## 더보기버튼 제어"
   ]
  },
  {
   "cell_type": "code",
   "execution_count": 84,
   "metadata": {},
   "outputs": [
    {
     "name": "stdout",
     "output_type": "stream",
     "text": [
      "버튼이 없습니다.\n"
     ]
    }
   ],
   "source": [
    "try:                                    #2단계\n",
    "    for i in range(6):\n",
    "        btn_more = driver.find_element_by_class_name(\"c_05\") # 더보기버튼 찾기\n",
    "        btn_more.click() #더보기버튼 클릭\n",
    "        time.sleep(1) #1초 기다리겟다.\n",
    "except:\n",
    "    print(\"버튼이 없습니다.\")"
   ]
  },
  {
   "cell_type": "code",
   "execution_count": 81,
   "metadata": {},
   "outputs": [],
   "source": [
    "import time"
   ]
  },
  {
   "cell_type": "code",
   "execution_count": 94,
   "metadata": {},
   "outputs": [],
   "source": [
    "name_list = []\n",
    "name1_list = []\n",
    "rank_list = []\n",
    "for i in range(len(name)):\n",
    "    name_list.append(name[i].text)\n",
    "    name1_list.append(name1[i].text)\n",
    "    rank_list.append(i + 1)"
   ]
  },
  {
   "cell_type": "code",
   "execution_count": 118,
   "metadata": {},
   "outputs": [],
   "source": [
    "dic = {\"메뉴\" : name_list, \"가격\" : name1_list}"
   ]
  },
  {
   "cell_type": "code",
   "execution_count": 99,
   "metadata": {
    "collapsed": true
   },
   "outputs": [
    {
     "data": {
      "text/plain": [
       "{'순위': [1,\n",
       "  2,\n",
       "  3,\n",
       "  4,\n",
       "  5,\n",
       "  6,\n",
       "  7,\n",
       "  8,\n",
       "  9,\n",
       "  10,\n",
       "  11,\n",
       "  12,\n",
       "  13,\n",
       "  14,\n",
       "  15,\n",
       "  16,\n",
       "  17,\n",
       "  18,\n",
       "  19,\n",
       "  20,\n",
       "  21,\n",
       "  22,\n",
       "  23,\n",
       "  24,\n",
       "  25,\n",
       "  26,\n",
       "  27,\n",
       "  28,\n",
       "  29,\n",
       "  30,\n",
       "  31,\n",
       "  32,\n",
       "  33,\n",
       "  34,\n",
       "  35,\n",
       "  36,\n",
       "  37,\n",
       "  38,\n",
       "  39,\n",
       "  40,\n",
       "  41,\n",
       "  42,\n",
       "  43,\n",
       "  44,\n",
       "  45,\n",
       "  46,\n",
       "  47,\n",
       "  48,\n",
       "  49,\n",
       "  50,\n",
       "  51,\n",
       "  52,\n",
       "  53,\n",
       "  54,\n",
       "  55,\n",
       "  56,\n",
       "  57,\n",
       "  58,\n",
       "  59,\n",
       "  60,\n",
       "  61,\n",
       "  62,\n",
       "  63,\n",
       "  64,\n",
       "  65,\n",
       "  66,\n",
       "  67,\n",
       "  68,\n",
       "  69,\n",
       "  70,\n",
       "  71,\n",
       "  72,\n",
       "  73,\n",
       "  74,\n",
       "  75,\n",
       "  76,\n",
       "  77,\n",
       "  78,\n",
       "  79,\n",
       "  80,\n",
       "  81,\n",
       "  82,\n",
       "  83,\n",
       "  84,\n",
       "  85,\n",
       "  86,\n",
       "  87,\n",
       "  88,\n",
       "  89,\n",
       "  90,\n",
       "  91,\n",
       "  92,\n",
       "  93,\n",
       "  94],\n",
       " '메뉴': ['치킨스테이크 스페셜',\n",
       "  '매화(치킨, 연어구이)',\n",
       "  '매화(순살 고등어 간장구이)',\n",
       "  '진달래',\n",
       "  '개나리(순살 고등어 간장구이)',\n",
       "  '돈까스도련님고기고기',\n",
       "  '탕수육도련님고기고기',\n",
       "  '새치 고기고기',\n",
       "  '돈치 고기고기',\n",
       "  '고기고기',\n",
       "  '돈치스팸 도시락',\n",
       "  '숯불직화구이',\n",
       "  '소불고기',\n",
       "  '메가치킨제육',\n",
       "  '칠리 찹쌀탕수육도련님',\n",
       "  '동백',\n",
       "  '치킨제육',\n",
       "  '돈까스도련님',\n",
       "  '제육볶음',\n",
       "  '빅치킨마요 김치찌개 정식',\n",
       "  '치킨마요 김치찌개 정식',\n",
       "  '돈치스팸 김치찌개 정식',\n",
       "  '고추장숯불삼겹정식',\n",
       "  '숯불삼겹정식',\n",
       "  '제육 김치찌개 정식',\n",
       "  '메가 스리라차 참치마요',\n",
       "  '스리라차 참치마요',\n",
       "  '메가 스리라차 치킨마요',\n",
       "  '스리라차 치킨마요',\n",
       "  '메가스팸마요',\n",
       "  '스팸마요',\n",
       "  '메가불닭치킨마요',\n",
       "  '불닭치킨마요',\n",
       "  '메가치킨마요',\n",
       "  '왕치킨마요',\n",
       "  '빅치킨마요',\n",
       "  '치킨마요',\n",
       "  '참치마요',\n",
       "  '돈치마요',\n",
       "  '치즈 카레도시락',\n",
       "  '돈까스 카레',\n",
       "  '3종치즈 김치볶음밥',\n",
       "  '스팸 김치볶음밥',\n",
       "  '김치볶음밥',\n",
       "  '스팸철판볶음밥',\n",
       "  '소불고기 철판볶음밥',\n",
       "  '소고기 육개장',\n",
       "  '묵은지 김치찌개',\n",
       "  '치킨스테이크 덮밥',\n",
       "  '고추장숯불삼겹덮밥',\n",
       "  '숯불직화구이 덮밥',\n",
       "  '왕카레돈까스덮밥',\n",
       "  '새우돈까스 덮밥',\n",
       "  '돈까스 덮밥',\n",
       "  '소불고기 감초고추장 비빔밥',\n",
       "  '시골제육 두부강된장 비빔밥',\n",
       "  '참치야채 감초고추장',\n",
       "  '튼튼도시락',\n",
       "  '반찬 계란말이',\n",
       "  '반찬 치즈계란말이',\n",
       "  '반찬 묵은지김치찌개',\n",
       "  '반찬 소고기육개장',\n",
       "  '반찬 카레',\n",
       "  '반찬 소불고기',\n",
       "  '반찬 순살 고등어데리야끼',\n",
       "  '반찬 치킨',\n",
       "  '반찬 고기고기',\n",
       "  '반찬 돈까스 도련님',\n",
       "  '반찬 제육볶음',\n",
       "  '반찬 돈까스',\n",
       "  '고메이 크림 고로케',\n",
       "  '리얼꿀 미니호떡',\n",
       "  '아이스 애플망고',\n",
       "  '바삭 군만두',\n",
       "  '미니 찹쌀핫도그',\n",
       "  '미니 찹쌀탕수육',\n",
       "  '감자고로케',\n",
       "  '케이준후라이',\n",
       "  '찹쌀탕수육박스(대)',\n",
       "  '찹쌀탕수육박스(중)',\n",
       "  '오리지널 닭강정(중)',\n",
       "  '오리지널 닭강정(소)',\n",
       "  '치킨 BOX(대) ',\n",
       "  '치킨BOX(중)_양식소스',\n",
       "  '치킨BOX(중)_타르타르소스',\n",
       "  '오징어젓갈',\n",
       "  '오이지무침',\n",
       "  '한솥 두부강된장소스',\n",
       "  '한솥 감초볶음고추장소스',\n",
       "  '볶음김치',\n",
       "  '김치',\n",
       "  '무말랭이 무침',\n",
       "  '한솥밥',\n",
       "  '현미밥'],\n",
       " '가격': ['10,000',\n",
       "  '10,000',\n",
       "  '10,000',\n",
       "  '7,000',\n",
       "  '8,000',\n",
       "  '5,600',\n",
       "  '5,600',\n",
       "  '6,000',\n",
       "  '5,300',\n",
       "  '4,000',\n",
       "  '4,600',\n",
       "  '6,500',\n",
       "  '5,000',\n",
       "  '6,900',\n",
       "  '4,000',\n",
       "  '5,000',\n",
       "  '4,400',\n",
       "  '4,000',\n",
       "  '3,900',\n",
       "  '6,900',\n",
       "  '6,300',\n",
       "  '8,000',\n",
       "  '9,000',\n",
       "  '8,500',\n",
       "  '8,000',\n",
       "  '5,700',\n",
       "  '3,400',\n",
       "  '5,700',\n",
       "  '3,400',\n",
       "  '5,500',\n",
       "  '3,500',\n",
       "  '6,400',\n",
       "  '3,500',\n",
       "  '5,200',\n",
       "  '4,200',\n",
       "  '3,500',\n",
       "  '2,900',\n",
       "  '2,900',\n",
       "  '3,500',\n",
       "  '4,100',\n",
       "  '4,100',\n",
       "  '4,700',\n",
       "  '4,500',\n",
       "  '3,700',\n",
       "  '4,500',\n",
       "  '4,500',\n",
       "  '4,500',\n",
       "  '4,300',\n",
       "  '5,700',\n",
       "  '6,500',\n",
       "  '5,700',\n",
       "  '5,600',\n",
       "  '3,900',\n",
       "  '3,600',\n",
       "  '4,800',\n",
       "  '4,800',\n",
       "  '3,200',\n",
       "  '5,000',\n",
       "  '2,200',\n",
       "  '2,800',\n",
       "  '3,900',\n",
       "  '4,100',\n",
       "  '2,600',\n",
       "  '3,900',\n",
       "  '3,400',\n",
       "  '3,300',\n",
       "  '3,200',\n",
       "  '3,300',\n",
       "  '3,100',\n",
       "  '2,600',\n",
       "  '3,500',\n",
       "  '2,200',\n",
       "  '1,500',\n",
       "  '2,000',\n",
       "  '2,500',\n",
       "  '2,000',\n",
       "  '2,000',\n",
       "  '1,500',\n",
       "  '10,000',\n",
       "  '5,000',\n",
       "  '7,500',\n",
       "  '2,800',\n",
       "  '10,000',\n",
       "  '5,000',\n",
       "  '5,000',\n",
       "  '400',\n",
       "  '700',\n",
       "  '1,800',\n",
       "  '500',\n",
       "  '400',\n",
       "  '300',\n",
       "  '300',\n",
       "  '1,000',\n",
       "  '1,700']}"
      ]
     },
     "execution_count": 99,
     "metadata": {},
     "output_type": "execute_result"
    }
   ],
   "source": [
    "dic"
   ]
  },
  {
   "cell_type": "code",
   "execution_count": 119,
   "metadata": {},
   "outputs": [],
   "source": [
    "hansot = pd.DataFrame(dic, index = rank_list) #inplace 안쓰는방법"
   ]
  },
  {
   "cell_type": "code",
   "execution_count": 121,
   "metadata": {
    "collapsed": true
   },
   "outputs": [
    {
     "data": {
      "text/html": [
       "<div>\n",
       "<style scoped>\n",
       "    .dataframe tbody tr th:only-of-type {\n",
       "        vertical-align: middle;\n",
       "    }\n",
       "\n",
       "    .dataframe tbody tr th {\n",
       "        vertical-align: top;\n",
       "    }\n",
       "\n",
       "    .dataframe thead th {\n",
       "        text-align: right;\n",
       "    }\n",
       "</style>\n",
       "<table border=\"1\" class=\"dataframe\">\n",
       "  <thead>\n",
       "    <tr style=\"text-align: right;\">\n",
       "      <th></th>\n",
       "      <th>메뉴</th>\n",
       "      <th>가격</th>\n",
       "    </tr>\n",
       "  </thead>\n",
       "  <tbody>\n",
       "    <tr>\n",
       "      <th>1</th>\n",
       "      <td>치킨스테이크 스페셜</td>\n",
       "      <td>10,000</td>\n",
       "    </tr>\n",
       "    <tr>\n",
       "      <th>2</th>\n",
       "      <td>매화(치킨, 연어구이)</td>\n",
       "      <td>10,000</td>\n",
       "    </tr>\n",
       "    <tr>\n",
       "      <th>3</th>\n",
       "      <td>매화(순살 고등어 간장구이)</td>\n",
       "      <td>10,000</td>\n",
       "    </tr>\n",
       "    <tr>\n",
       "      <th>4</th>\n",
       "      <td>진달래</td>\n",
       "      <td>7,000</td>\n",
       "    </tr>\n",
       "    <tr>\n",
       "      <th>5</th>\n",
       "      <td>개나리(순살 고등어 간장구이)</td>\n",
       "      <td>8,000</td>\n",
       "    </tr>\n",
       "    <tr>\n",
       "      <th>...</th>\n",
       "      <td>...</td>\n",
       "      <td>...</td>\n",
       "    </tr>\n",
       "    <tr>\n",
       "      <th>90</th>\n",
       "      <td>볶음김치</td>\n",
       "      <td>400</td>\n",
       "    </tr>\n",
       "    <tr>\n",
       "      <th>91</th>\n",
       "      <td>김치</td>\n",
       "      <td>300</td>\n",
       "    </tr>\n",
       "    <tr>\n",
       "      <th>92</th>\n",
       "      <td>무말랭이 무침</td>\n",
       "      <td>300</td>\n",
       "    </tr>\n",
       "    <tr>\n",
       "      <th>93</th>\n",
       "      <td>한솥밥</td>\n",
       "      <td>1,000</td>\n",
       "    </tr>\n",
       "    <tr>\n",
       "      <th>94</th>\n",
       "      <td>현미밥</td>\n",
       "      <td>1,700</td>\n",
       "    </tr>\n",
       "  </tbody>\n",
       "</table>\n",
       "<p>94 rows × 2 columns</p>\n",
       "</div>"
      ],
      "text/plain": [
       "                  메뉴      가격\n",
       "1         치킨스테이크 스페셜  10,000\n",
       "2       매화(치킨, 연어구이)  10,000\n",
       "3    매화(순살 고등어 간장구이)  10,000\n",
       "4                진달래   7,000\n",
       "5   개나리(순살 고등어 간장구이)   8,000\n",
       "..               ...     ...\n",
       "90              볶음김치     400\n",
       "91                김치     300\n",
       "92           무말랭이 무침     300\n",
       "93               한솥밥   1,000\n",
       "94               현미밥   1,700\n",
       "\n",
       "[94 rows x 2 columns]"
      ]
     },
     "execution_count": 121,
     "metadata": {},
     "output_type": "execute_result"
    }
   ],
   "source": [
    "hansot"
   ]
  },
  {
   "cell_type": "markdown",
   "metadata": {},
   "source": [
    "#  유튜브 크롤링"
   ]
  },
  {
   "cell_type": "code",
   "execution_count": 145,
   "metadata": {},
   "outputs": [],
   "source": [
    "url = \"https://www.youtube.com/c/dingofreestyle/videos\"\n",
    "driver = wb.Chrome()\n",
    "driver.get(url)\n",
    "# driver .set_window_size(1920, 1080) - 사이즈 조절\n",
    "# driver  .maximize_window() - 사이즈 조절"
   ]
  },
  {
   "cell_type": "code",
   "execution_count": 136,
   "metadata": {},
   "outputs": [],
   "source": [
    "soup = bs(driver.page_source, \"lxml\")   #드라이버에서 파싱할떈 항상page_source"
   ]
  },
  {
   "cell_type": "code",
   "execution_count": 132,
   "metadata": {},
   "outputs": [],
   "source": [
    "title = soup.select(\"#video-title\")"
   ]
  },
  {
   "cell_type": "code",
   "execution_count": 130,
   "metadata": {},
   "outputs": [
    {
     "data": {
      "text/plain": [
       "'입 벌려 한 스푼 들어간다!'"
      ]
     },
     "execution_count": 130,
     "metadata": {},
     "output_type": "execute_result"
    }
   ],
   "source": [
    "title[1].text"
   ]
  },
  {
   "cell_type": "code",
   "execution_count": 137,
   "metadata": {
    "scrolled": true
   },
   "outputs": [
    {
     "data": {
      "text/plain": [
       "42"
      ]
     },
     "execution_count": 137,
     "metadata": {},
     "output_type": "execute_result"
    }
   ],
   "source": [
    "len(title)"
   ]
  },
  {
   "cell_type": "markdown",
   "metadata": {},
   "source": [
    "## 페이지 스크롤하기"
   ]
  },
  {
   "cell_type": "code",
   "execution_count": 147,
   "metadata": {},
   "outputs": [],
   "source": [
    "body = driver.find_element_by_tag_name(\"body\")\n",
    "\n",
    "for i in range(10):\n",
    "    body.send_keys(Keys.PAGE_DOWN)\n",
    "    time.sleep(0.5)\n",
    "   "
   ]
  },
  {
   "cell_type": "code",
   "execution_count": 148,
   "metadata": {},
   "outputs": [],
   "source": [
    "soup = bs(driver.page_source, \"lxml\")"
   ]
  },
  {
   "cell_type": "code",
   "execution_count": 149,
   "metadata": {},
   "outputs": [],
   "source": [
    "title = soup.select(\"#video-title\")"
   ]
  },
  {
   "cell_type": "code",
   "execution_count": 150,
   "metadata": {},
   "outputs": [
    {
     "data": {
      "text/plain": [
       "210"
      ]
     },
     "execution_count": 150,
     "metadata": {},
     "output_type": "execute_result"
    }
   ],
   "source": [
    "len(title)"
   ]
  }
 ],
 "metadata": {
  "kernelspec": {
   "display_name": "Python 3",
   "language": "python",
   "name": "python3"
  },
  "language_info": {
   "codemirror_mode": {
    "name": "ipython",
    "version": 3
   },
   "file_extension": ".py",
   "mimetype": "text/x-python",
   "name": "python",
   "nbconvert_exporter": "python",
   "pygments_lexer": "ipython3",
   "version": "3.8.5"
  },
  "toc": {
   "base_numbering": 1,
   "nav_menu": {},
   "number_sections": true,
   "sideBar": true,
   "skip_h1_title": false,
   "title_cell": "Table of Contents",
   "title_sidebar": "Contents",
   "toc_cell": false,
   "toc_position": {},
   "toc_section_display": true,
   "toc_window_display": false
  }
 },
 "nbformat": 4,
 "nbformat_minor": 4
}
