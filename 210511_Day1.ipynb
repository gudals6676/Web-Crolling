{
 "cells": [
  {
   "cell_type": "markdown",
   "metadata": {},
   "source": [
    "### Requests 사용법"
   ]
  },
  {
   "cell_type": "code",
   "execution_count": 2,
   "metadata": {},
   "outputs": [],
   "source": [
    "# 서버에 페이지 정보를 요청할때 쓰는 라이브러리\n",
    "import requests as req"
   ]
  },
  {
   "cell_type": "code",
   "execution_count": 58,
   "metadata": {},
   "outputs": [],
   "source": [
    "url = \"https://www.naver.com/\"\n",
    "res = req.get(url)"
   ]
  },
  {
   "cell_type": "code",
   "execution_count": 59,
   "metadata": {},
   "outputs": [
    {
     "data": {
      "text/plain": [
       "<Response [200]>"
      ]
     },
     "execution_count": 59,
     "metadata": {},
     "output_type": "execute_result"
    }
   ],
   "source": [
    "# <Response [200]> = 데이터가 잘 넘어옴\n",
    "res"
   ]
  },
  {
   "cell_type": "code",
   "execution_count": 60,
   "metadata": {},
   "outputs": [
    {
     "data": {
      "text/plain": [
       "'\\n\\n\\n\\n\\n<!DOCTYPE html>\\n<html lang=\"ko\">\\n<head>\\n\\t<meta charset=\"UTF-8\">\\n\\t<meta http-equiv=\"X-UA-Compatible\" content=\"IE=edge\">\\n\\t<meta http-equiv=\"X-UA-Compatible\" content=\"requiresActiveX=true\">\\n\\t<meta name=\"viewport\" content=\"width=1080px,maximum-scale=2.0,minimum-scale=0.4,user-scalable=yes\">\\n\\t<meta property=\"og:image\"       content=\"https://imgsports.pstatic.net/images/mobile/common/NAVERsports.png\"/>\\n\\t<meta property=\"og:title\"\\t\\tcontent=\"스포츠홈 : 네이버 스포츠\"/>\\n\\t<meta property=\"og:description\" content=\"스포츠의 시작과 끝!\"/>\\n\\t<meta name=\"description\" content=\"스포츠의 모든 것, 네이버 스포츠와 함께 하세요\">\\n\\t\\n\\t\\t\\n\\t\\t\\n\\t\\t\\n\\t\\t\\n\\t\\n\\t<title>스포츠홈 : 네이버 스포츠</title>\\n\\t\\n    <link rel=\\'stylesheet\\' type=\\'text/css\\' href=\\'https://ssl.pstatic.net/static.sports/resources/pc/2021/05/10/124010/css/generated/nsportsCss.css\\'>\\n\\n    <link rel=\\'stylesheet\\' type=\\'text/css\\' href=\\'https://ssl.pstatic.net/static.sports/resources/pc/2021/05/10/124010/css/generated/nsportsHome.css\\'>\\n\\n\\n\\t<link rel=\"shortcut icon\" href=\"https://www.naver.com/favicon.ico?v=20140228\" type=\"image/x-icon\">\\n\\t<link rel=\"apple-touch-icon\" href=\"https://imgsports.pstatic.net/images/mobile/favicon_20180622/ios/iOS6_57X57_iphone3.png\"> \\n\\t<link rel=\"apple-touch-icon\" sizes=\"76x76\" href=\"https://imgsports.pstatic.net/images/mobile/favicon_20180622/ios/iOS7_76X76_ipad.png\"> \\n\\t<link rel=\"apple-touch-icon\" sizes=\"120x120\" href=\"https://imgsports.pstatic.net/images/mobile/favicon_20180622/ios/iOS7_120X120_iphone.png\"> \\n\\t<link rel=\"apple-touch-icon\" sizes=\"152x152\" href=\"https://imgsports.pstatic.net/images/mobile/favicon_20180622/ios/iOS7_152X152_ipad_retina.png\"> \\n\\t<link rel=\"apple-touch-icon\" sizes=\"167x167\" href=\"https://imgsports.pstatic.net/images/mobile/favicon_20180622/ios/iOS_167X167_iPadPro.png\"> <!-- 레티나 패드 -->\\n\\t<link rel=\"apple-touch-icon\" sizes=\"180x180\" href=\"https://imgsports.pstatic.net/images/mobile/favicon_20180622/ios/iOS_180X180_iPhone.png\"> <!-- 레티나 패드 -->\\n\\t<!-- script -->\\n\\t<script type=\\'text/javascript\\' src=\\'https://ssl.pstatic.net/static.sports/resources/pc/2021/05/10/124010/js/generated/baseJsTop.js\\' charset=\\'UTF-8\\'></script>\\n\\n\\t<script type=\\'text/javascript\\' src=\\'https://ssl.pstatic.net/static.sports/resources/pc/2021/05/10/124010/js/lib/iscroll/iscroll.js\\' charset=\\'UTF-8\\'></script>\\n\\n\\t\\n\\n<script>\\n\\ttry {\\n\\t\\tvar deployPhase = \\'release\\';\\n\\t\\tif (deployPhase === \\'release\\') {\\n\\t\\t\\tJEagleEyeClient.attachOnError();\\n\\n\\t\\t} else if (deployPhase === \\'dev\\') {\\n\\t\\t\\tJEagleEyeClient.setDebugOnly(true);\\n\\t\\t\\tJEagleEyeClient.attachOnError();\\n\\n\\t\\t} else {\\n\\t\\t\\t// local\\n\\t\\t\\tJEagleEyeClient.attachOnError();\\n\\t\\t}\\n\\t} catch (e) {\\n\\t\\tconsole.log(e);\\n\\t}\\n</script>\\n\\n    \\n    <script type=\\'text/javascript\\' src=\\'https://ssl.pstatic.net/static.sports/resources/pc/2021/05/10/124010/js/generated/sectionHomeJs.js\\' charset=\\'UTF-8\\'></script>\\n\\n    <script type=\"text/javascript\" src=\"https://ssl.pstatic.net/tveta/libs/assets/js/pc/main/min/pc.veta.core.min.js?201704051200\"></script>\\n\\n    <script>\\n    document.domain = \"naver.com\";\\n    var nsc = \"sports.home\";\\n    </script>\\n</head>\\n\\n<body\\n\\t\\t\\n\\t\\t\\t\\n\\t\\t\\t\\tclass=\"sports_home\"\\n\\t\\t\\t\\n\\t\\t\\t\\n\\t\\t\\n>\\n<!-- 사이드 광고 -->\\n<div id=\"veta_skin_left\" data-veta-preview=\"p_sports_dpl\"></div>\\n<div id=\"veta_skin_right\" data-veta-preview=\"p_sports_dpl\"></div>\\n\\n<div id=\"u_skip\">\\n\\t<a href=\"#lnb_main_sub\" onclick=\"document.getElementById(\\'lnb_main_sub\\').tabIndex=-1;document.getElementById(\\'lnb_main_sub\\').focus();\"><span>메인 메뉴로 바로가기</span></a>\\n\\t<div id=\"lnb_menu_link\"></div>\\n\\t<div id=\"container_link\"></div>\\n</div>\\n\\n<div id=\"wrap\">\\n\\t\\n<div id=\"header\" class=\"header\">\\n\\t<div class=\"sports_header\" role=\"banner\">\\n\\t\\t\\n\\n<div class=\"snb_area\">\\n\\t<h1 class=\"logo_group\">\\n\\t\\t<a href=\"https://www.naver.com\" class=\"logo_naver\" onClick=\"clickcr(this, \\'STA.naverlogo\\', \\'\\', \\'\\', event);\" ><span class=\"blind\">네이버</span></a>\\n\\t\\t<a href=\"https://sports.news.naver.com/\" class=\"logo_sports\" onClick=\"clickcr(this, \\'STA.sports\\', \\'\\', \\'\\', event);\"><span class=\"blind\">스포츠</span></a>\\n\\t</h1>\\n\\t<div class=\"service_group\">\\n\\t\\t<a href=\"https://news.naver.com/\" onClick=\"clickcr(this, \\'STA.news\\', \\'\\', \\'\\', event);\" class=\"link_news_service\"><span class=\"blind\">뉴스</span></a>\\n\\t\\t<a href=\"https://weather.naver.com/\" onClick=\"clickcr(this, \\'STA.whether\\', \\'\\', \\'\\', event);\" class=\"link_weather_service\"><span class=\"blind\">날씨</span></a>\\n\\t\\t<a href=\"https://entertain.naver.com/\" onClick=\"clickcr(this, \\'STA.entertain\\', \\'\\', \\'\\', event);\" class=\"link_entertain_service\"><span class=\"blind\">TV연예</span></a>\\n\\t</div>\\n</div>\\n\\t\\t<!-- GNB -->\\n\\t\\t<div class=\"gnb_area\">\\n\\t\\t\\t<div class=\"gnb_one\" id=\"gnb\"></div>\\n\\t\\t</div>\\n\\t\\t<!-- GNB -->\\n\\t</div>\\n\\t\\n\\n\\n\\n\\n<!-- 추후 제거, lnbMenuInfoList 를 받아오기 위하여 사용중 -->\\n\\n            \\n            \\n\\n\\n\\n\\n<script>\\n\\tvar lnbMenuInfoList = [{\"a\":\"\",\"side\":\"left\",\"c\":\"sportshome\",\"subMenuList\":[],\"h\":22,\"alt\":\"스포츠홈\",\"className\":\"\",\"l\":\"0\",\"upperSection\":null,\"url\":\"/index.nhn\",\"off\":\"https://imgsports.pstatic.net/images/2015/PC/lnb2/home.png\",\"isImageTypeMenu\":false,\"alt_u\":\"\",\"w\":60,\"onUrl\":\"\",\"on\":\"https://imgsports.pstatic.net/images/2015/PC/lnb2/home_on.png\"},{\"a\":\"\",\"side\":\"left\",\"c\":\"baseball\",\"subMenuList\":[{\"a\":\"0\",\"side\":\"\",\"c\":\"news\",\"h\":22,\"alt\":\"최신뉴스\",\"className\":\"\",\"l\":\"0\",\"upperSection\":null,\"url\":\"/kbaseball/news/index.nhn\",\"off\":\"https://imgsports.pstatic.net/images/2015/PC/lnb2/sub_news.png\",\"isImageTypeMenu\":false,\"alt_u\":\"\",\"w\":60,\"onUrl\":\"/kbaseball/news/read.nhn;/kbo/news/read.nhn;/baseballetc/news/read.nhn;/kbaseball/news/index.nhn;/kbo/news/index.nhn;/baseballetc/news/index.nhn;/news.nhn\",\"on\":\"https://imgsports.pstatic.net/images/2015/PC/lnb2/sub_news_on.png\"},{\"a\":\"0\",\"side\":\"\",\"c\":\"video\",\"h\":22,\"alt\":\"영상\",\"className\":\"\",\"l\":\"0\",\"upperSection\":null,\"url\":\"/kbaseball/vod/index.nhn\",\"off\":\"https://imgsports.pstatic.net/images/2015/PC/lnb2/sub_video.png\",\"isImageTypeMenu\":false,\"alt_u\":\"\",\"w\":39,\"onUrl\":\"\",\"on\":\"https://imgsports.pstatic.net/images/2015/PC/lnb2/sub_video_on.png\"},{\"a\":\"0\",\"side\":\"\",\"c\":\"album\",\"h\":22,\"alt\":\"생생화보\",\"className\":\"\",\"l\":\"0\",\"upperSection\":null,\"url\":\"/photocenter/albumList.nhn?category=kbo\",\"off\":\"https://imgsports.pstatic.net/images/2015/PC/lnb2/sub_photo.png\",\"isImageTypeMenu\":false,\"alt_u\":\"\",\"w\":60,\"onUrl\":\"/photocenter/photoList.nhn?category=kbo;/photocenter/photo.nhn?category=kbo\",\"on\":\"https://imgsports.pstatic.net/images/2015/PC/lnb2/sub_photo_on.png\"},{\"a\":\"0\",\"side\":\"\",\"c\":\"schedule\",\"h\":22,\"alt\":\"일정/결과\",\"className\":\"\",\"l\":\"0\",\"upperSection\":null,\"url\":\"/kbaseball/schedule/index.nhn\",\"off\":\"https://imgsports.pstatic.net/images/2015/PC/lnb2/sub_schedule.png\",\"isImageTypeMenu\":false,\"alt_u\":\"\",\"w\":65,\"onUrl\":\"/gameCenter/gameResult.nhn?category=kbo;/gameCenter/textRelay.nhn?category=kbo;/gameCenter/gameRecord.nhn?category=kbo;/gameCenter/gameVideo.nhn?category=kbo\",\"on\":\"https://imgsports.pstatic.net/images/2015/PC/lnb2/sub_schedule_on.png\"},{\"a\":\"0\",\"side\":\"\",\"c\":\"datacenter\",\"h\":22,\"alt\":\"기록/순위\",\"className\":\"\",\"l\":\"0\",\"upperSection\":null,\"url\":\"/kbaseball/record/index.nhn?category=kbo\",\"off\":\"https://imgsports.pstatic.net/images/2015/PC/lnb2/sub_record.png\",\"isImageTypeMenu\":false,\"alt_u\":\"\",\"w\":66,\"onUrl\":\"/kbaseball/record/index.nhn?category=kbo\",\"on\":\"https://imgsports.pstatic.net/images/2015/PC/lnb2/sub_record_on.png\"},{\"a\":\"0\",\"side\":\"\",\"c\":\"issue\",\"h\":22,\"alt\":\"구단/협회\",\"className\":\"\",\"l\":\"0\",\"upperSection\":null,\"url\":\"/kbaseball/column/columnistList.nhn\",\"off\":\"https://imgsports.pstatic.net/images/2015/PC/lnb2/sub_column.png\",\"isImageTypeMenu\":false,\"alt_u\":\"\",\"w\":64,\"onUrl\":\"/kbaseball/column/columnList.nhn;/kbaseball/news/read.nhn?viewType=CLUB\",\"on\":\"https://imgsports.pstatic.net/images/2015/PC/lnb2/sub_column_on.png\"},{\"a\":\"0\",\"side\":\"\",\"c\":\"baseball9\",\"h\":22,\"alt\":\"야구9단\",\"className\":\"\",\"l\":\"0\",\"upperSection\":null,\"url\":\"http://ya9.naver.com/?adtr=A19A126\",\"off\":\"https://imgsports.pstatic.net/images/2015/PC/lnb2/sub_ya9.png\",\"isImageTypeMenu\":false,\"alt_u\":\"\",\"w\":58,\"onUrl\":\"\",\"on\":\"https://imgsports.pstatic.net/images/2015/PC/lnb2/sub_ya9.png\"}],\"h\":22,\"alt\":\"야구\",\"className\":\"\",\"l\":\"0\",\"upperSection\":\"kbaseball\",\"url\":\"/kbaseball/index.nhn\",\"off\":\"https://imgsports.pstatic.net/images/2015/PC/lnb2/baseball.png\",\"isImageTypeMenu\":false,\"alt_u\":\"\",\"w\":38,\"onUrl\":\"/sports/index.nhn?category=baseball;/kbaseball/index.nhn;/kbaseball/issue/index.nhn;\",\"on\":\"https://imgsports.pstatic.net/images/2015/PC/lnb2/baseball_on.png\"},{\"a\":\"\",\"side\":\"left\",\"c\":\"worldbaseball\",\"subMenuList\":[{\"a\":\"0\",\"side\":\"\",\"c\":\"news\",\"h\":22,\"alt\":\"최신뉴스\",\"className\":\"\",\"l\":\"0\",\"upperSection\":null,\"url\":\"/wbaseball/news/index.nhn\",\"off\":\"https://imgsports.pstatic.net/images/2015/PC/lnb2/sub_news.png\",\"isImageTypeMenu\":false,\"alt_u\":\"\",\"w\":60,\"onUrl\":\"/wbaseball/news/read.nhn;/mlb/news/index.nhn;/npb/news/index.nhn;/mlb/news/read.nhn;/npb/news/read.nhn;/news.nhn\",\"on\":\"https://imgsports.pstatic.net/images/2015/PC/lnb2/sub_news_on.png\"},{\"a\":\"0\",\"side\":\"\",\"c\":\"video\",\"h\":22,\"alt\":\"영상\",\"className\":\"\",\"l\":\"0\",\"upperSection\":null,\"url\":\"/wbaseball/vod/index.nhn\",\"off\":\"https://imgsports.pstatic.net/images/2015/PC/lnb2/sub_video.png\",\"isImageTypeMenu\":false,\"alt_u\":\"\",\"w\":39,\"onUrl\":\"\",\"on\":\"https://imgsports.pstatic.net/images/2015/PC/lnb2/sub_video_on.png\"},{\"a\":\"0\",\"side\":\"\",\"c\":\"album\",\"h\":22,\"alt\":\"생생화보\",\"className\":\"\",\"l\":\"0\",\"upperSection\":null,\"url\":\"/photocenter/albumList.nhn?category=mlb\",\"off\":\"https://imgsports.pstatic.net/images/2015/PC/lnb2/sub_photo.png\",\"isImageTypeMenu\":false,\"alt_u\":\"\",\"w\":60,\"onUrl\":\"/photocenter/photoList.nhn?category=mlb;/photocenter/photo.nhn?category=mlb;/photocenter/albumList.nhn?category=npb;/photocenter/photoList.nhn?category=npb;/photocenter/photo.nhn?category=npb\",\"on\":\"https://imgsports.pstatic.net/images/2015/PC/lnb2/sub_photo_on.png\"},{\"a\":\"0\",\"side\":\"\",\"c\":\"schedule\",\"h\":22,\"alt\":\"일정/결과\",\"className\":\"\",\"l\":\"0\",\"upperSection\":null,\"url\":\"/wbaseball/schedule/index.nhn\",\"off\":\"https://imgsports.pstatic.net/images/2015/PC/lnb2/sub_schedule.png\",\"isImageTypeMenu\":false,\"alt_u\":\"\",\"w\":65,\"onUrl\":\"/sports/index.nhn?category=npb&ctg=schedule;/gameCenter/gameResult.nhn?category=mlb;/gameCenter/textRelay.nhn?category=mlb;/gameCenter/gameVideo.nhn?category=mlb;/wbaseball/schedule/index.nhn\",\"on\":\"https://imgsports.pstatic.net/images/2015/PC/lnb2/sub_schedule_on.png\"},{\"a\":\"0\",\"side\":\"\",\"c\":\"record\",\"h\":22,\"alt\":\"기록/순위\",\"className\":\"\",\"l\":\"0\",\"upperSection\":null,\"url\":\"/wbaseball/record/index.nhn\",\"off\":\"https://imgsports.pstatic.net/images/2015/PC/lnb2/sub_record.png\",\"isImageTypeMenu\":false,\"alt_u\":\"\",\"w\":66,\"onUrl\":\"\",\"on\":\"https://imgsports.pstatic.net/images/2015/PC/lnb2/sub_record_on.png\"}],\"h\":22,\"alt\":\"해외야구\",\"className\":\"\",\"l\":\"0\",\"upperSection\":\"wbaseball\",\"url\":\"/wbaseball/index.nhn\",\"off\":\"https://imgsports.pstatic.net/images/2015/PC/lnb2/worldbaseball.png\",\"isImageTypeMenu\":false,\"alt_u\":\"\",\"w\":60,\"onUrl\":\"/wbaseball/index.nhn;/wbaseball/issue/index.nhn;/wbaseball/index.nhn;/gameCenter/gameResult.nhn?category=wbc;/gameCenter/textRelay.nhn?category=wbc;/gameCenter/gameVideo.nhn?category=wbc;/gameCenter/gameRecord.nhn?category=wbc\",\"on\":\"https://imgsports.pstatic.net/images/2015/PC/lnb2/worldbaseball_on.png\"},{\"a\":\"\",\"side\":\"left\",\"c\":\"soccer\",\"subMenuList\":[{\"a\":\"0\",\"side\":\"\",\"c\":\"news\",\"h\":22,\"alt\":\"최신뉴스\",\"className\":\"\",\"l\":\"0\",\"upperSection\":null,\"url\":\"/kfootball/news/index.nhn\",\"off\":\"https://imgsports.pstatic.net/images/2015/PC/lnb2/sub_news.png\",\"isImageTypeMenu\":false,\"alt_u\":\"\",\"w\":60,\"onUrl\":\"/kleague/news/index.nhn;/afc/news/index.nhn;/amatch/news/index.nhn;/footballetc/news/index.nhn;/kfootball/news/read.nhn;/kleague/news/read.nhn;/afc/news/read.nhn;/amatch/news/read.nhn;/footballetc/news/read.nhn;/news.nhn\",\"on\":\"https://imgsports.pstatic.net/images/2015/PC/lnb2/sub_news_on.png\"},{\"a\":\"0\",\"side\":\"\",\"c\":\"video\",\"h\":22,\"alt\":\"영상\",\"className\":\"\",\"l\":\"0\",\"upperSection\":null,\"url\":\"/kfootball/vod/index.nhn\",\"off\":\"https://imgsports.pstatic.net/images/2015/PC/lnb2/sub_video.png\",\"isImageTypeMenu\":false,\"alt_u\":\"\",\"w\":39,\"onUrl\":\"http://sports.news.naver.com/videoCenter/index.nhn?uCategory=kfootball;http://sports.news.naver.com/videoCenter/index.nhn?uCategory=kfootball&category=kleague;http://sports.news.naver.com/videoCenter/index.nhn?uCategory=kfootball&category=kleague2;\",\"on\":\"https://imgsports.pstatic.net/images/2015/PC/lnb2/sub_video_on.png\"},{\"a\":\"0\",\"side\":\"\",\"c\":\"album\",\"h\":22,\"alt\":\"생생화보\",\"className\":\"\",\"l\":\"0\",\"upperSection\":null,\"url\":\"/photocenter/albumList.nhn?category=kfootball\",\"off\":\"https://imgsports.pstatic.net/images/2015/PC/lnb2/sub_photo.png\",\"isImageTypeMenu\":false,\"alt_u\":\"\",\"w\":60,\"onUrl\":\"/photocenter/albumList.nhn?category=amatch;/photocenter/photoList.nhn?category=kfootball;/photocenter/photoList.nhn?category=amatch;/photocenter/photo.nhn?category=kfootball;/photocenter/photo.nhn?category=amatch;\",\"on\":\"https://imgsports.pstatic.net/images/2015/PC/lnb2/sub_photo_on.png\"},{\"a\":\"0\",\"side\":\"\",\"c\":\"schedule\",\"h\":22,\"alt\":\"일정/결과\",\"className\":\"\",\"l\":\"0\",\"upperSection\":null,\"url\":\"/kfootball/schedule/index.nhn\",\"off\":\"https://imgsports.pstatic.net/images/2015/PC/lnb2/sub_schedule.png\",\"isImageTypeMenu\":false,\"alt_u\":\"\",\"w\":65,\"onUrl\":\"/gameCenter/textRelayFootball.nhn?category=kleague;/sports/index.nhn?category=k_league2&ctg=schedule;/sports/index.nhn?category=acl&ctg=schedule;/sports/index.nhn?category=a_match&ctg=schedule;/gameCenter/textRelayFootball.nhn?category=kleague2;/gameCenter/textRelayFootball.nhn?category=acl;/gameCenter/textRelayFootball.nhn?category=amatch;/kfootball/schedule/index.nhn\",\"on\":\"https://imgsports.pstatic.net/images/2015/PC/lnb2/sub_schedule_on.png\"},{\"a\":\"0\",\"side\":\"\",\"c\":\"record\",\"h\":22,\"alt\":\"기록/순위\",\"className\":\"\",\"l\":\"0\",\"upperSection\":null,\"url\":\"/kfootball/record/index.nhn\",\"off\":\"https://imgsports.pstatic.net/images/2015/PC/lnb2/sub_record.png\",\"isImageTypeMenu\":false,\"alt_u\":\"\",\"w\":66,\"onUrl\":\"\",\"on\":\"https://imgsports.pstatic.net/images/2015/PC/lnb2/sub_record_on.png\"},{\"a\":\"0\",\"side\":\"\",\"c\":\"\",\"h\":22,\"alt\":\"구단/협회\",\"className\":\"\",\"l\":\"0\",\"upperSection\":null,\"url\":\"/kfootball/column/columnistList.nhn\",\"off\":\"https://imgsports.pstatic.net/images/2015/PC/lnb2/sub_column.png\",\"isImageTypeMenu\":false,\"alt_u\":\"\",\"w\":64,\"onUrl\":\"/kfootball/column/columnList.nhn;;/kfootball/news/read.nhn?viewType=CLUB\",\"on\":\"https://imgsports.pstatic.net/images/2015/PC/lnb2/sub_column_on.png\"}],\"h\":22,\"alt\":\"축구\",\"className\":\"\",\"l\":\"0\",\"upperSection\":\"kfootball\",\"url\":\"/kfootball/index.nhn\",\"off\":\"https://imgsports.pstatic.net/images/2015/PC/lnb2/soccer.png\",\"isImageTypeMenu\":false,\"alt_u\":\"\",\"w\":38,\"onUrl\":\"/kfootball/index.nhn;/kfootball/issue/index.nhn\",\"on\":\"https://imgsports.pstatic.net/images/2015/PC/lnb2/soccer_on.png\"},{\"a\":\"\",\"side\":\"left\",\"c\":\"worldfootball\",\"subMenuList\":[{\"a\":\"0\",\"side\":\"\",\"c\":\"news\",\"h\":22,\"alt\":\"최신뉴스\",\"className\":\"\",\"l\":\"0\",\"upperSection\":null,\"url\":\"/wfootball/news/index.nhn\",\"off\":\"https://imgsports.pstatic.net/images/2015/PC/lnb2/sub_news.png\",\"isImageTypeMenu\":false,\"alt_u\":\"\",\"w\":60,\"onUrl\":\"/wfootball/news/index.nhn;/epl/news/index.nhn;/bundesliga/news/index.nhn;/primera/news/index.nhn;/seria/news/index.nhn;/champseuro/news/index.nhn;/worldfootballetc/news/index.nhn;/wfootball/news/read.nhn;/epl/news/read.nhn;/bundesliga/news/read.nhn;/primera/news/read.nhn;/seria/news/read.nhn;/champseuro/news/read.nhn;/worldfootballetc/news/read.nhn;/news.nhn\",\"on\":\"https://imgsports.pstatic.net/images/2015/PC/lnb2/sub_news_on.png\"},{\"a\":\"0\",\"side\":\"\",\"c\":\"video\",\"h\":22,\"alt\":\"영상\",\"className\":\"\",\"l\":\"0\",\"upperSection\":null,\"url\":\"/wfootball/vod/index.nhn\",\"off\":\"https://imgsports.pstatic.net/images/2015/PC/lnb2/sub_video.png\",\"isImageTypeMenu\":false,\"alt_u\":\"\",\"w\":39,\"onUrl\":\"\",\"on\":\"https://imgsports.pstatic.net/images/2015/PC/lnb2/sub_video_on.png\"},{\"a\":\"0\",\"side\":\"\",\"c\":\"album\",\"h\":22,\"alt\":\"생생화보\",\"className\":\"\",\"l\":\"0\",\"upperSection\":null,\"url\":\"/photocenter/albumList.nhn?category=wfootball\",\"off\":\"https://imgsports.pstatic.net/images/2015/PC/lnb2/sub_photo.png\",\"isImageTypeMenu\":false,\"alt_u\":\"\",\"w\":60,\"onUrl\":\"/photocenter/photoList.nhn?category=wfootball;/photocenter/photo.nhn?category=wfootball\",\"on\":\"https://imgsports.pstatic.net/images/2015/PC/lnb2/sub_photo_on.png\"},{\"a\":\"0\",\"side\":\"\",\"c\":\"schedule\",\"h\":22,\"alt\":\"일정/결과\",\"className\":\"\",\"l\":\"0\",\"upperSection\":null,\"url\":\"/wfootball/schedule/index.nhn\",\"off\":\"https://imgsports.pstatic.net/images/2015/PC/lnb2/sub_schedule.png\",\"isImageTypeMenu\":false,\"alt_u\":\"\",\"w\":65,\"onUrl\":\"/sports/new/live/index.nhn?category=worldfootball;/russia2018/gameCenter/index.nhn\",\"on\":\"https://imgsports.pstatic.net/images/2015/PC/lnb2/sub_schedule_on.png\"},{\"a\":\"0\",\"side\":\"\",\"c\":\"record\",\"h\":22,\"alt\":\"기록/순위\",\"className\":\"\",\"l\":\"0\",\"upperSection\":null,\"url\":\"/wfootball/record/index.nhn\",\"off\":\"https://imgsports.pstatic.net/images/2015/PC/lnb2/sub_record.png\",\"isImageTypeMenu\":false,\"alt_u\":\"\",\"w\":66,\"onUrl\":\"\",\"on\":\"https://imgsports.pstatic.net/images/2015/PC/lnb2/sub_record_on.png\"}],\"h\":22,\"alt\":\"해외축구\",\"className\":\"\",\"l\":\"0\",\"upperSection\":\"wfootball\",\"url\":\"/wfootball/index.nhn\",\"off\":\"https://imgsports.pstatic.net/images/2015/PC/lnb2/worldfootball.png\",\"isImageTypeMenu\":false,\"alt_u\":\"\",\"w\":60,\"onUrl\":\"/wfootball/index.nhn;/wfootball/issue/index.nhn;\",\"on\":\"https://imgsports.pstatic.net/images/2015/PC/lnb2/worldfootball_on.png\"},{\"a\":\"\",\"side\":\"left\",\"c\":\"basketball\",\"subMenuList\":[{\"a\":\"0\",\"side\":\"\",\"c\":\"news\",\"h\":22,\"alt\":\"최신뉴스\",\"className\":\"\",\"l\":\"0\",\"upperSection\":null,\"url\":\"/basketball/news/index.nhn\",\"off\":\"https://imgsports.pstatic.net/images/2015/PC/lnb2/sub_news.png\",\"isImageTypeMenu\":false,\"alt_u\":\"\",\"w\":60,\"onUrl\":\"/basketball/news/index.nhn;/kbl/news/index.nhn;/nba/news/index.nhn;/wkbl/news/index.nhn;/basketballetc/news/index.nhn;/basketball/news/read.nhn;/kbl/news/read.nhn;/nba/news/read.nhn;/wkbl/news/read.nhn;/basketballetc/news/read.nhn;/news.nhn\",\"on\":\"https://imgsports.pstatic.net/images/2015/PC/lnb2/sub_news_on.png\"},{\"a\":\"0\",\"side\":\"\",\"c\":\"video\",\"h\":22,\"alt\":\"영상\",\"className\":\"\",\"l\":\"0\",\"upperSection\":null,\"url\":\"/basketball/vod/index.nhn\",\"off\":\"https://imgsports.pstatic.net/images/2015/PC/lnb2/sub_video.png\",\"isImageTypeMenu\":false,\"alt_u\":\"\",\"w\":39,\"onUrl\":\"/videoCenter/index.nhn?uCategory=wbasketball;/videoCenter/index.nhn?uCategory=wbasketball&&category=nba;/videoCenter/index.nhn?uCategory=kbasketball&category=kbl;/videoCenter/index.nhn?uCategory=kbasketball&category=wkbl;/videoCenter/index.nhn?uCategory=kbasketball;\",\"on\":\"https://imgsports.pstatic.net/images/2015/PC/lnb2/sub_video_on.png\"},{\"a\":\"0\",\"side\":\"\",\"c\":\"album\",\"h\":22,\"alt\":\"생생화보\",\"className\":\"\",\"l\":\"0\",\"upperSection\":null,\"url\":\"/photocenter/albumList.nhn?category=kbasketball\",\"off\":\"https://imgsports.pstatic.net/images/2015/PC/lnb2/sub_photo.png\",\"isImageTypeMenu\":false,\"alt_u\":\"\",\"w\":60,\"onUrl\":\"/photocenter/albumList.nhn?category=kbasketball;/photocenter/photoList.nhn?category=kbasketball;/photocenter/photo.nhn?category=kbasketball;/photocenter/albumList.nhn?category=nba;/photocenter/photoList.nhn?category=nba;/photocenter/photo.nhn?category=nba;\",\"on\":\"https://imgsports.pstatic.net/images/2015/PC/lnb2/sub_photo_on.png\"},{\"a\":\"0\",\"side\":\"\",\"c\":\"schedule\",\"h\":22,\"alt\":\"일정/결과\",\"className\":\"\",\"l\":\"0\",\"upperSection\":null,\"url\":\"/basketball/schedule/index.nhn\",\"off\":\"https://imgsports.pstatic.net/images/2015/PC/lnb2/sub_schedule.png\",\"isImageTypeMenu\":false,\"alt_u\":\"\",\"w\":65,\"onUrl\":\"/schedule/index.nhn?category=kbl;/schedule/index.nhn?category=nba;/schedule/index.nhn?category=wkbl;/sports/new/live/index.nhn?category=kbl;\",\"on\":\"https://imgsports.pstatic.net/images/2015/PC/lnb2/sub_schedule_on.png\"},{\"a\":\"0\",\"side\":\"\",\"c\":\"record\",\"h\":22,\"alt\":\"기록/순위\",\"className\":\"\",\"l\":\"0\",\"upperSection\":null,\"url\":\"/basketball/record/index.nhn?category=kbl\",\"off\":\"https://imgsports.pstatic.net/images/2015/PC/lnb2/sub_record.png\",\"isImageTypeMenu\":false,\"alt_u\":\"\",\"w\":66,\"onUrl\":\"/basketball/record/index.nhn?category=wkbl;/basketball/record/index.nhn?category=nba\",\"on\":\"https://imgsports.pstatic.net/images/2015/PC/lnb2/sub_record_on.png\"},{\"a\":\"0\",\"side\":\"\",\"c\":\"\",\"h\":22,\"alt\":\"구단/협회\",\"className\":\"\",\"l\":\"0\",\"upperSection\":null,\"url\":\"/basketball/column/columnistList.nhn\",\"off\":\"https://imgsports.pstatic.net/images/2015/PC/lnb2/sub_column.png\",\"isImageTypeMenu\":false,\"alt_u\":\"\",\"w\":64,\"onUrl\":\"/basketball/column/columnList.nhn;/basketball/news/read.nhn?viewType=CLUB\",\"on\":\"https://imgsports.pstatic.net/images/2015/PC/lnb2/sub_column_on.png\"}],\"h\":22,\"alt\":\"농구\",\"className\":\"\",\"l\":\"0\",\"upperSection\":\"basketball\",\"url\":\"/basketball/index.nhn\",\"off\":\"https://imgsports.pstatic.net/images/2015/PC/lnb2/basketball.png\",\"isImageTypeMenu\":false,\"alt_u\":\"\",\"w\":38,\"onUrl\":\"/basketball/index.nhn;/sports/index.nhn?category=kbl;/basketball/issue/index.nhn\",\"on\":\"https://imgsports.pstatic.net/images/2015/PC/lnb2/basketball_on.png\"},{\"a\":\"\",\"side\":\"left\",\"c\":\"kvolleyball\",\"subMenuList\":[{\"a\":\"0\",\"side\":\"\",\"c\":\"kvolleyball\",\"h\":22,\"alt\":\"최신뉴스\",\"className\":\"\",\"l\":\"0\",\"upperSection\":null,\"url\":\"/volleyball/news/index.nhn\",\"off\":\"https://imgsports.pstatic.net/images/2015/PC/lnb2/sub_news.png\",\"isImageTypeMenu\":false,\"alt_u\":\"\",\"w\":60,\"onUrl\":\"/volleyball/news/index.nhn;/volleyball/news/read.nhn;/news.nhn\",\"on\":\"https://imgsports.pstatic.net/images/2015/PC/lnb2/sub_news_on.png\"},{\"a\":\"0\",\"side\":\"\",\"c\":\"video\",\"h\":22,\"alt\":\"영상\",\"className\":\"\",\"l\":\"0\",\"upperSection\":null,\"url\":\"/volleyball/vod/index.nhn\",\"off\":\"https://imgsports.pstatic.net/images/2015/PC/lnb2/sub_video.png\",\"isImageTypeMenu\":false,\"alt_u\":\"\",\"w\":39,\"onUrl\":\"/volleyball/vod/index.nhn;/kvolleyball/vod/index.nhn\",\"on\":\"https://imgsports.pstatic.net/images/2015/PC/lnb2/sub_video_on.png\"},{\"a\":\"0\",\"side\":\"\",\"c\":\"album\",\"h\":22,\"alt\":\"생생화보\",\"className\":\"\",\"l\":\"0\",\"upperSection\":null,\"url\":\"/photocenter/albumList.nhn?category=volleyball\",\"off\":\"https://imgsports.pstatic.net/images/2015/PC/lnb2/sub_photo.png\",\"isImageTypeMenu\":false,\"alt_u\":\"\",\"w\":60,\"onUrl\":\"/photocenter/albumList.nhn?category=volleyball;/photocenter/photoList.nhn?category=volleyball;/photocenter/photo.nhn?category=volleyball;\",\"on\":\"https://imgsports.pstatic.net/images/2015/PC/lnb2/sub_photo_on.png\"},{\"a\":\"0\",\"side\":\"\",\"c\":\"schedule\",\"h\":22,\"alt\":\"일정/결과\",\"className\":\"\",\"l\":\"0\",\"upperSection\":null,\"url\":\"/volleyball/schedule/index.nhn\",\"off\":\"https://imgsports.pstatic.net/images/2015/PC/lnb2/sub_schedule.png\",\"isImageTypeMenu\":false,\"alt_u\":\"\",\"w\":65,\"onUrl\":\"/schedule/index.nhn?category=kvolleyball;/schedule/index.nhn?uCategory=kvolleyball;/volleyball/schedule/index.nhn\",\"on\":\"https://imgsports.pstatic.net/images/2015/PC/lnb2/sub_schedule_on.png\"},{\"a\":\"0\",\"side\":\"\",\"c\":\"record\",\"h\":22,\"alt\":\"기록/순위\",\"className\":\"\",\"l\":\"0\",\"upperSection\":null,\"url\":\"/volleyball/record/index.nhn\",\"off\":\"https://imgsports.pstatic.net/images/2015/PC/lnb2/sub_record.png\",\"isImageTypeMenu\":false,\"alt_u\":\"\",\"w\":66,\"onUrl\":\"\",\"on\":\"https://imgsports.pstatic.net/images/2015/PC/lnb2/sub_record_on.png\"},{\"a\":\"0\",\"side\":\"\",\"c\":\"64\",\"h\":22,\"alt\":\"구단/협회\",\"className\":\"\",\"l\":\"0\",\"upperSection\":null,\"url\":\"/volleyball/column/columnistList.nhn\",\"off\":\"https://imgsports.pstatic.net/images/2015/PC/lnb2/sub_column.png\",\"isImageTypeMenu\":false,\"alt_u\":\"\",\"w\":64,\"onUrl\":\"/volleyball/column/columnList.nhn;/volleyball/column/columnistList.nhn;/kvolleyball/column/columnList.nhn;;/volleyball/news/read.nhn?viewType=CLUB\",\"on\":\"https://imgsports.pstatic.net/images/2015/PC/lnb2/sub_column_on.png\"}],\"h\":22,\"alt\":\"배구\",\"className\":\"\",\"l\":\"0\",\"upperSection\":\"volleyball\",\"url\":\"/volleyball/index.nhn\",\"off\":\"https://imgsports.pstatic.net/images/2015/PC/lnb2/volleyball.png\",\"isImageTypeMenu\":false,\"alt_u\":\"\",\"w\":38,\"onUrl\":\"/volleyball/index.nhn;/volleyball/issue/index.nhn\",\"on\":\"https://imgsports.pstatic.net/images/2015/PC/lnb2/volleyball_on.png\"},{\"a\":\"\",\"side\":\"left\",\"c\":\"golf\",\"subMenuList\":[{\"a\":\"0\",\"side\":\"\",\"c\":\"news\",\"h\":22,\"alt\":\"최신뉴스\",\"className\":\"\",\"l\":\"0\",\"upperSection\":null,\"url\":\"/golf/news/index.nhn\",\"off\":\"https://imgsports.pstatic.net/images/2015/PC/lnb2/sub_news.png\",\"isImageTypeMenu\":false,\"alt_u\":\"\",\"w\":60,\"onUrl\":\"/golf/news/read.nhn;/news.nhn\",\"on\":\"https://imgsports.pstatic.net/images/2015/PC/lnb2/sub_news_on.png\"},{\"a\":\"0\",\"side\":\"\",\"c\":\"video\",\"h\":22,\"alt\":\"영상\",\"className\":\"\",\"l\":\"0\",\"upperSection\":null,\"url\":\"/golf/vod/index.nhn\",\"off\":\"https://imgsports.pstatic.net/images/2015/PC/lnb2/sub_video.png\",\"isImageTypeMenu\":false,\"alt_u\":\"\",\"w\":39,\"onUrl\":\"\",\"on\":\"https://imgsports.pstatic.net/images/2015/PC/lnb2/sub_video_on.png\"},{\"a\":\"0\",\"side\":\"\",\"c\":\"album\",\"h\":22,\"alt\":\"생생화보\",\"className\":\"\",\"l\":\"0\",\"upperSection\":null,\"url\":\"/photocenter/albumList.nhn?category=golf\",\"off\":\"https://imgsports.pstatic.net/images/2015/PC/lnb2/sub_photo.png\",\"isImageTypeMenu\":false,\"alt_u\":\"\",\"w\":60,\"onUrl\":\"/photocenter/photoList.nhn?category=golf;/photocenter/photo.nhn?category=golf\",\"on\":\"https://imgsports.pstatic.net/images/2015/PC/lnb2/sub_photo_on.png\"},{\"a\":\"0\",\"side\":\"\",\"c\":\"schedule\",\"h\":22,\"alt\":\"일정/결과\",\"className\":\"\",\"l\":\"0\",\"upperSection\":null,\"url\":\"/golf/schedule/index.nhn\",\"off\":\"https://imgsports.pstatic.net/images/2015/PC/lnb2/sub_schedule.png\",\"isImageTypeMenu\":false,\"alt_u\":\"\",\"w\":65,\"onUrl\":\"/gameCenter/leaderboard.nhn\",\"on\":\"https://imgsports.pstatic.net/images/2015/PC/lnb2/sub_schedule_on.png\"},{\"a\":\"0\",\"side\":\"\",\"c\":\"record\",\"h\":22,\"alt\":\"기록/순위\",\"className\":\"\",\"l\":\"0\",\"upperSection\":null,\"url\":\"/golf/record/index.nhn\",\"off\":\"https://imgsports.pstatic.net/images/2015/PC/lnb2/sub_record.png\",\"isImageTypeMenu\":false,\"alt_u\":\"\",\"w\":66,\"onUrl\":\"\",\"on\":\"https://imgsports.pstatic.net/images/2015/PC/lnb2/sub_record_on.png\"},{\"a\":\"0\",\"side\":\"\",\"c\":\"\",\"h\":22,\"alt\":\"구단/협회\",\"className\":\"\",\"l\":\"0\",\"upperSection\":null,\"url\":\"/golf/column/columnistList.nhn\",\"off\":\"https://imgsports.pstatic.net/images/2015/PC/lnb2/sub_column.png\",\"isImageTypeMenu\":false,\"alt_u\":\"\",\"w\":64,\"onUrl\":\"/golf/column/columnList.nhn;/golf/news/read.nhn?viewType=CLUB\",\"on\":\"https://imgsports.pstatic.net/images/2015/PC/lnb2/sub_column_on.png\"}],\"h\":22,\"alt\":\"골프\",\"className\":\"\",\"l\":\"0\",\"upperSection\":\"golf\",\"url\":\"/golf/index.nhn\",\"off\":\"https://imgsports.pstatic.net/images/2015/PC/lnb2/golf.png\",\"isImageTypeMenu\":false,\"alt_u\":\"\",\"w\":38,\"onUrl\":\"/golf/index.nhn;/golf/issue/index.nhn\",\"on\":\"https://imgsports.pstatic.net/images/2015/PC/lnb2/golf_on.png\"},{\"a\":\"\",\"side\":\"left\",\"c\":\"general\",\"subMenuList\":[{\"a\":\"0\",\"side\":\"\",\"c\":\"news\",\"h\":22,\"alt\":\"최신뉴스\",\"className\":\"\",\"l\":\"0\",\"upperSection\":null,\"url\":\"/general/news/index.nhn\",\"off\":\"https://imgsports.pstatic.net/images/2015/PC/lnb2/sub_news.png\",\"isImageTypeMenu\":false,\"alt_u\":\"\",\"w\":60,\"onUrl\":\"/general/news/index.nhn;/sportsetc/news/index.nhn;/fight/news/index.nhn;/handball/news/index.nhn;/tennis/news/index.nhn;/sportsindustry/news/index.nhn;/general/news/read.nhn;/sportsetc/news/read.nhn;/fight/news/read.nhn;/handball/news/read.nhn;/tennis/news/read.nhn;/baduk/news/index.nhn;/sportsindustry/news/read.nhn;/baduk/news/read.nhn;/pcp2018/news/read.nhn;/ag2018/news/index.nhn;/news.nhn\",\"on\":\"https://imgsports.pstatic.net/images/2015/PC/lnb2/sub_news_on.png\"},{\"a\":\"0\",\"side\":\"\",\"c\":\"video\",\"h\":22,\"alt\":\"영상\",\"className\":\"\",\"l\":\"0\",\"upperSection\":null,\"url\":\"/general/vod/index.nhn\",\"off\":\"https://imgsports.pstatic.net/images/2015/PC/lnb2/sub_video.png\",\"isImageTypeMenu\":false,\"alt_u\":\"\",\"w\":39,\"onUrl\":\"\",\"on\":\"https://imgsports.pstatic.net/images/2015/PC/lnb2/sub_video_on.png\"},{\"a\":\"0\",\"side\":\"\",\"c\":\"album\",\"h\":22,\"alt\":\"생생화보\",\"className\":\"\",\"l\":\"0\",\"upperSection\":null,\"url\":\"/photocenter/albumList.nhn?category=general\",\"off\":\"https://imgsports.pstatic.net/images/2015/PC/lnb2/sub_photo.png\",\"isImageTypeMenu\":false,\"alt_u\":\"\",\"w\":60,\"onUrl\":\"/photocenter/photoList.nhn?category=general;/photocenter/photo.nhn?category=general;/photocenter/albumList.nhn?category=etc;/photocenter/photoList.nhn?category=etc;/photocenter/photo.nhn?category=etc;/photocenter/albumList.nhn?category=pcp2018;/photocenter/photoList.nhn?category=pcp2018;/photocenter/photo.nhn?category=pcp2018;\",\"on\":\"https://imgsports.pstatic.net/images/2015/PC/lnb2/sub_photo_on.png\"},{\"a\":\"0\",\"side\":\"\",\"c\":\"\",\"h\":22,\"alt\":\"구단/협회\",\"className\":\"\",\"l\":\"0\",\"upperSection\":null,\"url\":\"/general/column/columnistList.nhn\",\"off\":\"https://imgsports.pstatic.net/images/2015/PC/lnb2/sub_column.png\",\"isImageTypeMenu\":false,\"alt_u\":\"\",\"w\":64,\"onUrl\":\"/general/column/columnList.nhn;/general/news/read.nhn?viewType=CLUB\",\"on\":\"https://imgsports.pstatic.net/images/2015/PC/lnb2/sub_column_on.png\"},{\"a\":\"0\",\"side\":\"\",\"c\":\"ioctv\",\"h\":38,\"alt\":\"올림픽 채널\",\"className\":\"\",\"l\":\"0\",\"upperSection\":null,\"url\":\"/general/vod/index.nhn?category=ioctv\",\"off\":\"https://sports-phinf.pstatic.net/20201028_266/1603885054117oGjdM_PNG/ol_channel_off.png\",\"isImageTypeMenu\":true,\"alt_u\":\"\",\"w\":158,\"onUrl\":\"\",\"on\":\"https://sports-phinf.pstatic.net/20201028_159/1603885045353Rov1k_PNG/ol_channel_on.png\"}],\"h\":22,\"alt\":\"일반\",\"className\":\"\",\"l\":\"0\",\"upperSection\":\"general\",\"url\":\"/general/index.nhn\",\"off\":\"https://imgsports.pstatic.net/images/2015/PC/lnb2/general.png\",\"isImageTypeMenu\":false,\"alt_u\":\"\",\"w\":38,\"onUrl\":\"/general/index.nhn;/general/issue/index.nhn;\",\"on\":\"https://imgsports.pstatic.net/images/2015/PC/lnb2/general_on.png\"},{\"a\":\"\",\"side\":\"left\",\"c\":\"esports\",\"subMenuList\":[{\"a\":\"0\",\"side\":\"\",\"c\":\"news\",\"h\":22,\"alt\":\"최신뉴스\",\"className\":\"\",\"l\":\"0\",\"upperSection\":null,\"url\":\"/esports/news/index.nhn\",\"off\":\"https://imgsports.pstatic.net/images/2015/PC/lnb2/sub_news.png\",\"isImageTypeMenu\":false,\"alt_u\":\"\",\"w\":60,\"onUrl\":\"/esports/news/index.nhn;/lol/news/index.nhn;/starcraft2/news/index.nhn;/fifa/news/index.nhn;/dota/news/index.nhn;/herthstone/news/index.nhn;/esportsetc/news/index.nhn;/gameetc/news/index.nhn;/esports/news/read.nhn;/lol/news/read.nhn;/starcraft2/news/read.nhn;/fifa/news/read.nhn;/dota/news/read.nhn;/herthstone/news/read.nhn;/esportsetc/news/read.nhn;/gameetc/news/read.nhn;/news.nhn\",\"on\":\"https://imgsports.pstatic.net/images/2015/PC/lnb2/sub_news_on.png\"},{\"a\":\"0\",\"side\":\"\",\"c\":\"video\",\"h\":22,\"alt\":\"영상\",\"className\":\"\",\"l\":\"0\",\"upperSection\":null,\"url\":\"/esports/vod/index.nhn\",\"off\":\"https://imgsports.pstatic.net/images/2015/PC/lnb2/sub_video.png\",\"isImageTypeMenu\":false,\"alt_u\":\"\",\"w\":39,\"onUrl\":\"\",\"on\":\"https://imgsports.pstatic.net/images/2015/PC/lnb2/sub_video_on.png\"},{\"a\":\"0\",\"side\":\"\",\"c\":\"album\",\"h\":22,\"alt\":\"생생화보\",\"className\":\"\",\"l\":\"0\",\"upperSection\":null,\"url\":\"/photocenter/albumList.nhn?category=esports\",\"off\":\"https://imgsports.pstatic.net/images/2015/PC/lnb2/sub_photo.png\",\"isImageTypeMenu\":false,\"alt_u\":\"\",\"w\":60,\"onUrl\":\"/photocenter/photoList.nhn?category=esports;/photocenter/photo.nhn?category=esports\",\"on\":\"https://imgsports.pstatic.net/images/2015/PC/lnb2/sub_photo_on.png\"},{\"a\":\"0\",\"side\":\"\",\"c\":\"schedule\",\"h\":22,\"alt\":\"일정/결과\",\"className\":\"\",\"l\":\"0\",\"upperSection\":null,\"url\":\"/esports/schedule/index.nhn\",\"off\":\"https://imgsports.pstatic.net/images/2015/PC/lnb2/sub_schedule.png\",\"isImageTypeMenu\":false,\"alt_u\":\"\",\"w\":65,\"onUrl\":\"\",\"on\":\"https://imgsports.pstatic.net/images/2015/PC/lnb2/sub_schedule_on.png\"},{\"a\":\"0\",\"side\":\"\",\"c\":\"team\",\"h\":22,\"alt\":\"구단/협회\",\"className\":\"\",\"l\":\"0\",\"upperSection\":null,\"url\":\"/esports/column/columnistList.nhn\",\"off\":\"https://imgsports.pstatic.net/images/2015/PC/lnb2/sub_column.png\",\"isImageTypeMenu\":false,\"alt_u\":\"\",\"w\":64,\"onUrl\":\"/esports/column/columnList.nhn;/esports/news/read.nhn?viewType=CLUB\",\"on\":\"https://imgsports.pstatic.net/images/2015/PC/lnb2/sub_column_on.png\"}],\"h\":22,\"alt\":\"e스포츠&게임\",\"className\":\"\",\"l\":\"0\",\"upperSection\":\"esports\",\"url\":\"/esports/index.nhn\",\"off\":\"https://imgsports.pstatic.net/images/2015/PC/lnb2/esports.png\",\"isImageTypeMenu\":false,\"alt_u\":\"\",\"w\":86,\"onUrl\":\"/esports/index.nhn;/esports/issue/index.nhn\",\"on\":\"https://imgsports.pstatic.net/images/2015/PC/lnb2/esports_on.png\"},{\"a\":\"\",\"side\":\"right\",\"c\":\"scoreboard\",\"subMenuList\":[],\"h\":22,\"alt\":\"오늘의 경기\",\"className\":\"\",\"l\":\"0\",\"upperSection\":null,\"url\":\"/scoreboard/index.nhn\",\"off\":\"https://imgsports.pstatic.net/images/2015/PC/lnb2/scoreboard.png\",\"isImageTypeMenu\":false,\"alt_u\":\"\",\"w\":47,\"onUrl\":\"/main/calendar.nhn;/scoreboard/index.nhn;\",\"on\":\"https://imgsports.pstatic.net/images/2015/PC/lnb2/scoreboard_on.png\"},{\"a\":\"\",\"side\":\"right\",\"c\":\"column\",\"subMenuList\":[],\"h\":22,\"alt\":\"연재\",\"className\":\"\",\"l\":\"0\",\"upperSection\":null,\"url\":\"/column/columnistList.nhn\",\"off\":\"https://sports-phinf.pstatic.net/20170830_97/15040692784550IFtd_PNG/column1_on.png\",\"isImageTypeMenu\":false,\"alt_u\":\"\",\"w\":35,\"onUrl\":\"/column/columnList.nhn\",\"on\":\"https://sports-phinf.pstatic.net/20170830_21/15040692610719i4Vl_PNG/column1.png\"},{\"a\":\"\",\"side\":\"right\",\"c\":\"ranking\",\"subMenuList\":[],\"h\":22,\"alt\":\"랭킹\",\"className\":\"\",\"l\":\"0\",\"upperSection\":null,\"url\":\"/ranking/index.nhn\",\"off\":\"https://imgsports.pstatic.net/images/2015/PC/lnb2/ranking.png\",\"isImageTypeMenu\":false,\"alt_u\":\"\",\"w\":36,\"onUrl\":\"\",\"on\":\"https://imgsports.pstatic.net/images/2015/PC/lnb2/ranking_on.png\"}];\\n</script>\\n\\n            \\n\\n\\n<div class=\"sports_menu\" role=\"navigation\" id=\"_sports_lnb_menu\">\\n\\t<div class=\"menu_area\">\\n\\t\\t<h2 class=\"blind\">메인 메뉴</h2>\\n\\t\\t<ul class=\"main_menu_list\" role=\"menubar\">\\n\\t\\t</ul>\\n\\t\\t<ul class=\"side_menu_list\" role=\"menubar\">\\n\\t\\t</ul>\\n\\n\\t\\t<form name=\"news_search\" method=\"get\" action=\"https://search.naver.com/search.naver\" target=_blank>\\n\\t\\t\\t<fieldset class=\"search_field\">\\n\\t\\t\\t\\t<legend class=\"blind\">스포츠 검색</legend>\\n\\t\\t\\t\\t<input type=\"hidden\" name=\"where\" value=\"news\"/>\\n\\t\\t\\t\\t<input type=\"hidden\" name=\"ie\" value=\"UTF-8\">\\n\\t\\t\\t\\t<input type=\"text\" class=\"input_search\" aria-label=\"검색어 입력\" id=\"query\" name=\"query\">\\n\\t\\t\\t\\t<button type=\"submit\" class=\"button_search\" id=\"querybtn\"\\n\\t\\t\\t\\t\\t\\tonClick=\"javascript:clickcr(this, \\'LNB.search\\', \\'\\', \\'\\', event);\"><span class=\"blind\">검색</span>\\n\\t\\t\\t\\t</button>\\n\\t\\t\\t</fieldset>\\n\\t\\t</form>\\n\\t</div>\\n</div>\\n\\n<script id=\"_sports_lnb_menu_li_template\" type=\"text/x-handlebars-template\">\\n\\t<li class=\"main_menu_item\" role=\"presentation\">\\n\\t\\t<a href=\"{{url}}\" class=\"link_main_menu\" role=\"menuitem\" {{#if selected}}aria-current=\"page\" {{/if}}\\n\\t\\t\\t\\t\\t\\t\\t\\t\\t\\t\\t\\t\\t\\t\\t\\t\\t\\t\\t\\t\\t\\t\\t\\t\\t   onclick=\"clickcr(this,\\n\\t\\t\\t\\t\\t\\t\\t\\t\\t\\t\\t\\t\\t\\t\\t\\t\\t\\t\\t\\t\\t\\t\\t\\t\\t   \\'LNB.{{c}}\\',\\n\\t\\t\\t\\t\\t\\t\\t\\t\\t\\t\\t\\t\\t\\t\\t\\t\\t\\t\\t\\t\\t\\t\\t\\t\\t   \\'{{c}}\\', \\'\\',\\n\\t\\t\\t\\t\\t\\t\\t\\t\\t\\t\\t\\t\\t\\t\\t\\t\\t\\t\\t\\t\\t\\t\\t\\t\\t   event);\">{{alt}}</a>\\n\\t\\t<ul class=\"sub_menu_list\" role=\"menubar\">\\n\\t\\t\\t{{#each subMenuList}}\\n\\t\\t\\t<li class=\"sub_menu_item {{#isSpotType}}type_spot{{/isSpotType}}\" role=\"presentation\">\\n\\t\\t\\t\\t<a href=\"{{url}}\" class=\"link_sub_menu\" role=\"menuitem\"\\n\\t\\t\\t\\t   onclick=\"clickcr(this, \\'LNB.{{c}}\\', \\'{{c}}\\', \\'\\', event);\" {{#if selected}}aria-current=\"page\" {{/if}}>\\n\\t\\t\\t\\t\\t{{#if isImageTypeMenu}}\\n\\t\\t\\t\\t\\t\\t{{#if selected}}\\n\\t\\t\\t\\t\\t\\t\\t<img src=\"{{on}}\" width=\"{{w}}\" height=\"{{h}}\" alt=\"{{alt}}\">\\n\\t\\t\\t\\t\\t\\t{{else}}\\n\\t\\t\\t\\t\\t\\t\\t<img src=\"{{off}}\" width=\"{{w}}\" height=\"{{h}}\" alt=\"{{alt}}\">\\n\\t\\t\\t\\t\\t\\t{{/if}}\\n\\t\\t\\t\\t\\t{{else}}\\n\\t\\t\\t\\t\\t\\t{{alt}}\\n\\t\\t\\t\\t\\t{{/if}}\\n\\t\\t\\t\\t</a>\\n\\t\\t\\t</li>\\n\\t\\t\\t{{/each}}\\n\\t\\t</ul>\\n\\t</li>\\n</script>\\n\\n\\n<script>\\n\\tnaver = window.naver || {};\\n\\tnaver.sports = naver.sports || {};\\n\\tnaver.sports.top = naver.sports.top || {};\\n\\tnaver.sports.top.Lnb = eg.Class({\\n\\n\\t\\tconstruct: function (htOption) {\\n\\t\\t\\tthis._initVars(htOption);\\n\\t\\t\\tthis._initHandlebarsTemplate();\\n\\t\\t\\tthis._init();\\n\\t\\t\\tthis._setEventHandler();\\n\\t\\t},\\n\\t\\t_initVars: function (htOption) {\\n\\t\\t\\tthis._lnbMenus = htOption.lnbMenus || {};\\n\\t\\t\\tthis._pathname = location.pathname;\\n\\t\\t\\tthis._search = location.search;\\n\\t\\t\\tthis._targetUpperSection = htOption.targetUpperSection;\\n\\n\\t\\t},\\n\\t\\t_initHandlebarsTemplate: function () {\\n\\t\\t\\tthis._sportsLnbMenuLiTemplate = Handlebars.compile($(\"#_sports_lnb_menu_li_template\").html());\\n\\n\\n\\t\\t\\tHandlebars.registerHelper(\\'isSpotType\\', function (options) {\\n\\t\\t\\t\\tif (this.c === \\'baseball9\\' || this.c === \\'spotv\\') {\\n\\t\\t\\t\\t\\treturn options.fn(this);\\n\\t\\t\\t\\t} else {\\n\\t\\t\\t\\t\\treturn options.inverse(this);\\n\\t\\t\\t\\t}\\n\\t\\t\\t});\\n\\n\\t\\t},\\n\\t\\t_init: function () {\\n\\n\\t\\t\\tif ($(\"div#lnb_main_sub\").length > 0) {\\n\\t\\t\\t\\t$(\"div#lnb_main_sub\").detach();\\n\\t\\t\\t}\\n\\n\\t\\t\\t_.each(this._lnbMenus, $.proxy(function (menu) {\\n\\t\\t\\t\\tvar upperSection = menu.upperSection;\\n\\t\\t\\t\\tthis._updateSelectedMenu(menu, upperSection);\\n\\t\\t\\t\\t_.each(menu.subMenuList, $.proxy(function (subMenu) {\\n\\t\\t\\t\\t\\tthis._updateSelectedMenu(subMenu, upperSection);\\n\\t\\t\\t\\t}, this));\\n\\t\\t\\t}, this));\\n\\n\\t\\t\\tthis._draw();\\n\\t\\t},\\n\\t\\t_setEventHandler: function () {\\n\\t\\t},\\n\\t\\t_draw: function () {\\n\\t\\t\\t_.each(this._lnbMenus, $.proxy(function (menu) {\\n\\t\\t\\t\\tvar menuHtml = this._sportsLnbMenuLiTemplate(menu);\\n\\n\\t\\t\\t\\tif (menu.side === \\'left\\') {\\n\\t\\t\\t\\t\\t$(\"#_sports_lnb_menu ul.main_menu_list\").last().append(menuHtml);\\n\\t\\t\\t\\t} else {\\n\\t\\t\\t\\t\\t$(\"#_sports_lnb_menu ul.side_menu_list\").last().append(menuHtml);\\n\\t\\t\\t\\t}\\n\\n\\t\\t\\t}, this));\\n\\n\\t\\t\\tif ($(\"a.link_main_menu[aria-current=\\'page\\']\").siblings(\"ul\").children().length > 0) {\\n\\t\\t\\t\\t$(\"#_sports_lnb_menu\").addClass(\"type_submenu\");\\n\\t\\t\\t}\\n\\t\\t},\\n\\n\\t\\t_updateSelectedMenu: function (menu, upperSection) {\\n\\t\\t\\tvar urlListToActivate = this._getUrlListToActivate(menu);\\n\\n\\t\\t\\tfor (var j = 0; j < urlListToActivate.length; j++) {\\n\\t\\t\\t\\tvar urlToActivate = urlListToActivate[j];\\n\\n\\t\\t\\t\\tif (_.isEqual(urlToActivate, this._pathname) && ( _.isEqual(this._pathname, \"/news\") || _.isEqual(this._pathname, \"/news.nhn\")) && _.isEqual(upperSection, this._targetUpperSection)) {\\n\\t\\t\\t\\t\\tmenu.selected = true;\\n\\t\\t\\t\\t} else if (_.isEqual(urlToActivate, this._pathname) && !_.isEqual(this._pathname, \"/news\") && !_.isEqual(this._pathname, \"/news.nhn\") ) {\\n\\t\\t\\t\\t\\tmenu.selected = true;\\n\\t\\t\\t\\t} else if (urlToActivate.indexOf(this._pathname) > -1 && this._hasQueryParameterToActivate(urlToActivate, this._search)) {\\n\\t\\t\\t\\t\\tmenu.selected = true;\\n\\t\\t\\t\\t}\\n\\t\\t\\t}\\n\\t\\t},\\n\\n\\t\\t_getUrlListToActivate: function (lnbMenuInfo) {\\n\\t\\t\\tvar result = [];\\n\\n\\t\\t\\tresult.push(lnbMenuInfo.url);\\n\\t\\t\\tresult.push(lnbMenuInfo.url.replace(/.nhn/gi,\\'\\'));\\n\\n\\t\\t\\tvar urlListToActivate = [];\\n\\t\\t\\tvar onUrl = $.trim(lnbMenuInfo.onUrl);\\n\\n\\t\\t\\tif (onUrl.length > 0) {\\n\\t\\t\\t\\turlListToActivate = onUrl.replace(/.nhn/gi,\\'\\').split(\";\");\\n\\t\\t\\t\\tresult = result.concat(onUrl.split(\";\"));\\n\\t\\t\\t\\tresult = result.concat(urlListToActivate);\\n\\t\\t\\t}\\n\\n\\t\\t\\tvar subMenuList = lnbMenuInfo.subMenuList;\\n\\n\\t\\t\\tif (subMenuList) {\\n\\t\\t\\t\\tfor (var i = 0; i < subMenuList.length; i++) {\\n\\t\\t\\t\\t\\tvar subMenu = lnbMenuInfo.subMenuList[i];\\n\\t\\t\\t\\t\\tresult.push(subMenu.url);\\n\\t\\t\\t\\t\\tresult.push(subMenu.url.replace(/.nhn/gi,\\'\\'));\\n\\t\\t\\t\\t\\tvar onSubUrl = $.trim(subMenu.onUrl);\\n\\t\\t\\t\\t\\tif (onSubUrl.length > 0) {\\n\\t\\t\\t\\t\\t\\tresult = result.concat(onSubUrl.split(\";\"));\\n\\t\\t\\t\\t\\t\\tresult = result.concat(onSubUrl.replace(/.nhn/gi,\\'\\').split(\";\"));\\n\\t\\t\\t\\t\\t}\\n\\t\\t\\t\\t}\\n\\t\\t\\t}\\n\\n\\t\\t\\treturn result;\\n\\t\\t},\\n\\t\\t_hasQueryParameterToActivate: function (urlToActivate, currentQueryParameter) {\\n\\t\\t\\tvar queryParameterToActivate = getURLParameter(urlToActivate);\\n\\t\\t\\tvar currentQueryParameter = getURLParameter(currentQueryParameter);\\n\\n\\t\\t\\tif (!queryParameterToActivate || !currentQueryParameter) {\\n\\t\\t\\t\\treturn;\\n\\t\\t\\t}\\n\\n\\t\\t\\tvar queryParameterToActivateMap = changeQueryStringToObject(queryParameterToActivate);\\n\\t\\t\\tvar currentQueryParameterMap = changeQueryStringToObject(currentQueryParameter);\\n\\n\\t\\t\\tfor (var i in queryParameterToActivateMap) {\\n\\t\\t\\t\\tfor (var j in currentQueryParameterMap) {\\n\\t\\t\\t\\t\\tif (i == j && queryParameterToActivateMap[i] == currentQueryParameterMap[j]) {\\n\\t\\t\\t\\t\\t\\treturn true;\\n\\t\\t\\t\\t\\t}\\n\\t\\t\\t\\t}\\n\\t\\t\\t}\\n\\n\\t\\t\\treturn false;\\n\\t\\t}\\n\\t});\\n\\n\\tnew naver.sports.top.Lnb({\\n\\t\\t\"lnbMenus\": lnbMenuInfoList,\\n\\t\\t\\'targetUpperSection\\': \\'\\'\\n\\t});\\n</script>\\n\\n</div>\\n<script type=\"text/javascript\" charset=\"utf-8\" src=\"https://ssl.pstatic.net/static.gn/templates/gnb_utf8.nhn?20210511\"></script>\\n<script type=\"text/javascript\">\\n\\t//NOTE : GNB init\\n\\tvar gnb_option = {\\n\\t\\tgnb_one_naver: 1,\\n\\t\\tgnb_brightness: 1,\\n\\t\\tgnb_login: encodeURIComponent(window.location.href),\\n\\t\\tgnb_logout: encodeURIComponent(window.location.href)\\n\\t};\\n\\n\\t(function () {\\n\\t\\tfunction loadGNB() {\\n\\t\\t\\t//NOTE : https://ssl.pstatic.net/static.gn/templates/gnb_utf8.nhn 회원쪽 gnb src 을 못 가져 왔을 때 방어처리\\n\\t\\t\\tif (typeof getGNB === \"function\") {\\n\\t\\t\\t\\tgetGNB();\\n\\t\\t\\t}\\n\\t\\t}\\n\\n\\t\\twindow.attachEvent ? window.attachEvent(\\'onload\\', loadGNB) : window.addEventListener(\\'load\\', loadGNB, false);\\n\\t})();\\n</script>\\n\\t<div id=\"container\" role=\"main\">\\n\\t\\n<div id=\"spot\">\\n    <div class=\"home_spot\">\\n        \\n\\n\\n\\n\\n\\t<script id=\"_section_home_livebox_score_card_template\" type=\"text/x-handlebars-template\">\\n\\t\\t<div class=\"live_box_card {{#if thumbnailImage}}type_live{{/if}}\">\\n\\t\\t\\t<div class=\"category\">{{categoryName}}</div>\\n\\t\\t\\t{{#if thumbnailImage}}\\n\\t\\t\\t<div class=\"image_area\">\\n\\t\\t\\t\\t<span class=\"image\"><img src=\"{{thumbnailImage}}\" alt=\"\" width=\"246\" height=\"132\"></span>\\n\\t\\t\\t\\t<span class=\"common_live_tag\"><span class=\"blind\">LIVE</span></span>\\n\\t\\t\\t\\t{{#if liveTotalView}}<span class=\"live_viewer\"><span class=\"number\">{{numberFormat liveTotalView}}</span> 시청</span>{{/if}}\\n\\t\\t\\t</div>\\n\\t\\t\\t{{/if}}\\n\\t\\t\\t<div class=\"match_info\">\\n\\t\\t\\t\\t<div class=\"match_status\">\\n\\t\\t\\t\\t\\t{{#if liveSchedule}}\\n\\t\\t\\t\\t\\t\\t{{#if thumbnailImage}}\\n\\t\\t\\t\\t\\t\\t\\t<span class=\"status\">{{statusInfo}}</span>\\n\\t\\t\\t\\t\\t\\t\\t<span class=\"league\">{{categoryName}}</span>\\n\\t\\t\\t\\t\\t\\t{{else}}\\n\\t\\t\\t\\t\\t\\t\\t<span class=\"common_live_tag\"><span class=\"blind\">LIVE</span></span>\\n\\t\\t\\t\\t\\t\\t\\t<span class=\"status\">{{statusInfo}}</span>\\n\\t\\t\\t\\t\\t\\t{{/if}}\\n\\t\\t\\t\\t\\t{{else}}\\n\\t\\t\\t\\t\\t<span class=\"versus\">VS</span>\\n\\t\\t\\t\\t\\t<span class=\"status\">{{gameTimeHHmm}} 예정</span>\\n\\t\\t\\t\\t\\t{{/if}}\\n\\t\\t\\t\\t</div>\\n\\t\\t\\t\\t<div class=\"away_team\">\\n\\t\\t\\t\\t\\t{{#if liveSchedule}}\\n\\t\\t\\t\\t\\t<span class=\"score\"><span class=\"point\">{{teamScore1}}</span>\\n\\t\\t\\t\\t\\t{{#ifCond homeTeamPenaltyScore \\'>=\\' 0 }}\\n\\t\\t\\t\\t\\t\\t<i class=\"pso\"><span class=\"blind\">승부차기</span>{{homeTeamPenaltyScore}}</i>\\n\\t\\t\\t\\t\\t{{/ifCond}}\\n\\t\\t\\t\\t</span>\\n\\t\\t\\t\\t\\t{{/if}}\\n\\t\\t\\t\\t\\t<span class=\"team\">\\n\\t\\t\\t\\t\\t\\t{{#if teamLogo1}}\\n\\t\\t\\t\\t\\t<img src=\"{{teamLogo1}}\" width=\"30\" height=\"30\" alt=\"{{teamName}}\" onerror=\"this.src=\\'https://sports-phinf.pstatic.net/team/no_emblem_s_square.png\\'\" >\\n\\t\\t\\t\\t\\t\\t{{/if}}\\n\\t\\t\\t\\t\\t<span class=\"name\">{{teamName1}}</span>\\n\\t\\t\\t\\t</span>\\n\\t\\t\\t\\t</div>\\n\\t\\t\\t\\t<div class=\"home_team\">\\n\\t\\t\\t\\t\\t{{#if liveSchedule}}\\n\\t\\t\\t\\t\\t<span class=\"score\"><span class=\"point\">{{teamScore2}}</span>\\n\\t\\t\\t\\t\\t{{#ifCond awayTeamPenaltyScore \\'>=\\' 0 }}\\n\\t\\t\\t\\t\\t\\t<i class=\"pso\"><span class=\"blind\">승부차기</span>{{awayTeamPenaltyScore}}</i>\\n\\t\\t\\t\\t\\t{{/ifCond}}\\n\\t\\t\\t\\t</span>\\n\\t\\t\\t\\t\\t{{/if}}\\n\\t\\t\\t\\t\\t<span class=\"team\">\\n\\t\\t\\t\\t\\t\\t{{#if teamLogo2}}\\n\\t\\t\\t\\t\\t<img src=\"{{teamLogo2}}\" width=\"30\" height=\"30\" alt=\"{{teamName2}}\" onerror=\"this.src=\\'https://sports-phinf.pstatic.net/team/no_emblem_s_square.png\\'\">\\n\\t\\t\\t\\t\\t\\t{{/if}}\\n\\t\\t\\t\\t\\t<span class=\"name\">{{teamName2}}</span>\\n\\t\\t\\t\\t</span>\\n\\t\\t\\t\\t</div>\\n\\t\\t\\t</div>\\n\\t\\t\\t{{#ifCond categoryId \\'!=\\' \\'nba\\'}}\\n\\t\\t\\t<a href=\"{{pcUrl}}\" class=\"link_live\" aria-label=\"새창\"\\n\\t\\t\\t   onclick=\"clickcr(this, \\'lbx.match\\', \\'\\', \\'\\', event);\"><span class=\"blind\">영상 보기</span></a>\\n\\t\\t\\t{{/ifCond}}\\n\\t\\t</div>\\n\\t</script>\\n\\n\\t<script id=\"_section_home_livebox_radio_card_template\" type=\"text/x-handlebars-template\">\\n\\t\\t<div class=\"live_box_card type_live\">\\n\\t\\t\\t<div class=\"category\">온에어</div>\\n\\t\\t\\t<div class=\"image_area\">\\n\\t\\t\\t\\t<span class=\"image\"><img src=\"{{thumbnailImage}}\" alt=\"\" width=\"246\" height=\"132\"></span>\\n\\t\\t\\t\\t<span class=\"common_live_tag\"><span class=\"blind\">LIVE</span></span>\\n\\t\\t\\t</div>\\n\\t\\t\\t<div class=\"onair_info\">\\n\\t\\t\\t\\t<div class=\"onair_title\">{{radioTitle}}</div>\\n\\t\\t\\t\\t<div class=\"onair_press\">\\n\\t\\t\\t\\t\\t<span class=\"channel\">{{programTitle}}</span>\\n\\t\\t\\t\\t\\t<span class=\"cast\">{{casters}}</span>\\n\\t\\t\\t\\t</div>\\n\\t\\t\\t</div>\\n\\t\\t\\t{{#ifCond categoryId \\'!=\\' \\'nba\\'}}\\n\\t\\t\\t<a href=\"{{pcUrl}}\" class=\"link_live\" aria-label=\"새창\"\\n\\t\\t\\t   onclick=\"clickcr(this, \\'lbx.match\\', \\'\\', \\'\\', event);\" {{#ifCond visibleUrlEnable \\'==\\' \\'Y\\'}} target=\"_blank\" {{/ifCond}} ><span class=\"blind\">영상 보기</span></a>\\n\\t\\t\\t{{/ifCond}}\\n\\t\\t</div>\\n\\t</script>\\n\\n\\t<script id=\"_section_home_livebox_text_card_template\" type=\"text/x-handlebars-template\">\\n\\t\\t<div class=\"live_box_card {{#if thumbnailImage}}type_live{{/if}}\">\\n\\t\\t\\t<div class=\"category\">{{categoryName}}</div>\\n\\t\\t\\t{{#if thumbnailImage}}\\n\\t\\t\\t<div class=\"image_area\">\\n\\t\\t\\t\\t<span class=\"image\"><img src=\"{{thumbnailImage}}\" alt=\"\" width=\"246\" height=\"132\"></span>\\n\\t\\t\\t\\t<span class=\"common_live_tag\"><span class=\"blind\">LIVE</span></span>\\n\\t\\t\\t\\t{{#if liveTotalView}}<span class=\"live_viewer\"><span class=\"number\">{{numberFormat liveTotalView}}</span> 시청</span>{{/if}}\\n\\t\\t\\t</div>\\n\\t\\t\\t{{/if}}\\n\\t\\t\\t<div class=\"general_info\">\\n\\t\\t\\t\\t{{#unless thumbnailImage}}\\n\\t\\t\\t\\t<div class=\"match_status\">\\n\\t\\t\\t\\t\\t<span class=\"common_live_tag\"><span class=\"blind\">LIVE</span></span>\\n\\t\\t\\t\\t</div>\\n\\t\\t\\t\\t{{/unless}}\\n\\t\\t\\t\\t<div class=\"match_title\">{{title}}</div>\\n\\t\\t\\t\\t{{#if thumbnailImage}}\\n\\t\\t\\t\\t<div class=\"match_press\">\\n\\t\\t\\t\\t\\t<span class=\"league\">{{categoryName}}</span>\\n\\t\\t\\t\\t</div>\\n\\t\\t\\t\\t{{/if}}\\n\\t\\t\\t</div>\\n\\t\\t\\t{{#ifCond categoryId \\'!=\\' \\'nba\\'}}\\n\\t\\t\\t<a href=\"{{pcUrl}}\" class=\"link_live\" aria-label=\"새창\"\\n\\t\\t\\t   onclick=\"clickcr(this, \\'lbx.match\\', \\'\\', \\'\\', event);\"><span class=\"blind\">영상 보기</span></a>\\n\\t\\t\\t{{/ifCond}}\\n\\t\\t</div>\\n\\t</script>\\n\\n\\n\\t<script id=\"_section_home_livebox_text_before_card_template\" type=\"text/x-handlebars-template\">\\n\\t\\t<div class=\"live_box_card\">\\n\\t\\t\\t<div class=\"category\">{{categoryName}}</div>\\n\\t\\t\\t<div class=\"general_info\">\\n\\t\\t\\t\\t<div class=\"match_status\">\\n\\t\\t\\t\\t\\t<span class=\"status\">{{gameTimeHHmm}} 예정</span>\\n\\t\\t\\t\\t</div>\\n\\t\\t\\t\\t<div class=\"match_title\">{{title}}</div>\\n\\t\\t\\t</div>\\n\\t\\t\\t{{#ifCond categoryId \\'!=\\' \\'nba\\'}}\\n\\t\\t\\t<a href=\"{{pcUrl}}\" class=\"link_live\" aria-label=\"새창\"\\n\\t\\t\\t   onclick=\"clickcr(this, \\'lbx.match\\', \\'\\', \\'\\', event);\"><span class=\"blind\">영상 보기</span></a>\\n\\t\\t\\t{{/ifCond}}\\n\\t\\t</div>\\n\\t</script>\\n\\n\\t<script id=\"_section_home_livebox_scroll_pagination_template\" type=\"text/x-handlebars-template\">\\n\\t\\t<li class=\"page_item\" {{#ifCond pageIndex\\n\\t\\t\\'==\\' 1}} aria-current=\"location\" {{/ifCond}} data-pageNum=\"{{pageIndex}}\" ><span\\n\\t\\t\\tclass=\"blind\">{{pageIndex}}</span></li>\\n\\t</script>\\n\\n\\n\\t<div class=\"home_live_box\" style=\"display:block\" id=\"_section_home_livebox_root\">\\n\\t\\t<div class=\"live_slider\">\\n\\t\\t\\t<h2 class=\"blind\">오늘의 경기</h2>\\n\\t\\t\\t<div class=\"live_card_list new_scroll\" id=\"_section_home_live_scroll_holder\">\\n\\t\\t\\t\\t<div class=\"scroller\" id=\"_section_home_live_scroll\">\\n\\t\\t\\t\\t</div>\\n\\t\\t\\t</div>\\n\\t\\t</div>\\n\\t\\t<button type=\"button\" class=\"button_prev\"\\n\\t\\t\\t\\tstyle=\"display:none; left:-52px; transition: all 300ms cubic-bezier(0.215, 0.61, 0.355, 1)\">\\n\\t\\t\\t<span class=\"blind\">이전</span>\\n\\t\\t\\t<span class=\"page\">1</span>\\n\\t\\t</button>\\n\\t\\t<button type=\"button\" class=\"button_next\"\\n\\t\\t\\t\\tstyle=\"display:none; right:-52px; transition: all 300ms cubic-bezier(0.215, 0.61, 0.355, 1)\">\\n\\t\\t\\t<span class=\"blind\">다음</span>\\n\\t\\t\\t<span class=\"page\">2</span>\\n\\t\\t</button>\\n\\t</div>\\n\\n\\n\\t<script>\\n\\t\\tnaver = window.naver || {};\\n\\t\\tnaver.sports = naver.sports || {};\\n\\t\\tnaver.sports.section = naver.sports.section || {};\\n\\t\\tnaver.sports.section.home = naver.sports.section.home || {};\\n\\t\\tnaver.sports.section.home.LiveBox = eg.Class({\\n\\n\\t\\t\\t_SCROLL_PANNEL_SIZE: 4,\\n\\t\\t\\t_EMPTY_LIVEBOX_CARD: \"<div class=\\\\\"live_box_card\\\\\"></div>\",\\n\\n\\t\\t\\tconstruct: function (htOption) {\\n\\t\\t\\t\\tthis._initVars(htOption);\\n\\t\\t\\t\\tthis._initHandlebarsTemplate();\\n\\t\\t\\t\\tthis._init();\\n\\t\\t\\t},\\n\\t\\t\\t_initVars: function (htOption) {\\n\\t\\t\\t\\tthis._liveBoxList = htOption.liveBoxList || {};\\n\\t\\t\\t\\tthis._liveBoxBeforeList = htOption.liveBoxBeforeList || {};\\n\\t\\t\\t\\tthis._totalCardCnt = 0;\\n\\t\\t\\t},\\n\\t\\t\\t_initHandlebarsTemplate: function () {\\n\\t\\t\\t\\tthis._sectionHomeLiveBoxTopScoreTemplate = Handlebars.compile($(\"#_section_home_livebox_score_card_template\").html());\\n\\t\\t\\t\\tthis._sectionHomeLiveBoxTopRadioTemplate = Handlebars.compile($(\"#_section_home_livebox_radio_card_template\").html());\\n\\t\\t\\t\\tthis._sectionHomeLiveBoxTopTextTemplate = Handlebars.compile($(\"#_section_home_livebox_text_card_template\").html());\\n\\t\\t\\t\\tthis._sectionHomeLiveBoxTopTextBeforeTemplate = Handlebars.compile($(\"#_section_home_livebox_text_before_card_template\").html());\\n\\t\\t\\t\\tthis._sectionHomeLiveBoxFlickingPaginationTemplate = Handlebars.compile($(\"#_section_home_livebox_scroll_pagination_template\").html());\\n\\t\\t\\t},\\n\\t\\t\\t_init: function () {\\n\\t\\t\\t\\t(naver.sports.team && naver.sports.team.MyTeam) ?\\n\\t\\t\\t\\t\\tnew naver.sports.team.MyTeam({\\n\\t\\t\\t\\t\\t\\t\"callbackFn\": $.proxy(function (subscribeList) {\\n\\t\\t\\t\\t\\t\\t\\tthis._sort(subscribeList);\\n\\t\\t\\t\\t\\t\\t\\tthis._draw();\\n\\t\\t\\t\\t\\t\\t}, this)\\n\\t\\t\\t\\t\\t}) : this._draw();\\n\\t\\t\\t},\\n\\n\\t\\t\\t_sort: function (subscribeList) {\\n\\n\\t\\t\\t\\tthis._liveBoxList = _.sortBy(this._liveBoxList, function (data) {\\n\\t\\t\\t\\t\\tvar isSubscribeTeam = _.some(subscribeList, function (subscribeTeam) {\\n\\t\\t\\t\\t\\t\\treturn data.fixTopPosition == \\'Y\\' || (\\n\\t\\t\\t\\t\\t\\t\\tsubscribeTeam.categoryId == data.categoryId\\n\\t\\t\\t\\t\\t\\t\\t&& (subscribeTeam.teamCode == data.teamCode1 || subscribeTeam.teamCode == data.teamCode2));\\n\\t\\t\\t\\t\\t});\\n\\n\\t\\t\\t\\t\\treturn isSubscribeTeam ? 0 : 1;\\n\\t\\t\\t\\t});\\n\\n\\t\\t\\t\\tthis._liveBoxBeforeList = _.sortBy(this._liveBoxBeforeList, function (data) {\\n\\t\\t\\t\\t\\tvar isSubscribeTeam = _.some(subscribeList, function (subscribeTeam) {\\n\\t\\t\\t\\t\\t\\treturn subscribeTeam.categoryId == data.categoryId\\n\\t\\t\\t\\t\\t\\t\\t&& (subscribeTeam.teamCode == data.teamCode1 || subscribeTeam.teamCode == data.teamCode2);\\n\\t\\t\\t\\t\\t});\\n\\n\\t\\t\\t\\t\\treturn isSubscribeTeam ? 0 : 1;\\n\\t\\t\\t\\t});\\n\\n\\t\\t\\t},\\n\\n\\t\\t\\t_draw: function () {\\n\\t\\t\\t\\tif (this._liveBoxList.length < 1) {\\n\\t\\t\\t\\t\\t$(\"#_section_home_livebox_root\").hide();\\n\\t\\t\\t\\t\\treturn;\\n\\t\\t\\t\\t}\\n\\n\\t\\t\\t\\t$(\"#_section_home_live_scroll\").html(\"\");\\n\\n\\t\\t\\t\\tvar cards = _.map(this._liveBoxList.concat(this._liveBoxBeforeList), $.proxy(function (item) {\\n\\t\\t\\t\\t\\tif (item.contentsId.indexOf(\"radio\") > -1) {\\n\\t\\t\\t\\t\\t\\treturn this._sectionHomeLiveBoxTopRadioTemplate(item);\\n\\t\\t\\t\\t\\t} else if (item.contentsId.indexOf(\"schedule\") > -1 && item.teamName1.length > 0) {\\n\\t\\t\\t\\t\\t\\treturn this._sectionHomeLiveBoxTopScoreTemplate(item);\\n\\t\\t\\t\\t\\t} else if (!item.liveSchedule) {\\n\\t\\t\\t\\t\\t\\treturn this._sectionHomeLiveBoxTopTextBeforeTemplate(item);\\n\\t\\t\\t\\t\\t} else {\\n\\t\\t\\t\\t\\t\\treturn this._sectionHomeLiveBoxTopTextTemplate(item);\\n\\t\\t\\t\\t\\t}\\n\\t\\t\\t\\t}, this));\\n\\n\\t\\t\\t\\tthis._totalCardCnt = cards.length;\\n\\n\\t\\t\\t\\tvar emptyCardSize = this._SCROLL_PANNEL_SIZE - this._totalCardCnt;\\n\\t\\t\\t\\tfor (var i = 0; i < emptyCardSize; ++i) {\\n\\t\\t\\t\\t\\tcards.push(this._EMPTY_LIVEBOX_CARD);\\n\\t\\t\\t\\t}\\n\\n\\t\\t\\t\\t_.each(cards, $.proxy(function (card) {\\n\\t\\t\\t\\t\\t$(\"#_section_home_live_scroll\").append(card);\\n\\n\\t\\t\\t\\t}, this));\\n\\n\\t\\t\\t\\tif (cards.length > 4) {\\n\\t\\t\\t\\t\\tthis._initScrolling();\\n\\t\\t\\t\\t}\\n\\n\\t\\t\\t\\t// $(\"#veta_skin_left\").length > 0 ? $(\"#veta_skin_left\").css(\"top\", \"316px\") : \"\";\\n\\t\\t\\t\\t// $(\"#veta_skin_right\").length > 0 ? $(\"#veta_skin_right\").css(\"top\", \"316px\") : \"\";\\n\\t\\t\\t},\\n\\n\\t\\t\\t_initScrolling: function () {\\n\\t\\t\\t\\tthis._scroll = new IScroll(\"#_section_home_live_scroll_holder\", {\\n\\t\\t\\t\\t\\tscrollbars: false,\\n\\t\\t\\t\\t\\tscrollX: true,\\n\\t\\t\\t\\t\\tscrollY: false,\\n\\t\\t\\t\\t\\tmouseWheel: true,\\n\\t\\t\\t\\t\\tsnap: $(\\'.live_box_card\\'),\\n\\t\\t\\t\\t\\tbounce: true,\\n\\t\\t\\t\\t\\tpreventDefault: true,\\n\\t\\t\\t\\t});\\n\\t\\t\\t\\tthis._prevButton = $(\"#_section_home_livebox_root button.button_prev\");\\n\\t\\t\\t\\tthis._nextButton = $(\"#_section_home_livebox_root button.button_next\");\\n\\n\\t\\t\\t\\t// cards.length > 4 일 때 init 발생, 초기 두 개의 값을 통해 card 간 padding 계산\\n\\t\\t\\t\\tvar pages = this._scroll.pages;\\n\\t\\t\\t\\tvar cardPadding = pages[0][0].x - pages[1][0].x;\\n\\t\\t\\t\\tvar pageLength = this._scroll.pages.length;\\n\\t\\t\\t\\tvar buttonHideCss = \"-52px\";\\n\\t\\t\\t\\tvar buttonShowCss = \"0px\";\\n\\n\\t\\t\\t\\t//  좌우 여백으로 인한 버그로 인해 마지막 카드와 이전 카드 사이 간격이 일정하지 않을경우 이전 카드를 마지막 카드로 대체하는 코드\\n\\t\\t\\t\\tif (pages[pageLength - 2][0].x - pages[pageLength - 1][0].x < cardPadding) {\\n\\t\\t\\t\\t\\tpages[pageLength - 2] = pages[pageLength - 1];\\n\\t\\t\\t\\t\\tpages.splice(pageLength-1, 1);\\n\\t\\t\\t\\t}\\n\\n\\t\\t\\t\\t/* events */\\n\\t\\t\\t\\tvar fnFadeOut = $.proxy(function () {\\n\\t\\t\\t\\t\\t// 양쪽 끝에서 스크롤할 시 scrollEnd 이벤트가 발생 안되는 버그에 대한 방어 코드\\n\\t\\t\\t\\t\\tthis._nextButton.find(\"span.page\").fadeOut(200).delay(200).fadeIn();\\n\\t\\t\\t\\t\\tthis._prevButton.find(\"span.page\").fadeOut(200).delay(200).fadeIn();\\n\\t\\t\\t\\t}, this);\\n\\n\\t\\t\\t\\tvar fnRearrange = $.proxy(function () {\\n\\t\\t\\t\\t\\t// 화면에 보이는 마지막 카드 인덱스\\n\\t\\t\\t\\t\\tvar lastCardIndex = Math.min(Math.floor((-this._scroll.currentPage.x + this._scroll.wrapperOffset.left + $(window).width()) / cardPadding), this._totalCardCnt);\\n\\t\\t\\t\\t\\tvar prevCnt = Math.ceil((-this._scroll.currentPage.x + this._scroll.wrapperOffset.left) / cardPadding);\\n\\t\\t\\t\\t\\tvar nextCnt = this._totalCardCnt - lastCardIndex;\\n\\t\\t\\t\\t\\tprevCnt > 0 ? this._prevButton.show() : this._prevButton.hide();\\n\\t\\t\\t\\t\\tnextCnt > 0 ? this._nextButton.show() : this._nextButton.hide();\\n\\t\\t\\t\\t\\tthis._prevButton.find(\"span.page\").html(prevCnt);\\n\\t\\t\\t\\t\\tthis._nextButton.find(\"span.page\").html(nextCnt);\\n\\t\\t\\t\\t\\tthis._prevButton.find(\"span.page\").fadeIn();\\n\\t\\t\\t\\t\\tthis._nextButton.find(\"span.page\").fadeIn();\\n\\t\\t\\t\\t}, this);\\n\\n\\t\\t\\t\\tthis._scroll.on(\\'scrollEnd\\', fnRearrange);\\n\\t\\t\\t\\tthis._scroll.on(\\'scrollCancel\\', fnRearrange);\\n\\t\\t\\t\\tthis._scroll.on(\\'scrollStart\\', fnFadeOut);\\n\\n\\t\\t\\t\\t// 현재 창 비활성화시 발생하는 커서 버그 방어 코드\\n\\t\\t\\t\\t$(\"#_section_home_livebox_root\").hover(\\n\\t\\t\\t\\t\\t$.proxy(function () {\\n\\t\\t\\t\\t\\t\\tthis._nextButton.css({right: buttonShowCss});\\n\\t\\t\\t\\t\\t\\tthis._prevButton.css({left: buttonShowCss});\\n\\t\\t\\t\\t\\t}, this),\\n\\t\\t\\t\\t\\t$.proxy(function () {\\n\\t\\t\\t\\t\\t\\tthis._nextButton.css({right: buttonHideCss});\\n\\t\\t\\t\\t\\t\\tthis._prevButton.css({left: buttonHideCss});\\n\\t\\t\\t\\t\\t}, this));\\n\\t\\t\\t\\t$(window).on(\"resize\", fnRearrange);\\n\\t\\t\\t\\tfnRearrange();\\n\\n\\t\\t\\t\\t/* buttons */\\n\\t\\t\\t\\tthis._prevButton.on(\"click\", $.proxy(function (e) {\\n\\t\\t\\t\\t\\tclickcr(this, \\'lbx.search\\', \\'\\', \\'\\', e);\\n\\t\\t\\t\\t\\tfnFadeOut();\\n\\t\\t\\t\\t\\tthis._scroll.goToPage(Math.max(this._scroll.currentPage.pageX - this._SCROLL_PANNEL_SIZE, 0), 0, 200);\\n\\t\\t\\t\\t}, this));\\n\\n\\t\\t\\t\\tthis._nextButton.on(\"click\", $.proxy(function (e) {\\n\\t\\t\\t\\t\\tclickcr(this, \\'lbx.search\\', \\'\\', \\'\\', e);\\n\\t\\t\\t\\t\\tfnFadeOut();\\n\\t\\t\\t\\t\\tthis._scroll.goToPage(Math.min(this._scroll.currentPage.pageX + this._SCROLL_PANNEL_SIZE, this._totalCardCnt), 0, 200);\\n\\t\\t\\t\\t}, this));\\n\\n\\t\\t\\t}\\n\\n\\t\\t});\\n\\t\\twindow.livebox = new naver.sports.section.home.LiveBox({\\n\\t\\t\\t\"liveBoxList\": [{\"superCategoryId\":\"general\",\"upperCategoryId\":\"others\",\"categoryId\":\"etc\",\"categoryName\":\"바둑\",\"gameId\":\"20210511BD1\",\"statusCode\":\"STARTED\",\"statusInfo\":\"\",\"cancel\":\"N\",\"isEnableNvm\":\"N\",\"gameInfo\":null,\"gameDateTime\":\"2021-05-11 12:00:00\",\"gameTimeHHmm\":\"12:00\",\"title\":\"중국갑조리그 4라운드\",\"stadium\":\"바둑TV 스튜디오\",\"isScheduledTv\":\"Y\",\"isOnairTv\":\"Y\",\"isOnairText\":\"N\",\"liveTotalView\":14178,\"liveCurrentView\":2120,\"teamName1\":\"\",\"teamName2\":\"\",\"teamCode1\":\"\",\"teamCode2\":\"\",\"teamLogo1\":\"\",\"teamLogo2\":\"\",\"teamScore1\":0,\"teamScore2\":0,\"winner\":null,\"homeTeamName\":\"\",\"awayTeamName\":\"\",\"homeTeamCode\":\"\",\"awayTeamCode\":\"\",\"homeTeamLogo\":\"\",\"awayTeamLogo\":\"\",\"homeTeamScore\":0,\"awayTeamScore\":0,\"homeAwayWinner\":\"DRAW\",\"url\":\"/general/gamecenter/etc/index.nhn?gameId=20210511BD1\",\"homeTeamPenaltyScore\":-1,\"awayTeamPenaltyScore\":-1,\"homeCurrentPitcherName\":\"\",\"awayCurrentPitcherName\":\"\",\"templateCreateDateTime\":[2021,5,11,16,8,0,462000000],\"displayType\":\"text\",\"mainSubPriority\":1,\"lolSetInfoList\":[],\"esportsLeague\":null,\"commentCount\":0,\"roundCode\":\"\",\"channelCode\":\"ch4\",\"thumbnail\":\"https://cimg-live.pstatic.net/cImg.nhn?s=ls&cgid=ch4\",\"pcUrl\":\"javascript:popUp(\\'/tv/index.nhn?uCategory=others&category=etc&gameId=20210511BD1\\', 1088, 670 );\",\"gameContents\":null,\"winnerPredictPercentage\":0,\"liveSchedule\":true,\"templateTitle\":\"중국갑조리그 4라운드\",\"mainSubType\":\"SUB\",\"whiteList\":false,\"dataId\":\"AUTO_1\",\"isEnable\":\"Y\",\"fixTopPosition\":\"N\",\"image\":\"\",\"contentsId\":\"schedule.20210511BD1\",\"thumbnailImage\":\"https://cimg-live.pstatic.net/cImg.nhn?s=ls&cgid=ch4\"},{\"superCategoryId\":\"baseball\",\"upperCategoryId\":\"kbaseball\",\"categoryId\":\"kbaseballetc\",\"categoryName\":\"퓨처스리그\",\"gameId\":\"20210511NCSSG1\",\"statusCode\":\"STARTED\",\"statusInfo\":\"\",\"cancel\":\"N\",\"isEnableNvm\":\"Y\",\"gameInfo\":null,\"gameDateTime\":\"2021-05-11 13:00:00\",\"gameTimeHHmm\":\"13:00\",\"title\":\"NC vs SSG - 퓨처스리그\",\"stadium\":\"강화\",\"isScheduledTv\":\"Y\",\"isOnairTv\":\"Y\",\"isOnairText\":\"N\",\"liveTotalView\":25450,\"liveCurrentView\":1354,\"teamName1\":\"\",\"teamName2\":\"\",\"teamCode1\":\"\",\"teamCode2\":\"\",\"teamLogo1\":\"\",\"teamLogo2\":\"\",\"teamScore1\":0,\"teamScore2\":0,\"winner\":null,\"homeTeamName\":\"\",\"awayTeamName\":\"\",\"homeTeamCode\":\"\",\"awayTeamCode\":\"\",\"homeTeamLogo\":\"\",\"awayTeamLogo\":\"\",\"homeTeamScore\":0,\"awayTeamScore\":0,\"homeAwayWinner\":\"DRAW\",\"url\":\"/general/gamecenter/etc/index.nhn?gameId=20210511NCSSG1\",\"homeTeamPenaltyScore\":-1,\"awayTeamPenaltyScore\":-1,\"homeCurrentPitcherName\":\"\",\"awayCurrentPitcherName\":\"\",\"templateCreateDateTime\":[2021,5,11,16,8,0,385000000],\"displayType\":\"text\",\"mainSubPriority\":0,\"lolSetInfoList\":[],\"esportsLeague\":null,\"commentCount\":0,\"roundCode\":\"\",\"channelCode\":\"ch20\",\"thumbnail\":\"https://cimg-live.pstatic.net/cImg.nhn?s=ls&cgid=ch20\",\"pcUrl\":\"javascript:popUp(\\'/tv/index.nhn?uCategory=kbaseball&category=kbaseballetc&gameId=20210511NCSSG1\\', 1088, 670 );\",\"gameContents\":{\"homeStarterId\":\"\",\"winPitcherId\":\"\",\"winPitcherName\":\"\",\"awayStarterId\":\"\",\"losePitcherName\":\"\",\"homeStarterName\":\"\",\"awayStarterName\":\"\",\"losePitcherId\":\"\"},\"winnerPredictPercentage\":0,\"liveSchedule\":true,\"templateTitle\":\"NC vs SSG - 퓨처스리그\",\"mainSubType\":\"MAIN\",\"whiteList\":false,\"dataId\":\"AUTO_0\",\"isEnable\":\"Y\",\"fixTopPosition\":\"N\",\"image\":\"\",\"contentsId\":\"schedule.20210511NCSSG1\",\"thumbnailImage\":\"https://cimg-live.pstatic.net/cImg.nhn?s=ls&cgid=ch20\"}],\\n\\t\\t\\t\"liveBoxBeforeList\": [{\"superCategoryId\":\"baseball\",\"upperCategoryId\":\"kbaseball\",\"categoryId\":\"kbo\",\"categoryName\":\"KBO\",\"gameId\":\"20210511LGHT02021\",\"statusCode\":\"BEFORE\",\"statusInfo\":\"\",\"cancel\":\"N\",\"isEnableNvm\":\"Y\",\"gameInfo\":\"{\\\\\"game_id\\\\\":\\\\\"20210511LGHT02021\\\\\",\\\\\"current_inning\\\\\":\\\\\"\\\\\",\\\\\"home_team_score_by_inning\\\\\":\\\\\"-,-,-,-,-,-,-,-,-\\\\\",\\\\\"away_team_score_by_inning\\\\\":\\\\\"-,-,-,-,-,-,-,-,-\\\\\",\\\\\"home_team_rheb\\\\\":\\\\\"\\\\\",\\\\\"away_team_rheb\\\\\":\\\\\"\\\\\",\\\\\"home_starter_name\\\\\":\\\\\"멩덴\\\\\",\\\\\"home_starter_code\\\\\":\\\\\"51619\\\\\",\\\\\"away_starter_name\\\\\":\\\\\"켈리\\\\\",\\\\\"away_starter_code\\\\\":\\\\\"69103\\\\\",\\\\\"win_pitcher_name\\\\\":\\\\\"\\\\\",\\\\\"win_pitcher_code\\\\\":\\\\\"\\\\\",\\\\\"lose_pitcher_name\\\\\":\\\\\"\\\\\",\\\\\"lose_pitcher_code\\\\\":\\\\\"\\\\\",\\\\\"pts_flag\\\\\":\\\\\"1\\\\\",\\\\\"is_vod\\\\\":\\\\\"N\\\\\",\\\\\"home_starter_w\\\\\":\\\\\"2\\\\\",\\\\\"home_starter_l\\\\\":\\\\\"1\\\\\",\\\\\"home_starter_era\\\\\":\\\\\"3.57\\\\\",\\\\\"home_starter_inn2\\\\\":106,\\\\\"away_starter_w\\\\\":\\\\\"2\\\\\",\\\\\"away_starter_l\\\\\":\\\\\"1\\\\\",\\\\\"away_starter_era\\\\\":\\\\\"2.91\\\\\",\\\\\"away_starter_inn2\\\\\":102,\\\\\"home_comp_inng\\\\\":\\\\\"5.2\\\\\",\\\\\"home_comp_era\\\\\":\\\\\"3.5660377358490565\\\\\",\\\\\"home_comp_whip\\\\\":\\\\\"1.1\\\\\",\\\\\"home_comp_innk\\\\\":\\\\\"8.92\\\\\",\\\\\"home_comp_qs\\\\\":\\\\\"4\\\\\",\\\\\"home_comp_war\\\\\":\\\\\"0.82\\\\\",\\\\\"away_comp_inng\\\\\":\\\\\"5.2\\\\\",\\\\\"away_comp_era\\\\\":\\\\\"2.911764705882353\\\\\",\\\\\"away_comp_whip\\\\\":\\\\\"1.35\\\\\",\\\\\"away_comp_innk\\\\\":\\\\\"6.09\\\\\",\\\\\"away_comp_qs\\\\\":\\\\\"3\\\\\",\\\\\"away_comp_war\\\\\":\\\\\"0.63\\\\\",\\\\\"broad_channel\\\\\":\\\\\"SBS SPORTS\\\\\",\\\\\"home_short_name\\\\\":\\\\\"KIA\\\\\",\\\\\"home_full_name\\\\\":\\\\\"KIA 타이거즈\\\\\",\\\\\"away_short_name\\\\\":\\\\\"LG\\\\\",\\\\\"away_full_name\\\\\":\\\\\"LG 트윈스\\\\\",\\\\\"info\\\\\":\\\\\"\\\\\",\\\\\"status\\\\\":\\\\\"ORDINARY\\\\\",\\\\\"away_team_extra_info\\\\\":\\\\\"pitcher:null^pitcher_id:null\\\\\",\\\\\"home_team_extra_info\\\\\":\\\\\"pitcher:null^pitcher_id:null\\\\\",\\\\\"region_id\\\\\":\\\\\"19909618\\\\\",\\\\\"away_series_outcome\\\\\":{\\\\\"w\\\\\":\\\\\"0\\\\\",\\\\\"d\\\\\":\\\\\"0\\\\\",\\\\\"l\\\\\":\\\\\"0\\\\\"},\\\\\"home_series_outcome\\\\\":{\\\\\"w\\\\\":\\\\\"0\\\\\",\\\\\"d\\\\\":\\\\\"0\\\\\",\\\\\"l\\\\\":\\\\\"0\\\\\"},\\\\\"dheader\\\\\":\\\\\"0\\\\\",\\\\\"game_no\\\\\":\\\\\"0\\\\\",\\\\\"is_after_first_game\\\\\":true}\",\"gameDateTime\":\"2021-05-11 18:30:00\",\"gameTimeHHmm\":\"18:30\",\"title\":\"LG VS KIA\",\"stadium\":\"광주\",\"isScheduledTv\":\"Y\",\"isOnairTv\":\"N\",\"isOnairText\":\"N\",\"liveTotalView\":0,\"liveCurrentView\":0,\"teamName1\":\"LG\",\"teamName2\":\"KIA\",\"teamCode1\":\"LG\",\"teamCode2\":\"HT\",\"teamLogo1\":\"https://sports-phinf.pstatic.net/team/kbo/default/LG.png\",\"teamLogo2\":\"https://sports-phinf.pstatic.net/team/kbo/default/HT.png\",\"teamScore1\":0,\"teamScore2\":0,\"winner\":null,\"homeTeamName\":\"KIA\",\"awayTeamName\":\"LG\",\"homeTeamCode\":\"HT\",\"awayTeamCode\":\"LG\",\"homeTeamLogo\":\"https://sports-phinf.pstatic.net/team/kbo/default/HT.png\",\"awayTeamLogo\":\"https://sports-phinf.pstatic.net/team/kbo/default/LG.png\",\"homeTeamScore\":0,\"awayTeamScore\":0,\"homeAwayWinner\":\"DRAW\",\"url\":\"/baseball/gamecenter/kbo/index.nhn?gameId=20210511LGHT02021\",\"homeTeamPenaltyScore\":-1,\"awayTeamPenaltyScore\":-1,\"homeCurrentPitcherName\":\"멩덴\",\"awayCurrentPitcherName\":\"켈리\",\"templateCreateDateTime\":[2021,5,11,16,8,0,385000000],\"displayType\":\"vs\",\"mainSubPriority\":0,\"lolSetInfoList\":[],\"esportsLeague\":null,\"commentCount\":0,\"roundCode\":\"kbo_r\",\"channelCode\":null,\"thumbnail\":null,\"pcUrl\":\"/gameCenter/textRelay.nhn?category=kbo&gameId=20210511LGHT02021\",\"gameContents\":{\"homeStarterId\":\"51619\",\"winPitcherId\":\"\",\"winPitcherName\":\"\",\"awayStarterId\":\"69103\",\"losePitcherName\":\"\",\"homeStarterName\":\"멩덴\",\"awayStarterName\":\"켈리\",\"losePitcherId\":\"\"},\"winnerPredictPercentage\":0,\"liveSchedule\":false,\"templateTitle\":null,\"mainSubType\":\"MAIN\",\"whiteList\":false,\"dataId\":\"AUTO_2\",\"isEnable\":\"Y\",\"fixTopPosition\":\"N\",\"image\":\"\",\"contentsId\":\"schedule.20210511LGHT02021\",\"thumbnailImage\":\"\"},{\"superCategoryId\":\"baseball\",\"upperCategoryId\":\"kbaseball\",\"categoryId\":\"kbo\",\"categoryName\":\"KBO\",\"gameId\":\"20210511NCHH02021\",\"statusCode\":\"BEFORE\",\"statusInfo\":\"\",\"cancel\":\"N\",\"isEnableNvm\":\"Y\",\"gameInfo\":\"{\\\\\"game_id\\\\\":\\\\\"20210511NCHH02021\\\\\",\\\\\"current_inning\\\\\":\\\\\"\\\\\",\\\\\"home_team_score_by_inning\\\\\":\\\\\"-,-,-,-,-,-,-,-,-\\\\\",\\\\\"away_team_score_by_inning\\\\\":\\\\\"-,-,-,-,-,-,-,-,-\\\\\",\\\\\"home_team_rheb\\\\\":\\\\\"\\\\\",\\\\\"away_team_rheb\\\\\":\\\\\"\\\\\",\\\\\"home_starter_name\\\\\":\\\\\"카펜터\\\\\",\\\\\"home_starter_code\\\\\":\\\\\"51722\\\\\",\\\\\"away_starter_name\\\\\":\\\\\"루친스키\\\\\",\\\\\"away_starter_code\\\\\":\\\\\"69940\\\\\",\\\\\"win_pitcher_name\\\\\":\\\\\"\\\\\",\\\\\"win_pitcher_code\\\\\":\\\\\"\\\\\",\\\\\"lose_pitcher_name\\\\\":\\\\\"\\\\\",\\\\\"lose_pitcher_code\\\\\":\\\\\"\\\\\",\\\\\"pts_flag\\\\\":\\\\\"1\\\\\",\\\\\"is_vod\\\\\":\\\\\"N\\\\\",\\\\\"home_starter_w\\\\\":\\\\\"1\\\\\",\\\\\"home_starter_l\\\\\":\\\\\"1\\\\\",\\\\\"home_starter_era\\\\\":\\\\\"1.27\\\\\",\\\\\"home_starter_inn2\\\\\":106,\\\\\"away_starter_w\\\\\":\\\\\"2\\\\\",\\\\\"away_starter_l\\\\\":\\\\\"1\\\\\",\\\\\"away_starter_era\\\\\":\\\\\"3.82\\\\\",\\\\\"away_starter_inn2\\\\\":99,\\\\\"home_comp_inng\\\\\":\\\\\"5.2\\\\\",\\\\\"home_comp_era\\\\\":\\\\\"1.2735849056603772\\\\\",\\\\\"home_comp_whip\\\\\":\\\\\"1.1\\\\\",\\\\\"home_comp_innk\\\\\":\\\\\"9.42\\\\\",\\\\\"home_comp_qs\\\\\":\\\\\"3\\\\\",\\\\\"home_comp_war\\\\\":\\\\\"1.53\\\\\",\\\\\"away_comp_inng\\\\\":\\\\\"5.1\\\\\",\\\\\"away_comp_era\\\\\":\\\\\"3.818181818181818\\\\\",\\\\\"away_comp_whip\\\\\":\\\\\"1.58\\\\\",\\\\\"away_comp_innk\\\\\":\\\\\"9.55\\\\\",\\\\\"away_comp_qs\\\\\":\\\\\"3\\\\\",\\\\\"away_comp_war\\\\\":\\\\\"0.78\\\\\",\\\\\"broad_channel\\\\\":\\\\\"MBC SPORTS+\\\\\",\\\\\"home_short_name\\\\\":\\\\\"한화\\\\\",\\\\\"home_full_name\\\\\":\\\\\"한화 이글스\\\\\",\\\\\"away_short_name\\\\\":\\\\\"NC\\\\\",\\\\\"away_full_name\\\\\":\\\\\"NC 다이노스\\\\\",\\\\\"info\\\\\":\\\\\"\\\\\",\\\\\"status\\\\\":\\\\\"ORDINARY\\\\\",\\\\\"away_team_extra_info\\\\\":\\\\\"pitcher:null^pitcher_id:null\\\\\",\\\\\"home_team_extra_info\\\\\":\\\\\"pitcher:null^pitcher_id:null\\\\\",\\\\\"region_id\\\\\":\\\\\"11831114\\\\\",\\\\\"away_series_outcome\\\\\":{\\\\\"w\\\\\":\\\\\"0\\\\\",\\\\\"d\\\\\":\\\\\"0\\\\\",\\\\\"l\\\\\":\\\\\"0\\\\\"},\\\\\"home_series_outcome\\\\\":{\\\\\"w\\\\\":\\\\\"0\\\\\",\\\\\"d\\\\\":\\\\\"0\\\\\",\\\\\"l\\\\\":\\\\\"0\\\\\"},\\\\\"dheader\\\\\":\\\\\"0\\\\\",\\\\\"game_no\\\\\":\\\\\"0\\\\\",\\\\\"is_after_first_game\\\\\":true}\",\"gameDateTime\":\"2021-05-11 18:30:00\",\"gameTimeHHmm\":\"18:30\",\"title\":\"NC VS 한화\",\"stadium\":\"대전\",\"isScheduledTv\":\"Y\",\"isOnairTv\":\"N\",\"isOnairText\":\"N\",\"liveTotalView\":0,\"liveCurrentView\":0,\"teamName1\":\"NC\",\"teamName2\":\"한화\",\"teamCode1\":\"NC\",\"teamCode2\":\"HH\",\"teamLogo1\":\"https://sports-phinf.pstatic.net/team/kbo/default/NC.png\",\"teamLogo2\":\"https://sports-phinf.pstatic.net/team/kbo/default/HH.png\",\"teamScore1\":0,\"teamScore2\":0,\"winner\":null,\"homeTeamName\":\"한화\",\"awayTeamName\":\"NC\",\"homeTeamCode\":\"HH\",\"awayTeamCode\":\"NC\",\"homeTeamLogo\":\"https://sports-phinf.pstatic.net/team/kbo/default/HH.png\",\"awayTeamLogo\":\"https://sports-phinf.pstatic.net/team/kbo/default/NC.png\",\"homeTeamScore\":0,\"awayTeamScore\":0,\"homeAwayWinner\":\"DRAW\",\"url\":\"/baseball/gamecenter/kbo/index.nhn?gameId=20210511NCHH02021\",\"homeTeamPenaltyScore\":-1,\"awayTeamPenaltyScore\":-1,\"homeCurrentPitcherName\":\"카펜터\",\"awayCurrentPitcherName\":\"루친스키\",\"templateCreateDateTime\":[2021,5,11,16,8,0,385000000],\"displayType\":\"vs\",\"mainSubPriority\":0,\"lolSetInfoList\":[],\"esportsLeague\":null,\"commentCount\":0,\"roundCode\":\"kbo_r\",\"channelCode\":null,\"thumbnail\":null,\"pcUrl\":\"/gameCenter/textRelay.nhn?category=kbo&gameId=20210511NCHH02021\",\"gameContents\":{\"homeStarterId\":\"51722\",\"winPitcherId\":\"\",\"winPitcherName\":\"\",\"awayStarterId\":\"69940\",\"losePitcherName\":\"\",\"homeStarterName\":\"카펜터\",\"awayStarterName\":\"루친스키\",\"losePitcherId\":\"\"},\"winnerPredictPercentage\":0,\"liveSchedule\":false,\"templateTitle\":null,\"mainSubType\":\"MAIN\",\"whiteList\":false,\"dataId\":\"AUTO_3\",\"isEnable\":\"Y\",\"fixTopPosition\":\"N\",\"image\":\"\",\"contentsId\":\"schedule.20210511NCHH02021\",\"thumbnailImage\":\"\"},{\"superCategoryId\":\"baseball\",\"upperCategoryId\":\"kbaseball\",\"categoryId\":\"kbo\",\"categoryName\":\"KBO\",\"gameId\":\"20210511SKLT02021\",\"statusCode\":\"BEFORE\",\"statusInfo\":\"\",\"cancel\":\"N\",\"isEnableNvm\":\"Y\",\"gameInfo\":\"{\\\\\"game_id\\\\\":\\\\\"20210511SKLT02021\\\\\",\\\\\"current_inning\\\\\":\\\\\"\\\\\",\\\\\"home_team_score_by_inning\\\\\":\\\\\"-,-,-,-,-,-,-,-,-\\\\\",\\\\\"away_team_score_by_inning\\\\\":\\\\\"-,-,-,-,-,-,-,-,-\\\\\",\\\\\"home_team_rheb\\\\\":\\\\\"\\\\\",\\\\\"away_team_rheb\\\\\":\\\\\"\\\\\",\\\\\"home_starter_name\\\\\":\\\\\"스트레일리\\\\\",\\\\\"home_starter_code\\\\\":\\\\\"50558\\\\\",\\\\\"away_starter_name\\\\\":\\\\\"오원석\\\\\",\\\\\"away_starter_code\\\\\":\\\\\"50859\\\\\",\\\\\"win_pitcher_name\\\\\":\\\\\"\\\\\",\\\\\"win_pitcher_code\\\\\":\\\\\"\\\\\",\\\\\"lose_pitcher_name\\\\\":\\\\\"\\\\\",\\\\\"lose_pitcher_code\\\\\":\\\\\"\\\\\",\\\\\"pts_flag\\\\\":\\\\\"1\\\\\",\\\\\"is_vod\\\\\":\\\\\"Y\\\\\",\\\\\"home_starter_w\\\\\":\\\\\"2\\\\\",\\\\\"home_starter_l\\\\\":\\\\\"3\\\\\",\\\\\"home_starter_era\\\\\":\\\\\"3.73\\\\\",\\\\\"home_starter_inn2\\\\\":94,\\\\\"away_starter_w\\\\\":\\\\\"1\\\\\",\\\\\"away_starter_l\\\\\":\\\\\"0\\\\\",\\\\\"away_starter_era\\\\\":\\\\\"6.86\\\\\",\\\\\"away_starter_inn2\\\\\":63,\\\\\"home_comp_inng\\\\\":\\\\\"5.0\\\\\",\\\\\"home_comp_era\\\\\":\\\\\"3.7340425531914896\\\\\",\\\\\"home_comp_whip\\\\\":\\\\\"1.47\\\\\",\\\\\"home_comp_innk\\\\\":\\\\\"8.33\\\\\",\\\\\"home_comp_qs\\\\\":\\\\\"4\\\\\",\\\\\"home_comp_war\\\\\":\\\\\"0.85\\\\\",\\\\\"away_comp_inng\\\\\":\\\\\"2.1\\\\\",\\\\\"away_comp_era\\\\\":\\\\\"6.857142857142857\\\\\",\\\\\"away_comp_whip\\\\\":\\\\\"1.5699999999999998\\\\\",\\\\\"away_comp_innk\\\\\":\\\\\"10.71\\\\\",\\\\\"away_comp_qs\\\\\":\\\\\"1\\\\\",\\\\\"away_comp_war\\\\\":\\\\\"0.05\\\\\",\\\\\"broad_channel\\\\\":\\\\\"SPOTV2\\\\\",\\\\\"home_short_name\\\\\":\\\\\"롯데\\\\\",\\\\\"home_full_name\\\\\":\\\\\"롯데 자이언츠\\\\\",\\\\\"away_short_name\\\\\":\\\\\"SSG\\\\\",\\\\\"away_full_name\\\\\":\\\\\"SSG 랜더스\\\\\",\\\\\"info\\\\\":\\\\\"\\\\\",\\\\\"status\\\\\":\\\\\"ORDINARY\\\\\",\\\\\"away_team_extra_info\\\\\":\\\\\"pitcher:null^pitcher_id:null\\\\\",\\\\\"home_team_extra_info\\\\\":\\\\\"pitcher:null^pitcher_id:null\\\\\",\\\\\"region_id\\\\\":\\\\\"13202715\\\\\",\\\\\"is_quick_highlight\\\\\":\\\\\"Y\\\\\",\\\\\"away_series_outcome\\\\\":{\\\\\"w\\\\\":\\\\\"0\\\\\",\\\\\"d\\\\\":\\\\\"0\\\\\",\\\\\"l\\\\\":\\\\\"0\\\\\"},\\\\\"home_series_outcome\\\\\":{\\\\\"w\\\\\":\\\\\"0\\\\\",\\\\\"d\\\\\":\\\\\"0\\\\\",\\\\\"l\\\\\":\\\\\"0\\\\\"},\\\\\"dheader\\\\\":\\\\\"0\\\\\",\\\\\"game_no\\\\\":\\\\\"0\\\\\",\\\\\"is_after_first_game\\\\\":true}\",\"gameDateTime\":\"2021-05-11 18:30:00\",\"gameTimeHHmm\":\"18:30\",\"title\":\"SSG VS 롯데\",\"stadium\":\"사직\",\"isScheduledTv\":\"Y\",\"isOnairTv\":\"N\",\"isOnairText\":\"N\",\"liveTotalView\":0,\"liveCurrentView\":0,\"teamName1\":\"SSG\",\"teamName2\":\"롯데\",\"teamCode1\":\"SK\",\"teamCode2\":\"LT\",\"teamLogo1\":\"https://sports-phinf.pstatic.net/team/kbo/default/SK.png\",\"teamLogo2\":\"https://sports-phinf.pstatic.net/team/kbo/default/LT.png\",\"teamScore1\":0,\"teamScore2\":0,\"winner\":null,\"homeTeamName\":\"롯데\",\"awayTeamName\":\"SSG\",\"homeTeamCode\":\"LT\",\"awayTeamCode\":\"SK\",\"homeTeamLogo\":\"https://sports-phinf.pstatic.net/team/kbo/default/LT.png\",\"awayTeamLogo\":\"https://sports-phinf.pstatic.net/team/kbo/default/SK.png\",\"homeTeamScore\":0,\"awayTeamScore\":0,\"homeAwayWinner\":\"DRAW\",\"url\":\"/baseball/gamecenter/kbo/index.nhn?gameId=20210511SKLT02021\",\"homeTeamPenaltyScore\":-1,\"awayTeamPenaltyScore\":-1,\"homeCurrentPitcherName\":\"스트레일리\",\"awayCurrentPitcherName\":\"오원석\",\"templateCreateDateTime\":[2021,5,11,16,8,0,386000000],\"displayType\":\"vs\",\"mainSubPriority\":0,\"lolSetInfoList\":[],\"esportsLeague\":null,\"commentCount\":0,\"roundCode\":\"kbo_r\",\"channelCode\":null,\"thumbnail\":null,\"pcUrl\":\"/gameCenter/textRelay.nhn?category=kbo&gameId=20210511SKLT02021\",\"gameContents\":{\"homeStarterId\":\"50558\",\"winPitcherId\":\"\",\"winPitcherName\":\"\",\"awayStarterId\":\"50859\",\"losePitcherName\":\"\",\"homeStarterName\":\"스트레일리\",\"awayStarterName\":\"오원석\",\"losePitcherId\":\"\"},\"winnerPredictPercentage\":0,\"liveSchedule\":false,\"templateTitle\":null,\"mainSubType\":\"MAIN\",\"whiteList\":false,\"dataId\":\"AUTO_4\",\"isEnable\":\"Y\",\"fixTopPosition\":\"N\",\"image\":\"\",\"contentsId\":\"schedule.20210511SKLT02021\",\"thumbnailImage\":\"\"},{\"superCategoryId\":\"baseball\",\"upperCategoryId\":\"kbaseball\",\"categoryId\":\"kbo\",\"categoryName\":\"KBO\",\"gameId\":\"20210511SSKT02021\",\"statusCode\":\"BEFORE\",\"statusInfo\":\"\",\"cancel\":\"N\",\"isEnableNvm\":\"Y\",\"gameInfo\":\"{\\\\\"game_id\\\\\":\\\\\"20210511SSKT02021\\\\\",\\\\\"current_inning\\\\\":\\\\\"\\\\\",\\\\\"home_team_score_by_inning\\\\\":\\\\\"-,-,-,-,-,-,-,-,-\\\\\",\\\\\"away_team_score_by_inning\\\\\":\\\\\"-,-,-,-,-,-,-,-,-\\\\\",\\\\\"home_team_rheb\\\\\":\\\\\"\\\\\",\\\\\"away_team_rheb\\\\\":\\\\\"\\\\\",\\\\\"home_starter_name\\\\\":\\\\\"쿠에바스\\\\\",\\\\\"home_starter_code\\\\\":\\\\\"69032\\\\\",\\\\\"away_starter_name\\\\\":\\\\\"라이블리\\\\\",\\\\\"away_starter_code\\\\\":\\\\\"69439\\\\\",\\\\\"win_pitcher_name\\\\\":\\\\\"\\\\\",\\\\\"win_pitcher_code\\\\\":\\\\\"\\\\\",\\\\\"lose_pitcher_name\\\\\":\\\\\"\\\\\",\\\\\"lose_pitcher_code\\\\\":\\\\\"\\\\\",\\\\\"pts_flag\\\\\":\\\\\"1\\\\\",\\\\\"is_vod\\\\\":\\\\\"N\\\\\",\\\\\"home_starter_w\\\\\":\\\\\"0\\\\\",\\\\\"home_starter_l\\\\\":\\\\\"2\\\\\",\\\\\"home_starter_era\\\\\":\\\\\"8.0\\\\\",\\\\\"home_starter_inn2\\\\\":54,\\\\\"away_starter_w\\\\\":\\\\\"0\\\\\",\\\\\"away_starter_l\\\\\":\\\\\"1\\\\\",\\\\\"away_starter_era\\\\\":\\\\\"4.05\\\\\",\\\\\"away_starter_inn2\\\\\":100,\\\\\"home_comp_inng\\\\\":\\\\\"4.1\\\\\",\\\\\"home_comp_era\\\\\":\\\\\"8.0\\\\\",\\\\\"home_comp_whip\\\\\":\\\\\"1.94\\\\\",\\\\\"home_comp_innk\\\\\":\\\\\"6.5\\\\\",\\\\\"home_comp_qs\\\\\":\\\\\"0\\\\\",\\\\\"home_comp_war\\\\\":\\\\\"-0.08\\\\\",\\\\\"away_comp_inng\\\\\":\\\\\"5.1\\\\\",\\\\\"away_comp_era\\\\\":\\\\\"4.05\\\\\",\\\\\"away_comp_whip\\\\\":\\\\\"1.08\\\\\",\\\\\"away_comp_innk\\\\\":\\\\\"10.26\\\\\",\\\\\"away_comp_qs\\\\\":\\\\\"4\\\\\",\\\\\"away_comp_war\\\\\":\\\\\"0.92\\\\\",\\\\\"broad_channel\\\\\":\\\\\"KBS N SPORTS\\\\\",\\\\\"home_short_name\\\\\":\\\\\"KT\\\\\",\\\\\"home_full_name\\\\\":\\\\\"kt wiz\\\\\",\\\\\"away_short_name\\\\\":\\\\\"삼성\\\\\",\\\\\"away_full_name\\\\\":\\\\\"삼성 라이온즈\\\\\",\\\\\"info\\\\\":\\\\\"\\\\\",\\\\\"status\\\\\":\\\\\"ORDINARY\\\\\",\\\\\"away_team_extra_info\\\\\":\\\\\"pitcher:null^pitcher_id:null\\\\\",\\\\\"home_team_extra_info\\\\\":\\\\\"pitcher:null^pitcher_id:null\\\\\",\\\\\"region_id\\\\\":\\\\\"13491582\\\\\",\\\\\"away_series_outcome\\\\\":{\\\\\"w\\\\\":\\\\\"0\\\\\",\\\\\"d\\\\\":\\\\\"0\\\\\",\\\\\"l\\\\\":\\\\\"0\\\\\"},\\\\\"home_series_outcome\\\\\":{\\\\\"w\\\\\":\\\\\"0\\\\\",\\\\\"d\\\\\":\\\\\"0\\\\\",\\\\\"l\\\\\":\\\\\"0\\\\\"},\\\\\"dheader\\\\\":\\\\\"0\\\\\",\\\\\"game_no\\\\\":\\\\\"0\\\\\",\\\\\"is_after_first_game\\\\\":true}\",\"gameDateTime\":\"2021-05-11 18:30:00\",\"gameTimeHHmm\":\"18:30\",\"title\":\"삼성 VS KT\",\"stadium\":\"수원\",\"isScheduledTv\":\"Y\",\"isOnairTv\":\"N\",\"isOnairText\":\"N\",\"liveTotalView\":0,\"liveCurrentView\":0,\"teamName1\":\"삼성\",\"teamName2\":\"KT\",\"teamCode1\":\"SS\",\"teamCode2\":\"KT\",\"teamLogo1\":\"https://sports-phinf.pstatic.net/team/kbo/default/SS.png\",\"teamLogo2\":\"https://sports-phinf.pstatic.net/team/kbo/default/KT.png\",\"teamScore1\":0,\"teamScore2\":0,\"winner\":null,\"homeTeamName\":\"KT\",\"awayTeamName\":\"삼성\",\"homeTeamCode\":\"KT\",\"awayTeamCode\":\"SS\",\"homeTeamLogo\":\"https://sports-phinf.pstatic.net/team/kbo/default/KT.png\",\"awayTeamLogo\":\"https://sports-phinf.pstatic.net/team/kbo/default/SS.png\",\"homeTeamScore\":0,\"awayTeamScore\":0,\"homeAwayWinner\":\"DRAW\",\"url\":\"/baseball/gamecenter/kbo/index.nhn?gameId=20210511SSKT02021\",\"homeTeamPenaltyScore\":-1,\"awayTeamPenaltyScore\":-1,\"homeCurrentPitcherName\":\"쿠에바스\",\"awayCurrentPitcherName\":\"라이블리\",\"templateCreateDateTime\":[2021,5,11,16,8,0,386000000],\"displayType\":\"vs\",\"mainSubPriority\":0,\"lolSetInfoList\":[],\"esportsLeague\":null,\"commentCount\":0,\"roundCode\":\"kbo_r\",\"channelCode\":null,\"thumbnail\":null,\"pcUrl\":\"/gameCenter/textRelay.nhn?category=kbo&gameId=20210511SSKT02021\",\"gameContents\":{\"homeStarterId\":\"69032\",\"winPitcherId\":\"\",\"winPitcherName\":\"\",\"awayStarterId\":\"69439\",\"losePitcherName\":\"\",\"homeStarterName\":\"쿠에바스\",\"awayStarterName\":\"라이블리\",\"losePitcherId\":\"\"},\"winnerPredictPercentage\":0,\"liveSchedule\":false,\"templateTitle\":null,\"mainSubType\":\"MAIN\",\"whiteList\":false,\"dataId\":\"AUTO_5\",\"isEnable\":\"Y\",\"fixTopPosition\":\"N\",\"image\":\"\",\"contentsId\":\"schedule.20210511SSKT02021\",\"thumbnailImage\":\"\"},{\"superCategoryId\":\"baseball\",\"upperCategoryId\":\"kbaseball\",\"categoryId\":\"kbo\",\"categoryName\":\"KBO\",\"gameId\":\"20210511WOOB02021\",\"statusCode\":\"BEFORE\",\"statusInfo\":\"\",\"cancel\":\"N\",\"isEnableNvm\":\"Y\",\"gameInfo\":\"{\\\\\"game_id\\\\\":\\\\\"20210511WOOB02021\\\\\",\\\\\"current_inning\\\\\":\\\\\"\\\\\",\\\\\"home_team_score_by_inning\\\\\":\\\\\"-,-,-,-,-,-,-,-,-\\\\\",\\\\\"away_team_score_by_inning\\\\\":\\\\\"-,-,-,-,-,-,-,-,-\\\\\",\\\\\"home_team_rheb\\\\\":\\\\\"\\\\\",\\\\\"away_team_rheb\\\\\":\\\\\"\\\\\",\\\\\"home_starter_name\\\\\":\\\\\"로켓\\\\\",\\\\\"home_starter_code\\\\\":\\\\\"51234\\\\\",\\\\\"away_starter_name\\\\\":\\\\\"안우진\\\\\",\\\\\"away_starter_code\\\\\":\\\\\"68341\\\\\",\\\\\"win_pitcher_name\\\\\":\\\\\"\\\\\",\\\\\"win_pitcher_code\\\\\":\\\\\"\\\\\",\\\\\"lose_pitcher_name\\\\\":\\\\\"\\\\\",\\\\\"lose_pitcher_code\\\\\":\\\\\"\\\\\",\\\\\"pts_flag\\\\\":\\\\\"1\\\\\",\\\\\"is_vod\\\\\":\\\\\"N\\\\\",\\\\\"home_starter_w\\\\\":\\\\\"2\\\\\",\\\\\"home_starter_l\\\\\":\\\\\"2\\\\\",\\\\\"home_starter_era\\\\\":\\\\\"2.48\\\\\",\\\\\"home_starter_inn2\\\\\":109,\\\\\"away_starter_w\\\\\":\\\\\"1\\\\\",\\\\\"away_starter_l\\\\\":\\\\\"2\\\\\",\\\\\"away_starter_era\\\\\":\\\\\"4.58\\\\\",\\\\\"away_starter_inn2\\\\\":59,\\\\\"home_comp_inng\\\\\":\\\\\"6.0\\\\\",\\\\\"home_comp_era\\\\\":\\\\\"2.477064220183486\\\\\",\\\\\"home_comp_whip\\\\\":\\\\\"1.35\\\\\",\\\\\"home_comp_innk\\\\\":\\\\\"5.9399999999999995\\\\\",\\\\\"home_comp_qs\\\\\":\\\\\"3\\\\\",\\\\\"home_comp_war\\\\\":\\\\\"1.08\\\\\",\\\\\"away_comp_inng\\\\\":\\\\\"3.2\\\\\",\\\\\"away_comp_era\\\\\":\\\\\"4.576271186440678\\\\\",\\\\\"away_comp_whip\\\\\":\\\\\"1.53\\\\\",\\\\\"away_comp_innk\\\\\":\\\\\"10.53\\\\\",\\\\\"away_comp_qs\\\\\":\\\\\"0\\\\\",\\\\\"away_comp_war\\\\\":\\\\\"0.23\\\\\",\\\\\"broad_channel\\\\\":\\\\\"SPOTV\\\\\",\\\\\"home_short_name\\\\\":\\\\\"두산\\\\\",\\\\\"home_full_name\\\\\":\\\\\"두산 베어스\\\\\",\\\\\"away_short_name\\\\\":\\\\\"키움\\\\\",\\\\\"away_full_name\\\\\":\\\\\"키움 히어로즈\\\\\",\\\\\"info\\\\\":\\\\\"\\\\\",\\\\\"status\\\\\":\\\\\"ORDINARY\\\\\",\\\\\"away_team_extra_info\\\\\":\\\\\"pitcher:null^pitcher_id:null\\\\\",\\\\\"home_team_extra_info\\\\\":\\\\\"pitcher:null^pitcher_id:null\\\\\",\\\\\"region_id\\\\\":\\\\\"13202577\\\\\",\\\\\"away_series_outcome\\\\\":{\\\\\"w\\\\\":\\\\\"0\\\\\",\\\\\"d\\\\\":\\\\\"0\\\\\",\\\\\"l\\\\\":\\\\\"0\\\\\"},\\\\\"home_series_outcome\\\\\":{\\\\\"w\\\\\":\\\\\"0\\\\\",\\\\\"d\\\\\":\\\\\"0\\\\\",\\\\\"l\\\\\":\\\\\"0\\\\\"},\\\\\"dheader\\\\\":\\\\\"0\\\\\",\\\\\"game_no\\\\\":\\\\\"0\\\\\",\\\\\"is_after_first_game\\\\\":true}\",\"gameDateTime\":\"2021-05-11 18:30:00\",\"gameTimeHHmm\":\"18:30\",\"title\":\"키움 VS 두산\",\"stadium\":\"잠실\",\"isScheduledTv\":\"Y\",\"isOnairTv\":\"N\",\"isOnairText\":\"N\",\"liveTotalView\":0,\"liveCurrentView\":0,\"teamName1\":\"키움\",\"teamName2\":\"두산\",\"teamCode1\":\"WO\",\"teamCode2\":\"OB\",\"teamLogo1\":\"https://sports-phinf.pstatic.net/team/kbo/default/WO.png\",\"teamLogo2\":\"https://sports-phinf.pstatic.net/team/kbo/default/OB.png\",\"teamScore1\":0,\"teamScore2\":0,\"winner\":null,\"homeTeamName\":\"두산\",\"awayTeamName\":\"키움\",\"homeTeamCode\":\"OB\",\"awayTeamCode\":\"WO\",\"homeTeamLogo\":\"https://sports-phinf.pstatic.net/team/kbo/default/OB.png\",\"awayTeamLogo\":\"https://sports-phinf.pstatic.net/team/kbo/default/WO.png\",\"homeTeamScore\":0,\"awayTeamScore\":0,\"homeAwayWinner\":\"DRAW\",\"url\":\"/baseball/gamecenter/kbo/index.nhn?gameId=20210511WOOB02021\",\"homeTeamPenaltyScore\":-1,\"awayTeamPenaltyScore\":-1,\"homeCurrentPitcherName\":\"로켓\",\"awayCurrentPitcherName\":\"안우진\",\"templateCreateDateTime\":[2021,5,11,16,8,0,386000000],\"displayType\":\"vs\",\"mainSubPriority\":0,\"lolSetInfoList\":[],\"esportsLeague\":null,\"commentCount\":0,\"roundCode\":\"kbo_r\",\"channelCode\":null,\"thumbnail\":null,\"pcUrl\":\"/gameCenter/textRelay.nhn?category=kbo&gameId=20210511WOOB02021\",\"gameContents\":{\"homeStarterId\":\"51234\",\"winPitcherId\":\"\",\"winPitcherName\":\"\",\"awayStarterId\":\"68341\",\"losePitcherName\":\"\",\"homeStarterName\":\"로켓\",\"awayStarterName\":\"안우진\",\"losePitcherId\":\"\"},\"winnerPredictPercentage\":0,\"liveSchedule\":false,\"templateTitle\":null,\"mainSubType\":\"MAIN\",\"whiteList\":false,\"dataId\":\"AUTO_6\",\"isEnable\":\"Y\",\"fixTopPosition\":\"N\",\"image\":\"\",\"contentsId\":\"schedule.20210511WOOB02021\",\"thumbnailImage\":\"\"},{\"superCategoryId\":\"football\",\"upperCategoryId\":\"kfootball\",\"categoryId\":\"kleague\",\"categoryName\":\"K리그1\",\"gameId\":\"20210511180385\",\"statusCode\":\"BEFORE\",\"statusInfo\":\"시작전\",\"cancel\":\"N\",\"isEnableNvm\":\"Y\",\"gameInfo\":\"{\\\\\"has_pt_score\\\\\":\\\\\"N\\\\\",\\\\\"current_half\\\\\":\\\\\"시작전\\\\\",\\\\\"away_team_scorer\\\\\":\\\\\"\\\\\",\\\\\"game_no\\\\\":21,\\\\\"season\\\\\":\\\\\"2021\\\\\",\\\\\"match_day\\\\\":\\\\\"15\\\\\",\\\\\"home_team_scorer\\\\\":\\\\\"\\\\\",\\\\\"score_detail\\\\\":{\\\\\"home\\\\\":[],\\\\\"away\\\\\":[]},\\\\\"game_id\\\\\":\\\\\"20210511180385\\\\\",\\\\\"info\\\\\":\\\\\"\\\\\"}\",\"gameDateTime\":\"2021-05-11 19:30:00\",\"gameTimeHHmm\":\"19:30\",\"title\":\"인천 VS 포항\",\"stadium\":\"인천 전용\",\"isScheduledTv\":\"Y\",\"isOnairTv\":\"N\",\"isOnairText\":\"N\",\"liveTotalView\":0,\"liveCurrentView\":0,\"teamName1\":\"인천\",\"teamName2\":\"포항\",\"teamCode1\":\"18\",\"teamCode2\":\"03\",\"teamLogo1\":\"https://sports-phinf.pstatic.net/team/kleague/default/18.png\",\"teamLogo2\":\"https://sports-phinf.pstatic.net/team/kleague/default/03.png\",\"teamScore1\":0,\"teamScore2\":0,\"winner\":null,\"homeTeamName\":\"인천\",\"awayTeamName\":\"포항\",\"homeTeamCode\":\"18\",\"awayTeamCode\":\"03\",\"homeTeamLogo\":\"https://sports-phinf.pstatic.net/team/kleague/default/18.png\",\"awayTeamLogo\":\"https://sports-phinf.pstatic.net/team/kleague/default/03.png\",\"homeTeamScore\":0,\"awayTeamScore\":0,\"homeAwayWinner\":\"DRAW\",\"url\":\"/soccer/gamecenter/k_league/index.nhn?gameId=20210511180385\",\"homeTeamPenaltyScore\":-1,\"awayTeamPenaltyScore\":-1,\"homeCurrentPitcherName\":\"\",\"awayCurrentPitcherName\":\"\",\"templateCreateDateTime\":[2021,5,11,16,8,0,428000000],\"displayType\":\"vs\",\"mainSubPriority\":0,\"lolSetInfoList\":[],\"esportsLeague\":null,\"commentCount\":0,\"roundCode\":\"\",\"channelCode\":null,\"thumbnail\":null,\"pcUrl\":\"/gameCenter/textRelayFootball.nhn?category=kleague&gameId=20210511180385\",\"gameContents\":{\"formation\":null},\"winnerPredictPercentage\":0,\"liveSchedule\":false,\"templateTitle\":\"\",\"mainSubType\":\"MAIN\",\"whiteList\":false,\"dataId\":\"AUTO_7\",\"isEnable\":\"Y\",\"fixTopPosition\":\"N\",\"image\":\"\",\"contentsId\":\"schedule.20210511180385\",\"thumbnailImage\":\"\"},{\"superCategoryId\":\"football\",\"upperCategoryId\":\"kfootball\",\"categoryId\":\"kleague\",\"categoryName\":\"K리그1\",\"gameId\":\"20210511292286\",\"statusCode\":\"BEFORE\",\"statusInfo\":\"시작전\",\"cancel\":\"N\",\"isEnableNvm\":\"Y\",\"gameInfo\":\"{\\\\\"has_pt_score\\\\\":\\\\\"N\\\\\",\\\\\"current_half\\\\\":\\\\\"시작전\\\\\",\\\\\"away_team_scorer\\\\\":\\\\\"\\\\\",\\\\\"game_no\\\\\":21,\\\\\"season\\\\\":\\\\\"2021\\\\\",\\\\\"match_day\\\\\":\\\\\"15\\\\\",\\\\\"home_team_scorer\\\\\":\\\\\"\\\\\",\\\\\"score_detail\\\\\":{\\\\\"home\\\\\":[],\\\\\"away\\\\\":[]},\\\\\"game_id\\\\\":\\\\\"20210511292286\\\\\",\\\\\"info\\\\\":\\\\\"\\\\\"}\",\"gameDateTime\":\"2021-05-11 19:30:00\",\"gameTimeHHmm\":\"19:30\",\"title\":\"수원FC VS 광주\",\"stadium\":\"수원 종합\",\"isScheduledTv\":\"Y\",\"isOnairTv\":\"N\",\"isOnairText\":\"N\",\"liveTotalView\":0,\"liveCurrentView\":0,\"teamName1\":\"수원FC\",\"teamName2\":\"광주\",\"teamCode1\":\"29\",\"teamCode2\":\"22\",\"teamLogo1\":\"https://sports-phinf.pstatic.net/team/kleague/default/29.png\",\"teamLogo2\":\"https://sports-phinf.pstatic.net/team/kleague/default/22.png\",\"teamScore1\":0,\"teamScore2\":0,\"winner\":null,\"homeTeamName\":\"수원FC\",\"awayTeamName\":\"광주\",\"homeTeamCode\":\"29\",\"awayTeamCode\":\"22\",\"homeTeamLogo\":\"https://sports-phinf.pstatic.net/team/kleague/default/29.png\",\"awayTeamLogo\":\"https://sports-phinf.pstatic.net/team/kleague/default/22.png\",\"homeTeamScore\":0,\"awayTeamScore\":0,\"homeAwayWinner\":\"DRAW\",\"url\":\"/soccer/gamecenter/k_league/index.nhn?gameId=20210511292286\",\"homeTeamPenaltyScore\":-1,\"awayTeamPenaltyScore\":-1,\"homeCurrentPitcherName\":\"\",\"awayCurrentPitcherName\":\"\",\"templateCreateDateTime\":[2021,5,11,16,8,0,428000000],\"displayType\":\"vs\",\"mainSubPriority\":0,\"lolSetInfoList\":[],\"esportsLeague\":null,\"commentCount\":0,\"roundCode\":\"\",\"channelCode\":null,\"thumbnail\":null,\"pcUrl\":\"/gameCenter/textRelayFootball.nhn?category=kleague&gameId=20210511292286\",\"gameContents\":{\"formation\":null},\"winnerPredictPercentage\":0,\"liveSchedule\":false,\"templateTitle\":\"\",\"mainSubType\":\"MAIN\",\"whiteList\":false,\"dataId\":\"AUTO_8\",\"isEnable\":\"Y\",\"fixTopPosition\":\"N\",\"image\":\"\",\"contentsId\":\"schedule.20210511292286\",\"thumbnailImage\":\"\"},{\"superCategoryId\":\"general\",\"upperCategoryId\":\"esports\",\"categoryId\":\"lol\",\"categoryName\":\"MSI\",\"gameId\":\"2021051122YiLpfOV8467lol\",\"statusCode\":\"BEFORE\",\"statusInfo\":\"경기전\",\"cancel\":\"N\",\"isEnableNvm\":\"Y\",\"gameInfo\":\"{\\\\\"maxGames\\\\\":1,\\\\\"currentSet\\\\\":0,\\\\\"seasonCode\\\\\":\\\\\"msi_2021\\\\\",\\\\\"homeSetScore\\\\\":[],\\\\\"awaySetScore\\\\\":[]}\",\"gameDateTime\":\"2021-05-11 22:00:00\",\"gameTimeHHmm\":\"22:00\",\"title\":\"Cloud9 VS 담원 기아\",\"stadium\":\"아이슬란드 Laugardalsholl\",\"isScheduledTv\":\"Y\",\"isOnairTv\":\"N\",\"isOnairText\":\"N\",\"liveTotalView\":0,\"liveCurrentView\":0,\"teamName1\":\"Cloud9\",\"teamName2\":\"담원 기아\",\"teamCode1\":\"R18\",\"teamCode2\":\"R1073\",\"teamLogo1\":\"https://sports-phinf.pstatic.net/team/lol/default/R18.png\",\"teamLogo2\":\"https://sports-phinf.pstatic.net/team/lol/default/R1073.png\",\"teamScore1\":0,\"teamScore2\":0,\"winner\":null,\"homeTeamName\":\"Cloud9\",\"awayTeamName\":\"담원 기아\",\"homeTeamCode\":\"R18\",\"awayTeamCode\":\"R1073\",\"homeTeamLogo\":\"https://sports-phinf.pstatic.net/team/lol/default/R18.png\",\"awayTeamLogo\":\"https://sports-phinf.pstatic.net/team/lol/default/R1073.png\",\"homeTeamScore\":0,\"awayTeamScore\":0,\"homeAwayWinner\":\"DRAW\",\"url\":\"/esports/gamecenter/lol/index.nhn?gameId=2021051122YiLpfOV8467lol\",\"homeTeamPenaltyScore\":-1,\"awayTeamPenaltyScore\":-1,\"homeCurrentPitcherName\":\"\",\"awayCurrentPitcherName\":\"\",\"templateCreateDateTime\":[2021,5,11,16,8,0,473000000],\"displayType\":\"vs\",\"mainSubPriority\":0,\"lolSetInfoList\":[],\"esportsLeague\":\"MSI\",\"commentCount\":0,\"roundCode\":\"\",\"channelCode\":null,\"thumbnail\":null,\"pcUrl\":\"javascript:popUp(\\'/tv/index.nhn?uCategory=esports&category=lol&gameId=2021051122YiLpfOV8467lol\\', 1088, 670 );\",\"gameContents\":null,\"winnerPredictPercentage\":0,\"liveSchedule\":false,\"templateTitle\":\"그룹 스테이지\",\"mainSubType\":\"MAIN\",\"whiteList\":false,\"dataId\":\"AUTO_9\",\"isEnable\":\"Y\",\"fixTopPosition\":\"N\",\"image\":\"\",\"contentsId\":\"schedule.2021051122YiLpfOV8467lol\",\"thumbnailImage\":\"\"},{\"superCategoryId\":\"general\",\"upperCategoryId\":\"esports\",\"categoryId\":\"lol\",\"categoryName\":\"MSI\",\"gameId\":\"20210511231I2FUDb9901lol\",\"statusCode\":\"BEFORE\",\"statusInfo\":\"경기전\",\"cancel\":\"N\",\"isEnableNvm\":\"Y\",\"gameInfo\":\"{\\\\\"maxGames\\\\\":1,\\\\\"currentSet\\\\\":0,\\\\\"seasonCode\\\\\":\\\\\"msi_2021\\\\\",\\\\\"homeSetScore\\\\\":[],\\\\\"awaySetScore\\\\\":[]}\",\"gameDateTime\":\"2021-05-11 23:00:00\",\"gameTimeHHmm\":\"23:00\",\"title\":\"DetonatioN FocusMe VS Gillette Infinity\",\"stadium\":\"아이슬란드 Laugardalsholl\",\"isScheduledTv\":\"Y\",\"isOnairTv\":\"N\",\"isOnairText\":\"N\",\"liveTotalView\":0,\"liveCurrentView\":0,\"teamName1\":\"DetonatioN FocusMe\",\"teamName2\":\"Gillette Infinity\",\"teamCode1\":\"R200\",\"teamCode2\":\"R262\",\"teamLogo1\":\"https://sports-phinf.pstatic.net/team/lol/default/R200.png\",\"teamLogo2\":\"https://sports-phinf.pstatic.net/team/lol/default/R262.png\",\"teamScore1\":0,\"teamScore2\":0,\"winner\":null,\"homeTeamName\":\"DetonatioN FocusMe\",\"awayTeamName\":\"Gillette Infinity\",\"homeTeamCode\":\"R200\",\"awayTeamCode\":\"R262\",\"homeTeamLogo\":\"https://sports-phinf.pstatic.net/team/lol/default/R200.png\",\"awayTeamLogo\":\"https://sports-phinf.pstatic.net/team/lol/default/R262.png\",\"homeTeamScore\":0,\"awayTeamScore\":0,\"homeAwayWinner\":\"DRAW\",\"url\":\"/esports/gamecenter/lol/index.nhn?gameId=20210511231I2FUDb9901lol\",\"homeTeamPenaltyScore\":-1,\"awayTeamPenaltyScore\":-1,\"homeCurrentPitcherName\":\"\",\"awayCurrentPitcherName\":\"\",\"templateCreateDateTime\":[2021,5,11,16,8,0,473000000],\"displayType\":\"vs\",\"mainSubPriority\":0,\"lolSetInfoList\":[],\"esportsLeague\":\"MSI\",\"commentCount\":0,\"roundCode\":\"\",\"channelCode\":null,\"thumbnail\":null,\"pcUrl\":\"javascript:popUp(\\'/tv/index.nhn?uCategory=esports&category=lol&gameId=20210511231I2FUDb9901lol\\', 1088, 670 );\",\"gameContents\":null,\"winnerPredictPercentage\":0,\"liveSchedule\":false,\"templateTitle\":\"그룹 스테이지\",\"mainSubType\":\"MAIN\",\"whiteList\":false,\"dataId\":\"AUTO_10\",\"isEnable\":\"Y\",\"fixTopPosition\":\"N\",\"image\":\"\",\"contentsId\":\"schedule.20210511231I2FUDb9901lol\",\"thumbnailImage\":\"\"},{\"superCategoryId\":\"general\",\"upperCategoryId\":\"others\",\"categoryId\":\"etc\",\"categoryName\":\"바둑\",\"gameId\":\"20210511BD2\",\"statusCode\":\"BEFORE\",\"statusInfo\":\"\",\"cancel\":\"N\",\"isEnableNvm\":\"N\",\"gameInfo\":null,\"gameDateTime\":\"2021-05-11 19:00:00\",\"gameTimeHHmm\":\"19:00\",\"title\":\"하찬석국수배 영재최강전\",\"stadium\":\"바둑TV 스튜디오\",\"isScheduledTv\":\"Y\",\"isOnairTv\":\"N\",\"isOnairText\":\"N\",\"liveTotalView\":0,\"liveCurrentView\":0,\"teamName1\":\"\",\"teamName2\":\"\",\"teamCode1\":\"\",\"teamCode2\":\"\",\"teamLogo1\":\"\",\"teamLogo2\":\"\",\"teamScore1\":0,\"teamScore2\":0,\"winner\":null,\"homeTeamName\":\"\",\"awayTeamName\":\"\",\"homeTeamCode\":\"\",\"awayTeamCode\":\"\",\"homeTeamLogo\":\"\",\"awayTeamLogo\":\"\",\"homeTeamScore\":0,\"awayTeamScore\":0,\"homeAwayWinner\":\"DRAW\",\"url\":\"/general/gamecenter/etc/index.nhn?gameId=20210511BD2\",\"homeTeamPenaltyScore\":-1,\"awayTeamPenaltyScore\":-1,\"homeCurrentPitcherName\":\"\",\"awayCurrentPitcherName\":\"\",\"templateCreateDateTime\":[2021,5,11,16,8,0,462000000],\"displayType\":\"text\",\"mainSubPriority\":1,\"lolSetInfoList\":[],\"esportsLeague\":null,\"commentCount\":0,\"roundCode\":\"\",\"channelCode\":null,\"thumbnail\":null,\"pcUrl\":\"javascript:popUp(\\'/tv/index.nhn?uCategory=others&category=etc&gameId=20210511BD2\\', 1088, 670 );\",\"gameContents\":null,\"winnerPredictPercentage\":0,\"liveSchedule\":false,\"templateTitle\":\"하찬석국수배 영재최강전\",\"mainSubType\":\"SUB\",\"whiteList\":false,\"dataId\":\"AUTO_11\",\"isEnable\":\"Y\",\"fixTopPosition\":\"N\",\"image\":\"\",\"contentsId\":\"schedule.20210511BD2\",\"thumbnailImage\":\"\"},{\"superCategoryId\":\"general\",\"upperCategoryId\":\"esports\",\"categoryId\":\"game\",\"categoryName\":\"게임\",\"gameId\":\"20210511HDN1\",\"statusCode\":\"BEFORE\",\"statusInfo\":\"\",\"cancel\":\"N\",\"isEnableNvm\":\"N\",\"gameInfo\":null,\"gameDateTime\":\"2021-05-11 19:50:00\",\"gameTimeHHmm\":\"19:50\",\"title\":\"현대 N e 페스티벌 Round 3\",\"stadium\":\"\",\"isScheduledTv\":\"Y\",\"isOnairTv\":\"N\",\"isOnairText\":\"N\",\"liveTotalView\":0,\"liveCurrentView\":0,\"teamName1\":\"\",\"teamName2\":\"\",\"teamCode1\":\"\",\"teamCode2\":\"\",\"teamLogo1\":\"\",\"teamLogo2\":\"\",\"teamScore1\":0,\"teamScore2\":0,\"winner\":null,\"homeTeamName\":\"\",\"awayTeamName\":\"\",\"homeTeamCode\":\"\",\"awayTeamCode\":\"\",\"homeTeamLogo\":\"\",\"awayTeamLogo\":\"\",\"homeTeamScore\":0,\"awayTeamScore\":0,\"homeAwayWinner\":\"DRAW\",\"url\":\"/general/gamecenter/etc/index.nhn?gameId=20210511HDN1\",\"homeTeamPenaltyScore\":-1,\"awayTeamPenaltyScore\":-1,\"homeCurrentPitcherName\":\"\",\"awayCurrentPitcherName\":\"\",\"templateCreateDateTime\":[2021,5,11,16,8,0,473000000],\"displayType\":\"text\",\"mainSubPriority\":1,\"lolSetInfoList\":[],\"esportsLeague\":\"EMPTY\",\"commentCount\":0,\"roundCode\":\"\",\"channelCode\":null,\"thumbnail\":null,\"pcUrl\":\"javascript:popUp(\\'/tv/index.nhn?uCategory=esports&category=game&gameId=20210511HDN1\\', 1088, 670 );\",\"gameContents\":null,\"winnerPredictPercentage\":0,\"liveSchedule\":false,\"templateTitle\":\"현대 N e 페스티벌 Round 3\",\"mainSubType\":\"SUB\",\"whiteList\":false,\"dataId\":\"AUTO_12\",\"isEnable\":\"Y\",\"fixTopPosition\":\"N\",\"image\":\"\",\"contentsId\":\"schedule.20210511HDN1\",\"thumbnailImage\":\"\"},{\"superCategoryId\":\"football\",\"upperCategoryId\":\"wfootball\",\"categoryId\":\"epl\",\"categoryName\":\"PL\",\"gameId\":\"2021051210023204487\",\"statusCode\":\"BEFORE\",\"statusInfo\":\"경기전\",\"cancel\":\"N\",\"isEnableNvm\":\"N\",\"gameInfo\":\"{\\\\\"shoot_out_json\\\\\":{\\\\\"home\\\\\":[],\\\\\"away\\\\\":[],\\\\\"homeScore\\\\\":0,\\\\\"awayScore\\\\\":0},\\\\\"home_team_regular_league\\\\\":\\\\\"epl\\\\\",\\\\\"away_team_regular_league\\\\\":\\\\\"epl\\\\\",\\\\\"home_team_scorer\\\\\":\\\\\"\\\\\",\\\\\"has_pt_score\\\\\":\\\\\"N\\\\\",\\\\\"current_half\\\\\":\\\\\"경기전\\\\\",\\\\\"away_team_extra_info\\\\\":\\\\\"\\\\\",\\\\\"away_team_scorer\\\\\":\\\\\"\\\\\",\\\\\"scorer_json\\\\\":{\\\\\"home\\\\\":[],\\\\\"away\\\\\":[]},\\\\\"season\\\\\":\\\\\"2021\\\\\",\\\\\"game_no\\\\\":0,\\\\\"home_team_extra_info\\\\\":\\\\\"\\\\\",\\\\\"match_day\\\\\":\\\\\"36\\\\\",\\\\\"match_round\\\\\":\\\\\"36\\\\\",\\\\\"game_id\\\\\":\\\\\"2021051210023204487\\\\\"}\",\"gameDateTime\":\"2021-05-12 02:00:00\",\"gameTimeHHmm\":\"02:00\",\"title\":\"맨유 VS 레스터\",\"stadium\":\"Old Trafford\",\"isScheduledTv\":\"\\\\u0000\",\"isOnairTv\":\"\\\\u0000\",\"isOnairText\":\"\\\\u0000\",\"liveTotalView\":0,\"liveCurrentView\":0,\"teamName1\":\"맨유\",\"teamName2\":\"레스터\",\"teamCode1\":\"12\",\"teamCode2\":\"29\",\"teamLogo1\":\"https://sports-phinf.pstatic.net/team/wfootball/default/12.png\",\"teamLogo2\":\"https://sports-phinf.pstatic.net/team/wfootball/default/29.png\",\"teamScore1\":0,\"teamScore2\":0,\"winner\":null,\"homeTeamName\":\"맨유\",\"awayTeamName\":\"레스터\",\"homeTeamCode\":\"12\",\"awayTeamCode\":\"29\",\"homeTeamLogo\":\"https://sports-phinf.pstatic.net/team/wfootball/default/12.png\",\"awayTeamLogo\":\"https://sports-phinf.pstatic.net/team/wfootball/default/29.png\",\"homeTeamScore\":0,\"awayTeamScore\":0,\"homeAwayWinner\":\"DRAW\",\"url\":\"/worldfootball/gamecenter/worldfootball/index.nhn?league=epl&gameId=2021051210023204487\",\"homeTeamPenaltyScore\":-1,\"awayTeamPenaltyScore\":-1,\"homeCurrentPitcherName\":\"\",\"awayCurrentPitcherName\":\"\",\"templateCreateDateTime\":[2021,5,11,16,8,0,411000000],\"displayType\":\"vs\",\"mainSubPriority\":1,\"lolSetInfoList\":[],\"esportsLeague\":null,\"commentCount\":0,\"roundCode\":\"\",\"channelCode\":null,\"thumbnail\":null,\"pcUrl\":\"/sports/new/live/index.nhn?category=worldfootball&gameId=2021051210023204487\",\"gameContents\":{\"gameEvent\":[],\"predict\":{\"season\":\"2020\",\"predictId\":75,\"round\":34,\"predictGameId\":634,\"homeSelectCount\":92522,\"homeSelectRatio\":76,\"awaySelectCount\":14320,\"awaySelectRatio\":12,\"drawSelectCount\":14324,\"drawSelectRatio\":12,\"totalCount\":121166,\"homeTeamName\":\"맨유\",\"awayTeamName\":\"레스터\",\"homeMyTeamColorStart\":\"#af1108\",\"homeMyTeamColorEnd\":\"#e32c22\",\"homeMyTeamColorFont\":\"#ffffff\",\"awayMyTeamColorStart\":\"#0B56A4\",\"awayMyTeamColorEnd\":\"#003090\",\"awayMyTeamColorFont\":\"#FFFFFF\"},\"formation\":null,\"video\":[]},\"winnerPredictPercentage\":0,\"liveSchedule\":false,\"templateTitle\":\"\",\"mainSubType\":\"SUB\",\"whiteList\":true,\"dataId\":\"AUTO_13\",\"isEnable\":\"Y\",\"fixTopPosition\":\"N\",\"image\":\"\",\"contentsId\":\"schedule.2021051210023204487\",\"thumbnailImage\":\"\"},{\"superCategoryId\":\"football\",\"upperCategoryId\":\"wfootball\",\"categoryId\":\"primera\",\"categoryName\":\"라리가\",\"gameId\":\"2021051265023361029\",\"statusCode\":\"BEFORE\",\"statusInfo\":\"경기전\",\"cancel\":\"N\",\"isEnableNvm\":\"N\",\"gameInfo\":\"{\\\\\"shoot_out_json\\\\\":{\\\\\"home\\\\\":[],\\\\\"away\\\\\":[],\\\\\"homeScore\\\\\":0,\\\\\"awayScore\\\\\":0},\\\\\"home_team_regular_league\\\\\":\\\\\"primera\\\\\",\\\\\"away_team_regular_league\\\\\":\\\\\"primera\\\\\",\\\\\"home_team_scorer\\\\\":\\\\\"\\\\\",\\\\\"has_pt_score\\\\\":\\\\\"N\\\\\",\\\\\"current_half\\\\\":\\\\\"경기전\\\\\",\\\\\"away_team_extra_info\\\\\":\\\\\"\\\\\",\\\\\"away_team_scorer\\\\\":\\\\\"\\\\\",\\\\\"scorer_json\\\\\":{\\\\\"home\\\\\":[],\\\\\"away\\\\\":[]},\\\\\"season\\\\\":\\\\\"2021\\\\\",\\\\\"game_no\\\\\":0,\\\\\"home_team_extra_info\\\\\":\\\\\"\\\\\",\\\\\"match_day\\\\\":\\\\\"36\\\\\",\\\\\"match_round\\\\\":\\\\\"36\\\\\",\\\\\"game_id\\\\\":\\\\\"2021051265023361029\\\\\"}\",\"gameDateTime\":\"2021-05-12 05:00:00\",\"gameTimeHHmm\":\"05:00\",\"title\":\"레반테 VS 바르셀로나\",\"stadium\":\"Ciutat de Valencia\",\"isScheduledTv\":\"\\\\u0000\",\"isOnairTv\":\"\\\\u0000\",\"isOnairText\":\"\\\\u0000\",\"liveTotalView\":0,\"liveCurrentView\":0,\"teamName1\":\"레반테\",\"teamName2\":\"바르셀로나\",\"teamCode1\":\"37454\",\"teamCode2\":\"26300\",\"teamLogo1\":\"https://sports-phinf.pstatic.net/team/wfootball/default/37454.png\",\"teamLogo2\":\"https://sports-phinf.pstatic.net/team/wfootball/default/26300.png\",\"teamScore1\":0,\"teamScore2\":0,\"winner\":null,\"homeTeamName\":\"레반테\",\"awayTeamName\":\"바르셀로나\",\"homeTeamCode\":\"37454\",\"awayTeamCode\":\"26300\",\"homeTeamLogo\":\"https://sports-phinf.pstatic.net/team/wfootball/default/37454.png\",\"awayTeamLogo\":\"https://sports-phinf.pstatic.net/team/wfootball/default/26300.png\",\"homeTeamScore\":0,\"awayTeamScore\":0,\"homeAwayWinner\":\"DRAW\",\"url\":\"/worldfootball/gamecenter/worldfootball/index.nhn?league=primera&gameId=2021051265023361029\",\"homeTeamPenaltyScore\":-1,\"awayTeamPenaltyScore\":-1,\"homeCurrentPitcherName\":\"\",\"awayCurrentPitcherName\":\"\",\"templateCreateDateTime\":[2021,5,11,16,8,0,411000000],\"displayType\":\"vs\",\"mainSubPriority\":1,\"lolSetInfoList\":[],\"esportsLeague\":null,\"commentCount\":0,\"roundCode\":\"\",\"channelCode\":null,\"thumbnail\":null,\"pcUrl\":\"/sports/new/live/index.nhn?category=worldfootball&gameId=2021051265023361029\",\"gameContents\":{\"gameEvent\":[],\"predict\":null,\"formation\":null,\"video\":[]},\"winnerPredictPercentage\":0,\"liveSchedule\":false,\"templateTitle\":\"\",\"mainSubType\":\"SUB\",\"whiteList\":true,\"dataId\":\"AUTO_14\",\"isEnable\":\"Y\",\"fixTopPosition\":\"N\",\"image\":\"\",\"contentsId\":\"schedule.2021051265023361029\",\"thumbnailImage\":\"\"}],\\n\\t\\t});\\n\\t</script>\\n\\n\\n\\n\\n    </div>\\n</div>\\n\\n<div id=\"content\">\\n    \\n    <div class=\"main_wrap\">\\n        <div class=\"today_section type_no_da\">\\n            \\n\\n\\n\\n\\n\\n\\n\\n\\n\\n<h3 class=\"blind\">오늘의 스포츠</h3>\\n<ul class=\"today_list\">\\n\\n\\t\\n\\t\\t\\n\\t\\t\\t<li class=\"today_item\">\\n\\t\\t\\t\\t<a href=\"/news.nhn?oid=410&aid=0000784601\"\\n\\t\\t\\t\\t   class=\"link_today\"\\n\\t\\t\\t\\t   title=\"‘감독들의 무덤’ 롯데, 잔여 연봉 지급액만 ‘21억 원’ 수준 [MK시선]\"\\n\\t\\t\\t\\t   onclick=\"clickcr(this, \\'rnk*r.list\\', \\'410_0000784601\\', \\'1\\', event);\"\\n\\t\\t\\t\\t   data-not-edited=\"Y\">\\n\\n\\t\\t\\t\\t\\t<div class=\"image_area\">\\n\\t\\t\\t\\t\\t\\t<!-- [D] 썸네일 이미지 alt 값 비워주세요. -->\\n\\n\\t\\t\\t\\t\\t\\t<img src=\"https://dthumb-phinf.pstatic.net?src=http://imgnews.naver.net/image/410/2021/05/11/0000784601_001_20210511135004167.jpg&type=nf160_95&service=sports\" width=\"160\" height=\"95\" alt=\"\">\\n\\t\\t\\t\\t\\t</div>\\n\\t\\t\\t\\t\\t<div class=\"text_area\">\\n\\t\\t\\t\\t\\t\\t<strong class=\"title\">‘감독들의 무덤’ 롯데, 잔여 연봉 지급액만 ‘21억 원’ 수준 [MK시선]</strong>\\n\\t\\t\\t\\t\\t\\t<!-- [D] 내용 두줄 말줄임 적용해주세요. -->\\n\\t\\t\\t\\t\\t\\t<p class=\"news\">\\n\\t\\t\\t\\t\\t\\t\\t\\t매경닷컴 MK스포츠 안준철 기자롯데 자이언츠가 ‘감독들의 무덤’이라는 오명을 피하지 못했다. 최근 10년 동안 재임했던 감독들이 모두 계약기간을 채우지 못하...\\n\\t\\t\\t\\t\\t\\t</p>\\n\\t\\t\\t\\t\\t\\t<div class=\"information\">\\n\\t\\t\\t\\t\\t\\t\\t<span>MK스포츠 </span>\\n\\t\\t\\t\\t\\t\\t\\t<span>KBO리그</span>\\n\\t\\t\\t\\t\\t\\t</div>\\n\\t\\t\\t\\t\\t</div>\\n\\t\\t\\t\\t</a>\\n\\t\\t\\t</li>\\n\\t\\t\\n\\t\\n\\t\\t\\n\\t\\t\\t<li class=\"today_item\">\\n\\t\\t\\t\\t<a href=\"/news.nhn?oid=108&aid=0002954062\"\\n\\t\\t\\t\\t   class=\"link_today\"\\n\\t\\t\\t\\t   title=\"[오피셜] 롯데 허문회 전격 경질, 래리 서튼 신임 감독 선임\"\\n\\t\\t\\t\\t   onclick=\"clickcr(this, \\'rnk*r.list\\', \\'108_0002954062\\', \\'2\\', event);\"\\n\\t\\t\\t\\t   data-not-edited=\"Y\">\\n\\n\\t\\t\\t\\t\\t<div class=\"image_area\">\\n\\t\\t\\t\\t\\t\\t<!-- [D] 썸네일 이미지 alt 값 비워주세요. -->\\n\\n\\t\\t\\t\\t\\t\\t<img src=\"https://dthumb-phinf.pstatic.net?src=http://imgnews.naver.net/image/108/2021/05/11/0002954062_001_20210511114602684.jpg&type=nf160_95&service=sports\" width=\"160\" height=\"95\" alt=\"\">\\n\\t\\t\\t\\t\\t</div>\\n\\t\\t\\t\\t\\t<div class=\"text_area\">\\n\\t\\t\\t\\t\\t\\t<strong class=\"title\">[오피셜] 롯데 허문회 전격 경질, 래리 서튼 신임 감독 선임</strong>\\n\\t\\t\\t\\t\\t\\t<!-- [D] 내용 두줄 말줄임 적용해주세요. -->\\n\\t\\t\\t\\t\\t\\t<p class=\"news\">\\n\\t\\t\\t\\t\\t\\t\\t\\t[스타뉴스 김우종 기자] 래리 서튼 롯데 신임 감독 /사진=OSEN롯데가 허문회(49) 감독을 전격 경질했다.롯데 자이언츠는 11일 &quot;신임 감독으로...\\n\\t\\t\\t\\t\\t\\t</p>\\n\\t\\t\\t\\t\\t\\t<div class=\"information\">\\n\\t\\t\\t\\t\\t\\t\\t<span>스타뉴스</span>\\n\\t\\t\\t\\t\\t\\t\\t<span>KBO리그</span>\\n\\t\\t\\t\\t\\t\\t</div>\\n\\t\\t\\t\\t\\t</div>\\n\\t\\t\\t\\t</a>\\n\\t\\t\\t</li>\\n\\t\\t\\n\\t\\n\\t\\t\\n\\t\\t\\t<li class=\"today_item\">\\n\\t\\t\\t\\t<a href=\"/news.nhn?oid=343&aid=0000104983\"\\n\\t\\t\\t\\t   class=\"link_today\"\\n\\t\\t\\t\\t   title=\"루니, “맨유 9번 시절, 시즌 34골 넣어도 끔찍했다”\"\\n\\t\\t\\t\\t   onclick=\"clickcr(this, \\'rnk*r.list\\', \\'343_0000104983\\', \\'3\\', event);\"\\n\\t\\t\\t\\t   data-not-edited=\"Y\">\\n\\n\\t\\t\\t\\t\\t<div class=\"image_area\">\\n\\t\\t\\t\\t\\t\\t<!-- [D] 썸네일 이미지 alt 값 비워주세요. -->\\n\\n\\t\\t\\t\\t\\t\\t<img src=\"https://dthumb-phinf.pstatic.net?src=http://imgnews.naver.net/image/343/2021/05/11/2021051191_20210511112803713.jpg&type=nf160_95&service=sports\" width=\"160\" height=\"95\" alt=\"\">\\n\\t\\t\\t\\t\\t</div>\\n\\t\\t\\t\\t\\t<div class=\"text_area\">\\n\\t\\t\\t\\t\\t\\t<strong class=\"title\">루니, “맨유 9번 시절, 시즌 34골 넣어도 끔찍했다”</strong>\\n\\t\\t\\t\\t\\t\\t<!-- [D] 내용 두줄 말줄임 적용해주세요. -->\\n\\t\\t\\t\\t\\t\\t<p class=\"news\">\\n\\t\\t\\t\\t\\t\\t\\t\\t(베스트 일레븐)웨인 루니 더비 카운티 감독이 맨체스터 유나이티드에서 통상 9번으로 불리는 중앙 공격수로 뛰던 시기가 끔찍했다고 밝혔다.루니는 맨체스터 유나...\\n\\t\\t\\t\\t\\t\\t</p>\\n\\t\\t\\t\\t\\t\\t<div class=\"information\">\\n\\t\\t\\t\\t\\t\\t\\t<span>베스트일레븐</span>\\n\\t\\t\\t\\t\\t\\t\\t<span>프리미어리그</span>\\n\\t\\t\\t\\t\\t\\t</div>\\n\\t\\t\\t\\t\\t</div>\\n\\t\\t\\t\\t</a>\\n\\t\\t\\t</li>\\n\\t\\t\\n\\t\\n\\t\\t\\n\\t\\t\\t<li class=\"today_item\">\\n\\t\\t\\t\\t<a href=\"/news.nhn?oid=241&aid=0003115381\"\\n\\t\\t\\t\\t   class=\"link_today\"\\n\\t\\t\\t\\t   title=\"라멜라, SNS에 자신의 가족 욕한 한국인 \\'공개 저격\\'\"\\n\\t\\t\\t\\t   onclick=\"clickcr(this, \\'rnk*r.list\\', \\'241_0003115381\\', \\'4\\', event);\"\\n\\t\\t\\t\\t   data-not-edited=\"Y\">\\n\\n\\t\\t\\t\\t\\t<div class=\"image_area\">\\n\\t\\t\\t\\t\\t\\t<!-- [D] 썸네일 이미지 alt 값 비워주세요. -->\\n\\n\\t\\t\\t\\t\\t\\t<img src=\"https://dthumb-phinf.pstatic.net?src=http://imgnews.naver.net/image/241/2021/05/11/0003115381_001_20210511093704204.jpg&type=nf160_95&service=sports\" width=\"160\" height=\"95\" alt=\"\">\\n\\t\\t\\t\\t\\t</div>\\n\\t\\t\\t\\t\\t<div class=\"text_area\">\\n\\t\\t\\t\\t\\t\\t<strong class=\"title\">라멜라, SNS에 자신의 가족 욕한 한국인 \\'공개 저격\\'</strong>\\n\\t\\t\\t\\t\\t\\t<!-- [D] 내용 두줄 말줄임 적용해주세요. -->\\n\\t\\t\\t\\t\\t\\t<p class=\"news\">\\n\\t\\t\\t\\t\\t\\t\\t\\t[일간스포츠 김도정] 에릭 라멜라. 사진 = getty 토트넘 홋스퍼의 에릭 라멜라가(29) 단단히 화가 났다. 라멜라는 11일(한국시간) 자신의 인스타그램...\\n\\t\\t\\t\\t\\t\\t</p>\\n\\t\\t\\t\\t\\t\\t<div class=\"information\">\\n\\t\\t\\t\\t\\t\\t\\t<span>일간스포츠</span>\\n\\t\\t\\t\\t\\t\\t\\t<span>프리미어리그</span>\\n\\t\\t\\t\\t\\t\\t</div>\\n\\t\\t\\t\\t\\t</div>\\n\\t\\t\\t\\t</a>\\n\\t\\t\\t</li>\\n\\t\\t\\n\\t\\n\\t\\t\\n\\t\\t\\t<li class=\"today_item\">\\n\\t\\t\\t\\t<a href=\"/news.nhn?oid=109&aid=0004403409\"\\n\\t\\t\\t\\t   class=\"link_today\"\\n\\t\\t\\t\\t   title=\"양현종이 1순위라더니…텍사스, 아리하라 대체자로 벤자민 낙점\"\\n\\t\\t\\t\\t   onclick=\"clickcr(this, \\'rnk*r.list\\', \\'109_0004403409\\', \\'5\\', event);\"\\n\\t\\t\\t\\t   data-not-edited=\"Y\">\\n\\n\\t\\t\\t\\t\\t<div class=\"image_area\">\\n\\t\\t\\t\\t\\t\\t<!-- [D] 썸네일 이미지 alt 값 비워주세요. -->\\n\\n\\t\\t\\t\\t\\t\\t<img src=\"https://dthumb-phinf.pstatic.net?src=http://imgnews.naver.net/image/109/2021/05/11/0004403409_001_20210511094104297.jpeg&type=nf160_95&service=sports\" width=\"160\" height=\"95\" alt=\"\">\\n\\t\\t\\t\\t\\t</div>\\n\\t\\t\\t\\t\\t<div class=\"text_area\">\\n\\t\\t\\t\\t\\t\\t<strong class=\"title\">양현종이 1순위라더니…텍사스, 아리하라 대체자로 벤자민 낙점</strong>\\n\\t\\t\\t\\t\\t\\t<!-- [D] 내용 두줄 말줄임 적용해주세요. -->\\n\\t\\t\\t\\t\\t\\t<p class=\"news\">\\n\\t\\t\\t\\t\\t\\t\\t\\t[OSEN=서프라이즈(미 애리조나주), 이사부 통신원]양현종이 몸을 풀고 있다. /lsboo@osen.co.kr[OSEN=이후광 기자] 부상 이탈한 아리하라...\\n\\t\\t\\t\\t\\t\\t</p>\\n\\t\\t\\t\\t\\t\\t<div class=\"information\">\\n\\t\\t\\t\\t\\t\\t\\t<span>OSEN</span>\\n\\t\\t\\t\\t\\t\\t\\t<span>메이저리그</span>\\n\\t\\t\\t\\t\\t\\t</div>\\n\\t\\t\\t\\t\\t</div>\\n\\t\\t\\t\\t</a>\\n\\t\\t\\t</li>\\n\\t\\t\\n\\t\\n\\t\\t\\n\\t\\t\\t<li class=\"today_item\">\\n\\t\\t\\t\\t<a href=\"/news.nhn?oid=109&aid=0004403505\"\\n\\t\\t\\t\\t   class=\"link_today\"\\n\\t\\t\\t\\t   title=\"\\'목발 짚고 작별 인사\\' 이유 있었네...日기자, 부상 귀국 테임즈 인성 극찬\"\\n\\t\\t\\t\\t   onclick=\"clickcr(this, \\'rnk*r.list\\', \\'109_0004403505\\', \\'6\\', event);\"\\n\\t\\t\\t\\t   data-not-edited=\"Y\">\\n\\n\\t\\t\\t\\t\\t<div class=\"image_area\">\\n\\t\\t\\t\\t\\t\\t<!-- [D] 썸네일 이미지 alt 값 비워주세요. -->\\n\\n\\t\\t\\t\\t\\t\\t<img src=\"https://dthumb-phinf.pstatic.net?src=http://imgnews.naver.net/image/109/2021/05/11/0004403505_001_20210511131406190.png&type=nf160_95&service=sports\" width=\"160\" height=\"95\" alt=\"\">\\n\\t\\t\\t\\t\\t</div>\\n\\t\\t\\t\\t\\t<div class=\"text_area\">\\n\\t\\t\\t\\t\\t\\t<strong class=\"title\">\\'목발 짚고 작별 인사\\' 이유 있었네...日기자, 부상 귀국 테임즈 인성 극찬</strong>\\n\\t\\t\\t\\t\\t\\t<!-- [D] 내용 두줄 말줄임 적용해주세요. -->\\n\\t\\t\\t\\t\\t\\t<p class=\"news\">\\n\\t\\t\\t\\t\\t\\t\\t\\t[OSEN=이선호 기자] \\'거인의 신이 되기를 바란다\\'.\\'닛칸스포츠\\'는 요미우리 자이언츠 데뷔전에서 부상을 입고 귀국한 에릭 테임즈에 대한 \\'담당기자칼럼\\'을...\\n\\t\\t\\t\\t\\t\\t</p>\\n\\t\\t\\t\\t\\t\\t<div class=\"information\">\\n\\t\\t\\t\\t\\t\\t\\t<span>OSEN</span>\\n\\t\\t\\t\\t\\t\\t\\t<span>일본야구</span>\\n\\t\\t\\t\\t\\t\\t</div>\\n\\t\\t\\t\\t\\t</div>\\n\\t\\t\\t\\t</a>\\n\\t\\t\\t</li>\\n\\t\\t\\n\\t\\n</ul>\\n\\n\\n\\n        </div>\\n        <div class=\"aside_section\">\\n            <!-- aside template -->\\n            \\n\\n<div class=\"aside_inner aside_creator\">\\n\\t<div class=\"aside_head\"></div>\\n\\t<ul class=\"creator_list\"></ul>\\n</div>\\n\\n<script id=\"_video_item_template\" type=\"text/x-handlebars-template\">\\n\\t{{#each this}}\\n\\t<li class=\"creator_item\" data-group=\"{{group}}\">\\n\\t\\t<a href=\"/video.nhn?id={{videoMasterId}}\" class=\"link_creator\" onClick=\"clickcr(this, \\'crv.list\\', \\'\\', \\'\\', event);\">\\n\\t\\t\\t<div class=\"image_area\">\\n\\t\\t\\t\\t<span class=\"image\"><img src=\"https://dthumb-phinf.pstatic.net/?type=nf246_146&opts=12&qlt=70&sharpen=true&src={{thumbnail}}\" width=\"110\" height=\"68\" alt=\"\"></span>\\n\\t\\t\\t\\t<span class=\"common_video_length\"><span class=\"blind\">재생시간</span>{{playTime}}</span>\\n\\t\\t\\t</div>\\n\\t\\t\\t<div class=\"text_area\">\\n\\t\\t\\t\\t<strong class=\"title\">{{{title}}}</strong>\\n\\t\\t\\t\\t<div class=\"information\">\\n\\t\\t\\t\\t\\t<span>조회 {{numberFormat hit}}</span><span>{{channelName}}</span>\\n\\t\\t\\t\\t</div>\\n\\t\\t\\t</div>\\n\\t\\t</a>\\n\\t</li>\\n\\t{{/each}}\\n</script>\\n\\n<script id=\"_video_head_config_template\" type=\"text/x-handlebars-template\">\\n\\t<h3 class=\"title\">{{title}}</h3>\\n\\t<div class=\"pagination\">\\n\\t\\t<span class=\"page\" data-current=\"1\"><em class=\"current\">1</em> / {{pageNum}}</span>\\n\\t\\t<button type=\"button\" class=\"button_prev\" disabled data-first=\"1\"  onClick=\"clickcr(this, \\'crv.paging\\', \\'\\', \\'\\', event);\"><span class=\"blind\">이전</span></button>\\n\\t\\t<button type=\"button\" class=\"button_next\" data-last=\"{{pageNum}}\"  onClick=\"clickcr(this, \\'crv.paging\\', \\'\\', \\'\\', event);\"><span class=\"blind\">다음</span></button>\\n\\t</div>\\n</script>\\n\\n<script>\\n\\tnaver = window.naver || {};\\n\\tnaver.sports = naver.sports || {};\\n\\tnaver.sports.home = naver.sports.home || {};\\n\\tnaver.sports.home.SelectedCategoryVideo = eg.Class({\\n\\n\\t\\tPAGING_VIDEO_COUNT: 7,\\n\\n\\t\\tconstruct: function (htOption) {\\n\\t\\t\\tthis._initVars(htOption);\\n\\t\\t\\tthis._initHandlebarsTemplate();\\n\\t\\t\\tthis._draw(htOption);\\n\\t\\t\\tthis._setEventHandlers();\\n\\t\\t},\\n\\t\\t_initVars: function (htOption) {\\n\\t\\t\\tthis._config = htOption.config;\\n\\t\\t\\tthis._videoResult = htOption.videoResult;\\n\\n\\t\\t\\tvar reality = Math.floor(this._videoResult.length / this.PAGING_VIDEO_COUNT) || 1;\\n\\t\\t\\tvar expected = Math.floor(this._config.extractedVideoCount / this.PAGING_VIDEO_COUNT);\\n\\t\\t\\tthis._pageNum = Math.min(reality, expected);\\n\\n\\t\\t\\tthis._extractVideoCount = this._pageNum * this.PAGING_VIDEO_COUNT;\\n\\t\\t},\\n\\n\\t\\t_initHandlebarsTemplate: function () {\\n\\t\\t\\tthis._videoHeadConfigTemplate = Handlebars.compile($(\"#_video_head_config_template\").html());\\n\\t\\t\\tthis._videoItemTemplate = Handlebars.compile($(\"#_video_item_template\").html());\\n\\t\\t},\\n\\n\\t\\t_setEventHandlers: function () {\\n\\t\\t\\t$(\".aside_creator\").on(\"click\", \".pagination .button_prev\", $.proxy(function (event) {\\n\\t\\t\\t\\tevent.preventDefault();\\n\\t\\t\\t\\tvar $curTarget = $(event.currentTarget);\\n\\t\\t\\t\\tvar $currentPage = $curTarget.parent().find(\".page\");\\n\\t\\t\\t\\tvar currentPageNumber = $currentPage.data(\"current\");\\n\\n\\t\\t\\t\\tif (currentPageNumber > $curTarget.data(\"first\")) {\\n\\t\\t\\t\\t\\tthis._showTargetGroup(currentPageNumber - 1);\\n\\t\\t\\t\\t\\t$currentPage.find(\".current\").text(currentPageNumber - 1);\\n\\t\\t\\t\\t\\t$currentPage.data(\"current\", currentPageNumber - 1);\\n\\t\\t\\t\\t}\\n\\n\\t\\t\\t\\tthis._checkPageButtonDisable();\\n\\t\\t\\t}, this));\\n\\n\\t\\t\\t$(\".aside_creator\").on(\"click\", \".pagination .button_next\", $.proxy(function (event) {\\n\\t\\t\\t\\tevent.preventDefault();\\n\\t\\t\\t\\tvar $curTarget = $(event.currentTarget);\\n\\t\\t\\t\\tvar $currentPage = $curTarget.parent().find(\".page\");\\n\\t\\t\\t\\tvar currentPageNumber = $currentPage.data(\"current\");\\n\\n\\t\\t\\t\\tif (currentPageNumber < $curTarget.data(\"last\")) {\\n\\t\\t\\t\\t\\tthis._showTargetGroup(currentPageNumber + 1);\\n\\t\\t\\t\\t\\t$currentPage.find(\".current\").text(currentPageNumber + 1);\\n\\t\\t\\t\\t\\t$currentPage.data(\"current\", currentPageNumber + 1);\\n\\t\\t\\t\\t}\\n\\n\\t\\t\\t\\tthis._checkPageButtonDisable();\\n\\t\\t\\t}, this))\\n\\t\\t},\\n\\n\\t\\t_draw: function () {\\n\\t\\t\\t// 상단 타이틀\\n\\t\\t\\tvar configTemplateParam = {\\n\\t\\t\\t\\ttitle: this._config.title,\\n\\t\\t\\t\\tpageNum: this._pageNum\\n\\t\\t\\t};\\n\\t\\t\\t$(\".aside_creator\").find(\".aside_head\").html(this._videoHeadConfigTemplate(configTemplateParam));\\n\\n\\t\\t\\t// 영상 그룹 셋팅까지 해줌.\\n\\t\\t\\tvar samplingVideo = _.sample(this._videoResult, this._extractVideoCount);\\n\\t\\t\\t_.each(samplingVideo, function(item, index){\\n\\t\\t\\t\\titem.group = Math.floor(index / 7) + 1;\\n\\t\\t\\t});\\n\\n\\t\\t\\t$(\".aside_creator\").find(\".creator_list\").html(this._videoItemTemplate(samplingVideo));\\n\\t\\t\\tthis._showTargetGroup(\"1\");\\n\\n\\t\\t\\t// 마지막 버튼 체크\\n\\t\\t\\tthis._checkPageButtonDisable();\\n\\t\\t},\\n\\n\\t\\t_showTargetGroup: function (group) {\\n\\t\\t\\t$(\".aside_creator\").find(\".creator_list .creator_item\").hide();\\n\\t\\t\\t$(\".aside_creator\").find(\".creator_list .creator_item[data-group=\" + group + \"]\").show();\\n\\t\\t},\\n\\n\\t\\t_checkPageButtonDisable:function () {\\n\\t\\t\\tvar currentPageNumber = $(\".aside_creator\").find(\".pagination .page\").data(\"current\");\\n\\t\\t\\tvar lastPageNumber = $(\".aside_creator\").find(\".pagination .button_next\").data(\"last\");\\n\\t\\t\\t$(\".aside_creator\").find(\".pagination .button_prev\").attr(\"disabled\", currentPageNumber === 1);\\n\\t\\t\\t$(\".aside_creator\").find(\".pagination .button_next\").attr(\"disabled\", currentPageNumber === lastPageNumber);\\n\\t\\t}\\n\\t});\\n\\n\\tnew naver.sports.home.SelectedCategoryVideo({\\n\\t\\t\"config\": {\"dataId\":1596085512913,\"isEnable\":\"Y\",\"title\":\"스포츠 창작자 영상\",\"extractedVideoCount\":\"28\"},\\n\\t\\t\"videoResult\": [{\"hit\":14102,\"thumbnail\":\"https://phinf.pstatic.net/tvcast/20210510_31/Vj7ei_1620578814798gF7T4_JPEG/1620578810884.jpg\",\"playTime\":\"05:37\",\"channelName\":\"베이스볼코리아\",\"videoMasterId\":\"801742\",\"title\":\"\\'단독 1위\\' 삼성, 갑드래곤 주니어로 1차 지명 확정? I 경북고 투수 진승현\"},{\"hit\":3262,\"thumbnail\":\"https://phinf.pstatic.net/tvcast/20210509_292/bYx1L_1620570603302BrxHi_JPEG/1620570443266.jpeg\",\"playTime\":\"18:00\",\"channelName\":\"이영미TV\",\"videoMasterId\":\"801630\",\"title\":\"유니폼이 입고 싶은 전 두산 베어스 투수 이용찬의 희망투!\"},{\"hit\":8095,\"thumbnail\":\"https://phinf.pstatic.net/tvcast/20210504_26/EQtMb_1620096767769Q0Id8_JPEG/1620096447840.jpg\",\"playTime\":\"06:59\",\"channelName\":\"베이스볼코리아\",\"videoMasterId\":\"799127\",\"title\":\"특이폼 하나로 고교야구 접수한 인천고 한지웅, SGG 1차 지명 후보\"},{\"hit\":1902,\"thumbnail\":\"https://phinf.pstatic.net/tvcast/20210507_160/7MFhd_1620377708927ah0cu_JPEG/1620377659279.jpg\",\"playTime\":\"07:03\",\"channelName\":\"더그아웃매거진 (DUGOUTMAGAZINE)\",\"videoMasterId\":\"801738\",\"title\":\"투수냐 타자냐 KIA 타이거즈의 선택은?!  김도영 & 문동주 인터뷰 [더그아웃]\"},{\"hit\":1843,\"thumbnail\":\"https://phinf.pstatic.net/tvcast/20210510_70/OxdSU_1620632129487mmk06_JPEG/1620632113177.jpg\",\"playTime\":\"20:13\",\"channelName\":\"스포츠디비 SportsDB\",\"videoMasterId\":\"801870\",\"title\":\"LG 트윈스 은퇴 및 이적 선수 응원가 모음\"},{\"hit\":26691,\"thumbnail\":\"https://phinf.pstatic.net/tvcast/20210509_144/v2bX4_1620558218457jKfi0_JPEG/1620558022187.jpg\",\"playTime\":\"14:18\",\"channelName\":\"김형준의 베이스볼큐브\",\"videoMasterId\":\"801622\",\"title\":\"[MLB 맞짱토론 3라운드] 박찬호 vs 류현진 대한민국 최고의 투수는 누구? | 베이스볼파이터\"},{\"hit\":7515,\"thumbnail\":\"https://phinf.pstatic.net/tvcast/20210509_107/V6gPl_1620543891057XyJrR_PNG/1620543871048.png\",\"playTime\":\"10:14\",\"channelName\":\"김형준의 베이스볼큐브\",\"videoMasterId\":\"801263\",\"title\":\"위기의 다저스를 구한 사람은 누구? | 오늘의 MLB\"},{\"hit\":94366,\"thumbnail\":\"https://phinf.pstatic.net/tvcast/20210507_120/0eFrC_1620370902425JL4xJ_PNG/1620370777667.png\",\"playTime\":\"08:43\",\"channelName\":\"김형준의 베이스볼큐브\",\"videoMasterId\":\"800379\",\"title\":\"\\\\\"잘 버텼다\\\\\" 류현진 시즌 2승 토론토 현지 반응 | 이승용\"},{\"hit\":32768,\"thumbnail\":\"https://phinf.pstatic.net/tvcast/20210508_157/F7pnR_16204608105223ptFC_PNG/1620460557853.png\",\"playTime\":\"09:43\",\"channelName\":\"김형준의 베이스볼큐브\",\"videoMasterId\":\"800762\",\"title\":\"너무 많이 나오는 노히트, 너무 많이 지는 다저스 | 오늘의 MLB\"},{\"hit\":1801,\"thumbnail\":\"https://phinf.pstatic.net/tvcast/20210510_124/sd0MA_16206376901962Q9fX_PNG/1620637679550.png\",\"playTime\":\"02:45\",\"channelName\":\"이현우의 MLBTV\",\"videoMasterId\":\"801872\",\"title\":\"양현종 두 번째 선발 등판 기회? 아리하라 IL 등재\"},{\"hit\":2072,\"thumbnail\":\"https://phinf.pstatic.net/tvcast/20210510_223/B23wM_1620626172392lQIjF_PNG/1620626081080.png\",\"playTime\":\"03:52\",\"channelName\":\"GOAL TV\",\"videoMasterId\":\"801815\",\"title\":\"얽히고 섥혀, 백승호까지 추가된 두 팀의 질긴 악연\"},{\"hit\":2473,\"thumbnail\":\"https://phinf.pstatic.net/tvcast/20210508_37/mI5rA_16204769663207ROJL_JPEG/1620476902244.jpg\",\"playTime\":\"03:49\",\"channelName\":\"화니볼 플러스\",\"videoMasterId\":\"801824\",\"title\":\"공격-수비 혼자 다 해먹는 만능 수비수\"},{\"hit\":5964,\"thumbnail\":\"https://phinf.pstatic.net/tvcast/20210507_121/GLejF_1620376638793Qvq9F_JPEG/1620376594224.jpg\",\"playTime\":\"04:09\",\"channelName\":\"화니볼 플러스\",\"videoMasterId\":\"801108\",\"title\":\"만나기만 하면 난리나는 두 팀\"},{\"hit\":6331,\"thumbnail\":\"https://phinf.pstatic.net/tvcast/20210509_228/FoEhF_1620563263651TXPbe_PNG/1620563260979.png\",\"playTime\":\"07:08\",\"channelName\":\"오늘의 축구\",\"videoMasterId\":\"801472\",\"title\":\"전북에 시즌 첫 패 안긴 2002년생 슈퍼 루키! 수원 정상빈 14R 전북전 볼터치 [오늘의 K리그]\"},{\"hit\":54747,\"thumbnail\":\"https://phinf.pstatic.net/tvcast/20210510_10/hCI8U_1620582292251YNDhH_JPEG/34789f0b-b0ed-11eb-af95-246e963a4708_03.jpg\",\"playTime\":\"09:10\",\"channelName\":\"스포다큐(S-Docu)\",\"videoMasterId\":\"801819\",\"title\":\"[Pure HL 14R] 전북 무패 과거형 만든 \\'수원 어린이\\'\"},{\"hit\":992,\"thumbnail\":\"https://phinf.pstatic.net/tvcast/20210510_204/s0ns2_1620635152433WCMrA_PNG/1620635055648.png\",\"playTime\":\"04:01\",\"channelName\":\"GOAL TV\",\"videoMasterId\":\"801864\",\"title\":\"여기가 리액션 맛집! 경기만큼 꿀잼인 감독 리액션\"},{\"hit\":2166,\"thumbnail\":\"https://phinf.pstatic.net/tvcast/20210509_225/rGrJu_1620557518028ufdkI_JPEG/1620557426899.jpg\",\"playTime\":\"03:13\",\"channelName\":\"화니볼 플러스\",\"videoMasterId\":\"801634\",\"title\":\"리그 휩쓸고 다니는 02년생 스트라이커\"},{\"hit\":50582,\"thumbnail\":\"https://phinf.pstatic.net/tvcast/20210510_248/ktHUl_1620605920641QJm73_JPEG/1620605884117.jpg\",\"playTime\":\"11:22\",\"channelName\":\"달수네라이브\",\"videoMasterId\":\"801737\",\"title\":\"(리뷰) 이강인 선발 복귀! 감독 교체 후 달라진 이강인의 롤 분석. 부상 여파는 지켜봐야\"},{\"hit\":53639,\"thumbnail\":\"https://phinf.pstatic.net/tvcast/20210510_85/4qPhu_1620587112835aGFIJ_PNG/1620586966082.png\",\"playTime\":\"09:44\",\"channelName\":\"한준TV\",\"videoMasterId\":\"801631\",\"title\":\"[스페인해설자] 라멜라 들어오면 손흥민 죽는다 \\'메이슨 교체 카드 대실패\\'\"},{\"hit\":21942,\"thumbnail\":\"https://phinf.pstatic.net/tvcast/20210509_79/BX4co_1620562971221HNbgm_JPEG/1620562948184.jpg\",\"playTime\":\"01:19\",\"channelName\":\"인터티비\",\"videoMasterId\":\"801669\",\"title\":\"[토트넘 이슈] \\'케인 떠나나?\\' 레비 회장에게 이적 요청\"},{\"hit\":74131,\"thumbnail\":\"https://phinf.pstatic.net/tvcast/20210509_24/U1Dd0_1620511401607s79FJ_PNG/1620511226026.png\",\"playTime\":\"11:13\",\"channelName\":\"한준TV\",\"videoMasterId\":\"801134\",\"title\":\"EPL 레전드 손흥민 17호 골 평가 \\\\\"1대1 상황 아름답게 처리\\\\\" (퍼디난드 영국 방송 후토크)\"},{\"hit\":7522,\"thumbnail\":\"https://phinf.pstatic.net/tvcast/20210510_34/7lWhe_1620581187765yg5bj_PNG/1620581089814.png\",\"playTime\":\"09:28\",\"channelName\":\"한준TV\",\"videoMasterId\":\"801549\",\"title\":\"[리뷰] 발렌시아 감독 교체 이강인 선발 출전 \\'무승 끊고 3-0 완승\\' (바야돌리드전)\"},{\"hit\":1567,\"thumbnail\":\"https://phinf.pstatic.net/tvcast/20210506_74/PuUyb_1620295976727pDlXq_JPEG/1620295951095.jpg\",\"playTime\":\"00:55\",\"channelName\":\"마스터욱\",\"videoMasterId\":\"799980\",\"title\":\"나이키 가성비 농구화 PG5 X 플레이스테이션 콜라보 국내 발매!!\"},{\"hit\":4232,\"thumbnail\":\"https://phinf.pstatic.net/tvcast/20210504_223/Ni64Y_1620100713712eiLhr_PNG/1620100038141.png\",\"playTime\":\"11:40\",\"channelName\":\"터치플레이TOUCHPLAY\",\"videoMasterId\":\"799320\",\"title\":\"덩크하는 태풍 vs 막으려는 고딩\"},{\"hit\":315,\"thumbnail\":\"https://phinf.pstatic.net/tvcast/20210510_159/ERZMr_1620624954106GHSdJ_PNG/1620624934054.png\",\"playTime\":\"00:37\",\"channelName\":\"퀀텀 트레이닝_Quantum Basketball Skills lab\",\"videoMasterId\":\"801822\",\"title\":\"[켐바워커 디테일] 삼성생명 최서연 선수가 보여주는 힙스위블 콤보 #Shorts\\u200b\\u200b #Kemba\\u200b #wkbl\"},{\"hit\":611,\"thumbnail\":\"https://phinf.pstatic.net/tvcast/20210507_210/1MZqg_16203901929869gDQo_JPEG/1620390037324.jpg\",\"playTime\":\"06:58\",\"channelName\":\"터치플레이TOUCHPLAY\",\"videoMasterId\":\"800976\",\"title\":\"이승준이 알려주는 포스트업.\"},{\"hit\":1906,\"thumbnail\":\"https://phinf.pstatic.net/tvcast/20210505_21/AeYrh_1620201014081if4dW_JPEG/1620200874644.jpg\",\"playTime\":\"10:23\",\"channelName\":\"점프볼TV (농구전문채널)\",\"videoMasterId\":\"799484\",\"title\":\"[비욘드3x3] 올림픽 3x3 대표팀 첫 연습경기 현장 공개\"},{\"hit\":277,\"thumbnail\":\"https://phinf.pstatic.net/tvcast/20210510_121/Ub9It_1620644107889R7ecB_JPEG/1620643991355.jpeg\",\"playTime\":\"51:53\",\"channelName\":\"이류농구\",\"videoMasterId\":\"801905\",\"title\":\"[5월3주 KBL 루머&팩트] KGC 전승 우승. 일방적 시리즈 그 이유는? 챔프 2차전 판정논란 분석\"},{\"hit\":441,\"thumbnail\":\"https://phinf.pstatic.net/tvcast/20210510_284/lg9CT_16206302635347xuP1_JPEG/b2467a41-b15d-11eb-a02a-a0369ff963bc_03.jpg\",\"playTime\":\"03:45\",\"channelName\":\"점프볼TV (농구전문채널)\",\"videoMasterId\":\"801821\",\"title\":\"SK 김선형 \\\\\"올림픽 도전하는 민섭이 부럽네요. 저도 은퇴하면 3x3할지도 모르죠\\\\\"\"},{\"hit\":19496,\"thumbnail\":\"https://phinf.pstatic.net/tvcast/20210507_257/Z5WNN_16203823182041iA4z_JPEG/98854d71-af1c-11eb-9903-505dac8c3639_03.jpg\",\"playTime\":\"05:01\",\"channelName\":\"정프로의 클라쓰\",\"videoMasterId\":\"800487\",\"title\":\"정용진 부회장님, 피니쉬만 바꿔도...!!(피니쉬 멋지게 하는 방법)\"},{\"hit\":3373,\"thumbnail\":\"https://phinf.pstatic.net/tvcast/20210509_182/Nrx03_1620571309342DoWyS_PNG/1620571273814.png\",\"playTime\":\"04:43\",\"channelName\":\"허석프로\",\"videoMasterId\":\"801637\",\"title\":\"[허석프로] 올바른 다운스윙 꿀팁\"},{\"hit\":7928,\"thumbnail\":\"https://phinf.pstatic.net/tvcast/20210506_60/UnEIK_1620306180342nmU3I_JPEG/1620306133771.jpg\",\"playTime\":\"07:51\",\"channelName\":\"정프로의 클라쓰\",\"videoMasterId\":\"800055\",\"title\":\"이 영상대로 연습하시면 엄청난 손맛을 느낄 수 있습니다.\"},{\"hit\":3490,\"thumbnail\":\"https://phinf.pstatic.net/tvcast/20210510_257/9yPOP_1620621587725kUUJJ_JPEG/1620621576582.jpeg\",\"playTime\":\"08:05\",\"channelName\":\" 골쿡\",\"videoMasterId\":\"801789\",\"title\":\"다운스윙궤도 수정으로 드라이버 터치감 높이기\"},{\"hit\":2611,\"thumbnail\":\"https://phinf.pstatic.net/tvcast/20210510_252/qalJd_162062419658305h34_PNG/1620623640668.png\",\"playTime\":\"06:45\",\"channelName\":\"제이앤드제이골프아카데미\",\"videoMasterId\":\"801793\",\"title\":\"아이언 무조건 잘 치는 방법 1탄! 4분의3 스윙\"},{\"hit\":1544,\"thumbnail\":\"https://phinf.pstatic.net/tvcast/20210510_225/dhAmc_1620623841071lWXnE_JPEG/1620623809956.jpg\",\"playTime\":\"00:14\",\"channelName\":\"CreaS F&C\",\"videoMasterId\":\"801791\",\"title\":\"[마스터바니에디션] 골프아이돌, 정지유 프로의 시크한 스윙 영상\"},{\"hit\":2698,\"thumbnail\":\"https://phinf.pstatic.net/tvcast/20210509_213/XDucC_1620494536849yhONe_JPEG/1620494389313.jpg\",\"playTime\":\"18:33\",\"channelName\":\"안소영프로_ABOUT GOLF\",\"videoMasterId\":\"801119\",\"title\":\"드라이버 샷 임팩트 타이밍만 알면 간단합니다! (낮은 탄도와 훅 구질 교정, 비거리 증가)\"},{\"hit\":22407,\"thumbnail\":\"https://phinf.pstatic.net/tvcast/20210510_101/zbHyp_1620635729674z0p5d_JPEG/1620635598677.jpg\",\"playTime\":\"05:13\",\"channelName\":\"스포츠디비 SportsDB\",\"videoMasterId\":\"801871\",\"title\":\"도마요정 여서정의 국가대표선발전 경기모습은 어떨까(도마, 평균대, 이단평행봉, 마루종\"},{\"hit\":8664,\"thumbnail\":\"https://phinf.pstatic.net/tvcast/20210504_165/x8O5G_16201232866963axne_PNG/1620123081417.png\",\"playTime\":\"02:08\",\"channelName\":\"루틴 ROUTINE\",\"videoMasterId\":\"799313\",\"title\":\"당구 루틴-비껴치기 편 Do With.윤정\"},{\"hit\":3270,\"thumbnail\":\"https://phinf.pstatic.net/tvcast/20210510_50/oaCMz_1620606444849tkwRe_JPEG/1620606411730.jpg\",\"playTime\":\"05:15\",\"channelName\":\"핏블리\",\"videoMasterId\":\"801874\",\"title\":\"옆구리 운동 제대로 하기! 절때 안두꺼워짐❌\"},{\"hit\":8791,\"thumbnail\":\"https://phinf.pstatic.net/tvcast/20210506_138/iXZ26_1620289847162vHKI4_JPEG/1620289798431.jpg\",\"playTime\":\"07:25\",\"channelName\":\"핏블리\",\"videoMasterId\":\"799933\",\"title\":\"\\'짝다리\\'짚으면 이렇게 됩니다ㅋㅋㅋ종아리 근막이완 하는법! [셀프마사지+폼롤러]\"},{\"hit\":2606,\"thumbnail\":\"https://phinf.pstatic.net/tvcast/20210506_20/Cn2V3_1620293145611CLziM_JPEG/1620292721605.jpg\",\"playTime\":\"02:04\",\"channelName\":\"루틴 ROUTINE\",\"videoMasterId\":\"799963\",\"title\":\"당구 루틴-PBA 초구 배치(149-367)편 With.유람\"}]\\n\\t});\\n\\n\\t//# sourceURL=sportsHomeSelectedCategoryVideo.js\\n</script>\\n\\n\\n        </div>\\n        \\n\\n\\n\\n\\n<div class=\"vod_section\">\\n\\t<!-- 많이 본 영상 -->\\n\\t<h3 class=\"section_title\">\\n\\t\\t<a href=\"/ranking/index.nhn?type=vod\" class=\"link_title\" onclick=\"clickcr(this, \\'rnk*m.gopage\\', \\'\\', \\'\\', event);\">\\n\\t\\t\\t많이 본 영상<span class=\"blind\">더보기</span></a>\\n\\t</h3>\\n\\n\\t\\n\\t\\t<p class=\"section_description\">오후 2시 ~ 3시 까지 집계한 조회수 입니다. 총 누적수와는 다를 수 있습니다.</p>\\n\\t\\n\\t<ul class=\"vod_list\">\\n\\n\\t\\t\\n\\t\\t\\t<li class=\"vod_item\"  >\\n\\t\\t\\t\\t<a href=\"/video.nhn?id=801921\"\\n\\t\\t\\t\\t   class=\"link_vod\"\\n\\t\\t\\t\\t   onclick=\"clickcr(this, \\'rnk*m.list\\', \\'801921\\', \\'1\\', event); \"\\n\\t\\t\\t\\t   title=\"[주간탈곡기] 라보나킥 라멜라 vs 파넨카킥 아구에로, 누가 더 탈곡기?\">\\n\\n\\t\\t\\t\\t\\t<div class=\"image_area\">\\n\\t\\t\\t\\t\\t\\t<span class=\"rank number1\"><span class=\"blind\">1위</span></span>\\n\\t\\t\\t\\t\\t\\t<span class=\"common_video_length\"><span class=\"blind\">재생시간</span>15:00</span>\\n\\t\\t\\t\\t\\t\\t<div class=\"image\">\\n\\t\\t\\t\\t\\t\\t\\t<img src=\"data:image/gif;base64,R0lGODlhAQABAAAAACH5BAEKAAEALAAAAAABAAEAAAICTAEAOw==\"\\n\\t\\t\\t\\t\\t\\t\\t\\t width=\"194\" height=\"112\" alt=\"\"\\n\\t\\t\\t\\t\\t\\t\\t\\t class=\"imageLazyLoad\"\\n\\t\\t\\t\\t\\t\\t\\t\\t lazy-src=\"https://dthumb-phinf.pstatic.net?src=https://phinf.pstatic.net/tvcast/20210510_121/DOb5k_1620651697521NdVDE_JPEG/1620651650734.jpg&type=nf194_112&service=sports\">\\n\\t\\t\\t\\t\\t\\t</div>\\n\\t\\t\\t\\t\\t</div>\\n\\t\\t\\t\\t\\t<div class=\"text_area _sports_home_most_viewed_vod_title\">[주간탈곡기] 라보나킥 라멜라 vs 파넨카킥 아구에로, 누가 더 탈곡기?</div>\\n\\t\\t\\t\\t</a>\\n\\t\\t\\t</li>\\n\\t\\t\\n\\t\\t\\t<li class=\"vod_item\"  >\\n\\t\\t\\t\\t<a href=\"/video.nhn?id=801889\"\\n\\t\\t\\t\\t   class=\"link_vod\"\\n\\t\\t\\t\\t   onclick=\"clickcr(this, \\'rnk*m.list\\', \\'801889\\', \\'2\\', event); \"\\n\\t\\t\\t\\t   title=\"\\'제가 한번 해보겠습니다\\' 포수로 출전한 선수들.zip [위클리]\">\\n\\n\\t\\t\\t\\t\\t<div class=\"image_area\">\\n\\t\\t\\t\\t\\t\\t<span class=\"rank number2\"><span class=\"blind\">2위</span></span>\\n\\t\\t\\t\\t\\t\\t<span class=\"common_video_length\"><span class=\"blind\">재생시간</span>04:28</span>\\n\\t\\t\\t\\t\\t\\t<div class=\"image\">\\n\\t\\t\\t\\t\\t\\t\\t<img src=\"data:image/gif;base64,R0lGODlhAQABAAAAACH5BAEKAAEALAAAAAABAAEAAAICTAEAOw==\"\\n\\t\\t\\t\\t\\t\\t\\t\\t width=\"194\" height=\"112\" alt=\"\"\\n\\t\\t\\t\\t\\t\\t\\t\\t class=\"imageLazyLoad\"\\n\\t\\t\\t\\t\\t\\t\\t\\t lazy-src=\"https://dthumb-phinf.pstatic.net?src=https://sports-phinf.pstatic.net/20210510_49/1620640768783biBrY_JPEG/%B1%D7%B0%D4.jpg&type=nf194_112&service=sports\">\\n\\t\\t\\t\\t\\t\\t</div>\\n\\t\\t\\t\\t\\t</div>\\n\\t\\t\\t\\t\\t<div class=\"text_area _sports_home_most_viewed_vod_title\">\\'제가 한번 해보겠습니다\\' 포수로 출전한 선수들.zip [위클리]</div>\\n\\t\\t\\t\\t</a>\\n\\t\\t\\t</li>\\n\\t\\t\\n\\t\\t\\t<li class=\"vod_item\"  >\\n\\t\\t\\t\\t<a href=\"/video.nhn?id=801987\"\\n\\t\\t\\t\\t   class=\"link_vod\"\\n\\t\\t\\t\\t   onclick=\"clickcr(this, \\'rnk*m.list\\', \\'801987\\', \\'3\\', event); \"\\n\\t\\t\\t\\t   title=\"[MLB] 김광현 2승 보인다! 상대는 \\'부상 병동\\' 밀워키\">\\n\\n\\t\\t\\t\\t\\t<div class=\"image_area\">\\n\\t\\t\\t\\t\\t\\t<span class=\"rank number3\"><span class=\"blind\">3위</span></span>\\n\\t\\t\\t\\t\\t\\t<span class=\"common_video_length\"><span class=\"blind\">재생시간</span>01:33</span>\\n\\t\\t\\t\\t\\t\\t<div class=\"image\">\\n\\t\\t\\t\\t\\t\\t\\t<img src=\"data:image/gif;base64,R0lGODlhAQABAAAAACH5BAEKAAEALAAAAAABAAEAAAICTAEAOw==\"\\n\\t\\t\\t\\t\\t\\t\\t\\t width=\"194\" height=\"112\" alt=\"\"\\n\\t\\t\\t\\t\\t\\t\\t\\t class=\"imageLazyLoad\"\\n\\t\\t\\t\\t\\t\\t\\t\\t lazy-src=\"https://dthumb-phinf.pstatic.net?src=https://sports-phinf.pstatic.net/20210511_87/1620697686586IwMDJ_JPEG/%B1%E8%B1%A4%C7%F6_%C7%C1%B8%AE%BA%E4_%C6%F7%C5%D0_%BD%E6%B3%D7%C0%CF.jpg&type=nf194_112&service=sports\">\\n\\t\\t\\t\\t\\t\\t</div>\\n\\t\\t\\t\\t\\t</div>\\n\\t\\t\\t\\t\\t<div class=\"text_area _sports_home_most_viewed_vod_title\">[MLB] 김광현 2승 보인다! 상대는 \\'부상 병동\\' 밀워키</div>\\n\\t\\t\\t\\t</a>\\n\\t\\t\\t</li>\\n\\t\\t\\n\\t\\t\\t<li class=\"vod_item\"  >\\n\\t\\t\\t\\t<a href=\"/video.nhn?id=801882\"\\n\\t\\t\\t\\t   class=\"link_vod\"\\n\\t\\t\\t\\t   onclick=\"clickcr(this, \\'rnk*m.list\\', \\'801882\\', \\'4\\', event); \"\\n\\t\\t\\t\\t   title=\"[MLB] 아리하라 주가↓ 양현종은 상한가? 선발 기회 또 찾아온다\">\\n\\n\\t\\t\\t\\t\\t<div class=\"image_area\">\\n\\t\\t\\t\\t\\t\\t<span class=\"rank number4\"><span class=\"blind\">4위</span></span>\\n\\t\\t\\t\\t\\t\\t<span class=\"common_video_length\"><span class=\"blind\">재생시간</span>02:00</span>\\n\\t\\t\\t\\t\\t\\t<div class=\"image\">\\n\\t\\t\\t\\t\\t\\t\\t<img src=\"data:image/gif;base64,R0lGODlhAQABAAAAACH5BAEKAAEALAAAAAABAAEAAAICTAEAOw==\"\\n\\t\\t\\t\\t\\t\\t\\t\\t width=\"194\" height=\"112\" alt=\"\"\\n\\t\\t\\t\\t\\t\\t\\t\\t class=\"imageLazyLoad\"\\n\\t\\t\\t\\t\\t\\t\\t\\t lazy-src=\"https://dthumb-phinf.pstatic.net?src=https://sports-phinf.pstatic.net/20210510_290/1620638279404iwQbj_JPEG/%BE%E7%C7%F6%C1%BE_%BE%F7%B7%CE%B5%E5.psd.00_00_00_00.%BD%BA%C6%BF_001.jpg&type=nf194_112&service=sports\">\\n\\t\\t\\t\\t\\t\\t</div>\\n\\t\\t\\t\\t\\t</div>\\n\\t\\t\\t\\t\\t<div class=\"text_area _sports_home_most_viewed_vod_title\">[MLB] 아리하라 주가↓ 양현종은 상한가? 선발 기회 또 찾아온다</div>\\n\\t\\t\\t\\t</a>\\n\\t\\t\\t</li>\\n\\t\\t\\n\\t\\t\\t<li class=\"vod_item\"  >\\n\\t\\t\\t\\t<a href=\"/video.nhn?id=802050\"\\n\\t\\t\\t\\t   class=\"link_vod\"\\n\\t\\t\\t\\t   onclick=\"clickcr(this, \\'rnk*m.list\\', \\'802050\\', \\'5\\', event); \"\\n\\t\\t\\t\\t   title=\"\\'끝 없는 논쟁!\\' 스트라이크 판정 논란 총정리! [크보스토리]\">\\n\\n\\t\\t\\t\\t\\t<div class=\"image_area\">\\n\\t\\t\\t\\t\\t\\t<span class=\"rank number5\"><span class=\"blind\">5위</span></span>\\n\\t\\t\\t\\t\\t\\t<span class=\"common_video_length\"><span class=\"blind\">재생시간</span>02:42</span>\\n\\t\\t\\t\\t\\t\\t<div class=\"image\">\\n\\t\\t\\t\\t\\t\\t\\t<img src=\"data:image/gif;base64,R0lGODlhAQABAAAAACH5BAEKAAEALAAAAAABAAEAAAICTAEAOw==\"\\n\\t\\t\\t\\t\\t\\t\\t\\t width=\"194\" height=\"112\" alt=\"\"\\n\\t\\t\\t\\t\\t\\t\\t\\t class=\"imageLazyLoad\"\\n\\t\\t\\t\\t\\t\\t\\t\\t lazy-src=\"https://dthumb-phinf.pstatic.net?src=https://sports-phinf.pstatic.net/20210511_237/1620701756164WKsRu_JPEG/1.jpg&type=nf194_112&service=sports\">\\n\\t\\t\\t\\t\\t\\t</div>\\n\\t\\t\\t\\t\\t</div>\\n\\t\\t\\t\\t\\t<div class=\"text_area _sports_home_most_viewed_vod_title\">\\'끝 없는 논쟁!\\' 스트라이크 판정 논란 총정리! [크보스토리]</div>\\n\\t\\t\\t\\t</a>\\n\\t\\t\\t</li>\\n\\t\\t\\n\\t\\t\\t<li class=\"vod_item\"  >\\n\\t\\t\\t\\t<a href=\"/video.nhn?id=801931\"\\n\\t\\t\\t\\t   class=\"link_vod\"\\n\\t\\t\\t\\t   onclick=\"clickcr(this, \\'rnk*m.list\\', \\'801931\\', \\'6\\', event); \"\\n\\t\\t\\t\\t   title=\"컷 탈락으로 착각하고 1600km 떨어진 집에 다녀온 브라이슨 디샘보\">\\n\\n\\t\\t\\t\\t\\t<div class=\"image_area\">\\n\\t\\t\\t\\t\\t\\t<span class=\"rank number6\"><span class=\"blind\">6위</span></span>\\n\\t\\t\\t\\t\\t\\t<span class=\"common_video_length\"><span class=\"blind\">재생시간</span>02:46</span>\\n\\t\\t\\t\\t\\t\\t<div class=\"image\">\\n\\t\\t\\t\\t\\t\\t\\t<img src=\"data:image/gif;base64,R0lGODlhAQABAAAAACH5BAEKAAEALAAAAAABAAEAAAICTAEAOw==\"\\n\\t\\t\\t\\t\\t\\t\\t\\t width=\"194\" height=\"112\" alt=\"\"\\n\\t\\t\\t\\t\\t\\t\\t\\t class=\"imageLazyLoad\"\\n\\t\\t\\t\\t\\t\\t\\t\\t lazy-src=\"https://dthumb-phinf.pstatic.net?src=https://phinf.pstatic.net/tvcast/20210511_42/ZJZaH_1620661619966NGY7B_JPEG/1620661517475.jpg&type=nf194_112&service=sports\">\\n\\t\\t\\t\\t\\t\\t</div>\\n\\t\\t\\t\\t\\t</div>\\n\\t\\t\\t\\t\\t<div class=\"text_area _sports_home_most_viewed_vod_title\">컷 탈락으로 착각하고 1600km 떨어진 집에 다녀온 브라이슨 디샘보</div>\\n\\t\\t\\t\\t</a>\\n\\t\\t\\t</li>\\n\\t\\t\\n\\t\\t\\t<li class=\"vod_item\"  >\\n\\t\\t\\t\\t<a href=\"/video.nhn?id=801925\"\\n\\t\\t\\t\\t   class=\"link_vod\"\\n\\t\\t\\t\\t   onclick=\"clickcr(this, \\'rnk*m.list\\', \\'801925\\', \\'7\\', event); \"\\n\\t\\t\\t\\t   title=\"삼성 1위 질주의 원동력! \\'돌직구\\'를 파헤쳐 보자! [야밈사전]\">\\n\\n\\t\\t\\t\\t\\t<div class=\"image_area\">\\n\\t\\t\\t\\t\\t\\t<span class=\"rank number7\"><span class=\"blind\">7위</span></span>\\n\\t\\t\\t\\t\\t\\t<span class=\"common_video_length\"><span class=\"blind\">재생시간</span>02:54</span>\\n\\t\\t\\t\\t\\t\\t<div class=\"image\">\\n\\t\\t\\t\\t\\t\\t\\t<img src=\"data:image/gif;base64,R0lGODlhAQABAAAAACH5BAEKAAEALAAAAAABAAEAAAICTAEAOw==\"\\n\\t\\t\\t\\t\\t\\t\\t\\t width=\"194\" height=\"112\" alt=\"\"\\n\\t\\t\\t\\t\\t\\t\\t\\t class=\"imageLazyLoad\"\\n\\t\\t\\t\\t\\t\\t\\t\\t lazy-src=\"https://dthumb-phinf.pstatic.net?src=https://sports-phinf.pstatic.net/20210510_44/1620654929299J8eBO_JPEG/20210511_%BB%EF%BC%BA_1%C0%A7_%C1%FA%C1%D6%C0%C7_%BF%F8%B5%BF%B7%C2_%27%B5%B9%C1%F7%B1%B8%27%B8%A6_%C6%C4%C7%EC%C3%C4_%BA%B8%C0%DA_%BE%DF%B9%D2%BB%E7%C0%FC.jpg&type=nf194_112&service=sports\">\\n\\t\\t\\t\\t\\t\\t</div>\\n\\t\\t\\t\\t\\t</div>\\n\\t\\t\\t\\t\\t<div class=\"text_area _sports_home_most_viewed_vod_title\">삼성 1위 질주의 원동력! \\'돌직구\\'를 파헤쳐 보자! [야밈사전]</div>\\n\\t\\t\\t\\t</a>\\n\\t\\t\\t</li>\\n\\t\\t\\n\\t\\t\\t<li class=\"vod_item\"  >\\n\\t\\t\\t\\t<a href=\"/video.nhn?id=801622\"\\n\\t\\t\\t\\t   class=\"link_vod\"\\n\\t\\t\\t\\t   onclick=\"clickcr(this, \\'rnk*m.list\\', \\'801622\\', \\'8\\', event); \"\\n\\t\\t\\t\\t   title=\"[MLB 맞짱토론 3라운드] 박찬호 vs 류현진 대한민국 최고의 투수는 누구? | 베이스볼파이터\">\\n\\n\\t\\t\\t\\t\\t<div class=\"image_area\">\\n\\t\\t\\t\\t\\t\\t<span class=\"rank number8\"><span class=\"blind\">8위</span></span>\\n\\t\\t\\t\\t\\t\\t<span class=\"common_video_length\"><span class=\"blind\">재생시간</span>14:18</span>\\n\\t\\t\\t\\t\\t\\t<div class=\"image\">\\n\\t\\t\\t\\t\\t\\t\\t<img src=\"data:image/gif;base64,R0lGODlhAQABAAAAACH5BAEKAAEALAAAAAABAAEAAAICTAEAOw==\"\\n\\t\\t\\t\\t\\t\\t\\t\\t width=\"194\" height=\"112\" alt=\"\"\\n\\t\\t\\t\\t\\t\\t\\t\\t class=\"imageLazyLoad\"\\n\\t\\t\\t\\t\\t\\t\\t\\t lazy-src=\"https://dthumb-phinf.pstatic.net?src=https://phinf.pstatic.net/tvcast/20210509_144/v2bX4_1620558218457jKfi0_JPEG/1620558022187.jpg&type=nf194_112&service=sports\">\\n\\t\\t\\t\\t\\t\\t</div>\\n\\t\\t\\t\\t\\t</div>\\n\\t\\t\\t\\t\\t<div class=\"text_area _sports_home_most_viewed_vod_title\">[MLB 맞짱토론 3라운드] 박찬호 vs 류현진 대한민국 최고의 투수는 누구? | 베이스볼파이터</div>\\n\\t\\t\\t\\t</a>\\n\\t\\t\\t</li>\\n\\t\\t\\n\\t\\t\\t<li class=\"vod_item\"  >\\n\\t\\t\\t\\t<a href=\"/video.nhn?id=801737\"\\n\\t\\t\\t\\t   class=\"link_vod\"\\n\\t\\t\\t\\t   onclick=\"clickcr(this, \\'rnk*m.list\\', \\'801737\\', \\'9\\', event); \"\\n\\t\\t\\t\\t   title=\"(리뷰) 이강인 선발 복귀! 감독 교체 후 달라진 이강인의 롤 분석. 부상 여파는 지켜봐야\">\\n\\n\\t\\t\\t\\t\\t<div class=\"image_area\">\\n\\t\\t\\t\\t\\t\\t<span class=\"rank number9\"><span class=\"blind\">9위</span></span>\\n\\t\\t\\t\\t\\t\\t<span class=\"common_video_length\"><span class=\"blind\">재생시간</span>11:22</span>\\n\\t\\t\\t\\t\\t\\t<div class=\"image\">\\n\\t\\t\\t\\t\\t\\t\\t<img src=\"data:image/gif;base64,R0lGODlhAQABAAAAACH5BAEKAAEALAAAAAABAAEAAAICTAEAOw==\"\\n\\t\\t\\t\\t\\t\\t\\t\\t width=\"194\" height=\"112\" alt=\"\"\\n\\t\\t\\t\\t\\t\\t\\t\\t class=\"imageLazyLoad\"\\n\\t\\t\\t\\t\\t\\t\\t\\t lazy-src=\"https://dthumb-phinf.pstatic.net?src=https://phinf.pstatic.net/tvcast/20210510_248/ktHUl_1620605920641QJm73_JPEG/1620605884117.jpg&type=nf194_112&service=sports\">\\n\\t\\t\\t\\t\\t\\t</div>\\n\\t\\t\\t\\t\\t</div>\\n\\t\\t\\t\\t\\t<div class=\"text_area _sports_home_most_viewed_vod_title\">(리뷰) 이강인 선발 복귀! 감독 교체 후 달라진 이강인의 롤 분석. 부상 여파는 지켜봐야</div>\\n\\t\\t\\t\\t</a>\\n\\t\\t\\t</li>\\n\\t\\t\\n\\t\\t\\t<li class=\"vod_item\"  >\\n\\t\\t\\t\\t<a href=\"/video.nhn?id=801740\"\\n\\t\\t\\t\\t   class=\"link_vod\"\\n\\t\\t\\t\\t   onclick=\"clickcr(this, \\'rnk*m.list\\', \\'801740\\', \\'10\\', event); \"\\n\\t\\t\\t\\t   title=\"[인터뷰] 보로 감독 대행, “이강인, 게데스의 패스웍이 만들어낸 결과”\">\\n\\n\\t\\t\\t\\t\\t<div class=\"image_area\">\\n\\t\\t\\t\\t\\t\\t<span class=\"rank number10\"><span class=\"blind\">10위</span></span>\\n\\t\\t\\t\\t\\t\\t<span class=\"common_video_length\"><span class=\"blind\">재생시간</span>01:53</span>\\n\\t\\t\\t\\t\\t\\t<div class=\"image\">\\n\\t\\t\\t\\t\\t\\t\\t<img src=\"data:image/gif;base64,R0lGODlhAQABAAAAACH5BAEKAAEALAAAAAABAAEAAAICTAEAOw==\"\\n\\t\\t\\t\\t\\t\\t\\t\\t width=\"194\" height=\"112\" alt=\"\"\\n\\t\\t\\t\\t\\t\\t\\t\\t class=\"imageLazyLoad\"\\n\\t\\t\\t\\t\\t\\t\\t\\t lazy-src=\"https://dthumb-phinf.pstatic.net?src=https://phinf.pstatic.net/tvcast/20210510_233/7IGvl_1620613967673PrS5q_JPEG/1620613866099.jpg&type=nf194_112&service=sports\">\\n\\t\\t\\t\\t\\t\\t</div>\\n\\t\\t\\t\\t\\t</div>\\n\\t\\t\\t\\t\\t<div class=\"text_area _sports_home_most_viewed_vod_title\">[인터뷰] 보로 감독 대행, “이강인, 게데스의 패스웍이 만들어낸 결과”</div>\\n\\t\\t\\t\\t</a>\\n\\t\\t\\t</li>\\n\\t\\t\\n\\t\\t\\t<li class=\"vod_item\" style=\"display: none;\" >\\n\\t\\t\\t\\t<a href=\"/video.nhn?id=801871\"\\n\\t\\t\\t\\t   class=\"link_vod\"\\n\\t\\t\\t\\t   onclick=\"clickcr(this, \\'rnk*m.list\\', \\'801871\\', \\'11\\', event); \"\\n\\t\\t\\t\\t   title=\"도마요정 여서정의 국가대표선발전 경기모습은 어떨까(도마, 평균대, 이단평행봉, 마루종\">\\n\\n\\t\\t\\t\\t\\t<div class=\"image_area\">\\n\\t\\t\\t\\t\\t\\t<span class=\"rank number11\"><span class=\"blind\">11위</span></span>\\n\\t\\t\\t\\t\\t\\t<span class=\"common_video_length\"><span class=\"blind\">재생시간</span>05:13</span>\\n\\t\\t\\t\\t\\t\\t<div class=\"image\">\\n\\t\\t\\t\\t\\t\\t\\t<img src=\"data:image/gif;base64,R0lGODlhAQABAAAAACH5BAEKAAEALAAAAAABAAEAAAICTAEAOw==\"\\n\\t\\t\\t\\t\\t\\t\\t\\t width=\"194\" height=\"112\" alt=\"\"\\n\\t\\t\\t\\t\\t\\t\\t\\t class=\"imageLazyLoad\"\\n\\t\\t\\t\\t\\t\\t\\t\\t lazy-src=\"https://dthumb-phinf.pstatic.net?src=https://phinf.pstatic.net/tvcast/20210510_101/zbHyp_1620635729674z0p5d_JPEG/1620635598677.jpg&type=nf194_112&service=sports\">\\n\\t\\t\\t\\t\\t\\t</div>\\n\\t\\t\\t\\t\\t</div>\\n\\t\\t\\t\\t\\t<div class=\"text_area _sports_home_most_viewed_vod_title\">도마요정 여서정의 국가대표선발전 경기모습은 어떨까(도마, 평균대, 이단평행봉, 마루종</div>\\n\\t\\t\\t\\t</a>\\n\\t\\t\\t</li>\\n\\t\\t\\n\\t\\t\\t<li class=\"vod_item\" style=\"display: none;\" >\\n\\t\\t\\t\\t<a href=\"/video.nhn?id=801851\"\\n\\t\\t\\t\\t   class=\"link_vod\"\\n\\t\\t\\t\\t   onclick=\"clickcr(this, \\'rnk*m.list\\', \\'801851\\', \\'12\\', event); \"\\n\\t\\t\\t\\t   title=\"[PL] 맨 시티, 파넨카킥에 미뤄진 \\'우승\\'… 실낱같은 희망 맨 유\">\\n\\n\\t\\t\\t\\t\\t<div class=\"image_area\">\\n\\t\\t\\t\\t\\t\\t<span class=\"rank number12\"><span class=\"blind\">12위</span></span>\\n\\t\\t\\t\\t\\t\\t<span class=\"common_video_length\"><span class=\"blind\">재생시간</span>01:30</span>\\n\\t\\t\\t\\t\\t\\t<div class=\"image\">\\n\\t\\t\\t\\t\\t\\t\\t<img src=\"data:image/gif;base64,R0lGODlhAQABAAAAACH5BAEKAAEALAAAAAABAAEAAAICTAEAOw==\"\\n\\t\\t\\t\\t\\t\\t\\t\\t width=\"194\" height=\"112\" alt=\"\"\\n\\t\\t\\t\\t\\t\\t\\t\\t class=\"imageLazyLoad\"\\n\\t\\t\\t\\t\\t\\t\\t\\t lazy-src=\"https://dthumb-phinf.pstatic.net?src=https://sports-phinf.pstatic.net/20210510_116/162063676293146W3S_JPEG/%B4%BA%BD%BA.00_03_59_20.%BD%BA%C6%BF_001.jpg&type=nf194_112&service=sports\">\\n\\t\\t\\t\\t\\t\\t</div>\\n\\t\\t\\t\\t\\t</div>\\n\\t\\t\\t\\t\\t<div class=\"text_area _sports_home_most_viewed_vod_title\">[PL] 맨 시티, 파넨카킥에 미뤄진 \\'우승\\'… 실낱같은 희망 맨 유</div>\\n\\t\\t\\t\\t</a>\\n\\t\\t\\t</li>\\n\\t\\t\\n\\t\\t\\t<li class=\"vod_item\" style=\"display: none;\" >\\n\\t\\t\\t\\t<a href=\"/video.nhn?id=801942\"\\n\\t\\t\\t\\t   class=\"link_vod\"\\n\\t\\t\\t\\t   onclick=\"clickcr(this, \\'rnk*m.list\\', \\'801942\\', \\'13\\', event); \"\\n\\t\\t\\t\\t   title=\"\\'최준\\'으로 시작해서 \\'최준\\' 끝난 경기 ㄷㄷㄷ / [케잘함]\">\\n\\n\\t\\t\\t\\t\\t<div class=\"image_area\">\\n\\t\\t\\t\\t\\t\\t<span class=\"rank number13\"><span class=\"blind\">13위</span></span>\\n\\t\\t\\t\\t\\t\\t<span class=\"common_video_length\"><span class=\"blind\">재생시간</span>04:50</span>\\n\\t\\t\\t\\t\\t\\t<div class=\"image\">\\n\\t\\t\\t\\t\\t\\t\\t<img src=\"data:image/gif;base64,R0lGODlhAQABAAAAACH5BAEKAAEALAAAAAABAAEAAAICTAEAOw==\"\\n\\t\\t\\t\\t\\t\\t\\t\\t width=\"194\" height=\"112\" alt=\"\"\\n\\t\\t\\t\\t\\t\\t\\t\\t class=\"imageLazyLoad\"\\n\\t\\t\\t\\t\\t\\t\\t\\t lazy-src=\"https://dthumb-phinf.pstatic.net?src=https://phinf.pstatic.net/tvcast/20210511_25/Pgx6z_162066236711677OF7_PNG/1620662306977.png&type=nf194_112&service=sports\">\\n\\t\\t\\t\\t\\t\\t</div>\\n\\t\\t\\t\\t\\t</div>\\n\\t\\t\\t\\t\\t<div class=\"text_area _sports_home_most_viewed_vod_title\">\\'최준\\'으로 시작해서 \\'최준\\' 끝난 경기 ㄷㄷㄷ / [케잘함]</div>\\n\\t\\t\\t\\t</a>\\n\\t\\t\\t</li>\\n\\t\\t\\n\\t\\t\\t<li class=\"vod_item\" style=\"display: none;\" >\\n\\t\\t\\t\\t<a href=\"/video.nhn?id=801582\"\\n\\t\\t\\t\\t   class=\"link_vod\"\\n\\t\\t\\t\\t   onclick=\"clickcr(this, \\'rnk*m.list\\', \\'801582\\', \\'14\\', event); \"\\n\\t\\t\\t\\t   title=\"\\'승부욕과 논란 사이\\' 구심 판정에 분노한 홍창기 [7AM]\">\\n\\n\\t\\t\\t\\t\\t<div class=\"image_area\">\\n\\t\\t\\t\\t\\t\\t<span class=\"rank number14\"><span class=\"blind\">14위</span></span>\\n\\t\\t\\t\\t\\t\\t<span class=\"common_video_length\"><span class=\"blind\">재생시간</span>02:10</span>\\n\\t\\t\\t\\t\\t\\t<div class=\"image\">\\n\\t\\t\\t\\t\\t\\t\\t<img src=\"data:image/gif;base64,R0lGODlhAQABAAAAACH5BAEKAAEALAAAAAABAAEAAAICTAEAOw==\"\\n\\t\\t\\t\\t\\t\\t\\t\\t width=\"194\" height=\"112\" alt=\"\"\\n\\t\\t\\t\\t\\t\\t\\t\\t class=\"imageLazyLoad\"\\n\\t\\t\\t\\t\\t\\t\\t\\t lazy-src=\"https://dthumb-phinf.pstatic.net?src=https://sports-phinf.pstatic.net/20210510_279/1620591378040k9HX4_JPEG/12344.jpg&type=nf194_112&service=sports\">\\n\\t\\t\\t\\t\\t\\t</div>\\n\\t\\t\\t\\t\\t</div>\\n\\t\\t\\t\\t\\t<div class=\"text_area _sports_home_most_viewed_vod_title\">\\'승부욕과 논란 사이\\' 구심 판정에 분노한 홍창기 [7AM]</div>\\n\\t\\t\\t\\t</a>\\n\\t\\t\\t</li>\\n\\t\\t\\n\\t\\t\\t<li class=\"vod_item\" style=\"display: none;\" >\\n\\t\\t\\t\\t<a href=\"/video.nhn?id=802037\"\\n\\t\\t\\t\\t   class=\"link_vod\"\\n\\t\\t\\t\\t   onclick=\"clickcr(this, \\'rnk*m.list\\', \\'802037\\', \\'15\\', event); \"\\n\\t\\t\\t\\t   title=\"\\'메이저리그에서 발차기를 날린 선수는?\\' [야잘알 테스트#27]\">\\n\\n\\t\\t\\t\\t\\t<div class=\"image_area\">\\n\\t\\t\\t\\t\\t\\t<span class=\"rank number15\"><span class=\"blind\">15위</span></span>\\n\\t\\t\\t\\t\\t\\t<span class=\"common_video_length\"><span class=\"blind\">재생시간</span>02:12</span>\\n\\t\\t\\t\\t\\t\\t<div class=\"image\">\\n\\t\\t\\t\\t\\t\\t\\t<img src=\"data:image/gif;base64,R0lGODlhAQABAAAAACH5BAEKAAEALAAAAAABAAEAAAICTAEAOw==\"\\n\\t\\t\\t\\t\\t\\t\\t\\t width=\"194\" height=\"112\" alt=\"\"\\n\\t\\t\\t\\t\\t\\t\\t\\t class=\"imageLazyLoad\"\\n\\t\\t\\t\\t\\t\\t\\t\\t lazy-src=\"https://dthumb-phinf.pstatic.net?src=https://sports-phinf.pstatic.net/20210511_298/1620683534570NcY8h_JPEG/1.jpg&type=nf194_112&service=sports\">\\n\\t\\t\\t\\t\\t\\t</div>\\n\\t\\t\\t\\t\\t</div>\\n\\t\\t\\t\\t\\t<div class=\"text_area _sports_home_most_viewed_vod_title\">\\'메이저리그에서 발차기를 날린 선수는?\\' [야잘알 테스트#27]</div>\\n\\t\\t\\t\\t</a>\\n\\t\\t\\t</li>\\n\\t\\t\\n\\t\\t\\t<li class=\"vod_item\" style=\"display: none;\" >\\n\\t\\t\\t\\t<a href=\"/video.nhn?id=801970\"\\n\\t\\t\\t\\t   class=\"link_vod\"\\n\\t\\t\\t\\t   onclick=\"clickcr(this, \\'rnk*m.list\\', \\'801970\\', \\'16\\', event); \"\\n\\t\\t\\t\\t   title=\"미세먼지도 막을 수 없다, 황사 뚫고 스윙 돌린 \\'간절한\\' 추신수! [M+현장]\">\\n\\n\\t\\t\\t\\t\\t<div class=\"image_area\">\\n\\t\\t\\t\\t\\t\\t<span class=\"rank number16\"><span class=\"blind\">16위</span></span>\\n\\t\\t\\t\\t\\t\\t<span class=\"common_video_length\"><span class=\"blind\">재생시간</span>01:23</span>\\n\\t\\t\\t\\t\\t\\t<div class=\"image\">\\n\\t\\t\\t\\t\\t\\t\\t<img src=\"data:image/gif;base64,R0lGODlhAQABAAAAACH5BAEKAAEALAAAAAABAAEAAAICTAEAOw==\"\\n\\t\\t\\t\\t\\t\\t\\t\\t width=\"194\" height=\"112\" alt=\"\"\\n\\t\\t\\t\\t\\t\\t\\t\\t class=\"imageLazyLoad\"\\n\\t\\t\\t\\t\\t\\t\\t\\t lazy-src=\"https://dthumb-phinf.pstatic.net?src=https://sports-phinf.pstatic.net//20210511_117/1620693406062OlemM_PNG/CA202105110003.png&type=nf194_112&service=sports\">\\n\\t\\t\\t\\t\\t\\t</div>\\n\\t\\t\\t\\t\\t</div>\\n\\t\\t\\t\\t\\t<div class=\"text_area _sports_home_most_viewed_vod_title\">미세먼지도 막을 수 없다, 황사 뚫고 스윙 돌린 \\'간절한\\' 추신수! [M+현장]</div>\\n\\t\\t\\t\\t</a>\\n\\t\\t\\t</li>\\n\\t\\t\\n\\t\\t\\t<li class=\"vod_item\" style=\"display: none;\" >\\n\\t\\t\\t\\t<a href=\"/video.nhn?id=801742\"\\n\\t\\t\\t\\t   class=\"link_vod\"\\n\\t\\t\\t\\t   onclick=\"clickcr(this, \\'rnk*m.list\\', \\'801742\\', \\'17\\', event); \"\\n\\t\\t\\t\\t   title=\"\\'단독 1위\\' 삼성, 갑드래곤 주니어로 1차 지명 확정? I 경북고 투수 진승현\">\\n\\n\\t\\t\\t\\t\\t<div class=\"image_area\">\\n\\t\\t\\t\\t\\t\\t<span class=\"rank number17\"><span class=\"blind\">17위</span></span>\\n\\t\\t\\t\\t\\t\\t<span class=\"common_video_length\"><span class=\"blind\">재생시간</span>05:37</span>\\n\\t\\t\\t\\t\\t\\t<div class=\"image\">\\n\\t\\t\\t\\t\\t\\t\\t<img src=\"data:image/gif;base64,R0lGODlhAQABAAAAACH5BAEKAAEALAAAAAABAAEAAAICTAEAOw==\"\\n\\t\\t\\t\\t\\t\\t\\t\\t width=\"194\" height=\"112\" alt=\"\"\\n\\t\\t\\t\\t\\t\\t\\t\\t class=\"imageLazyLoad\"\\n\\t\\t\\t\\t\\t\\t\\t\\t lazy-src=\"https://dthumb-phinf.pstatic.net?src=https://phinf.pstatic.net/tvcast/20210510_31/Vj7ei_1620578814798gF7T4_JPEG/1620578810884.jpg&type=nf194_112&service=sports\">\\n\\t\\t\\t\\t\\t\\t</div>\\n\\t\\t\\t\\t\\t</div>\\n\\t\\t\\t\\t\\t<div class=\"text_area _sports_home_most_viewed_vod_title\">\\'단독 1위\\' 삼성, 갑드래곤 주니어로 1차 지명 확정? I 경북고 투수 진승현</div>\\n\\t\\t\\t\\t</a>\\n\\t\\t\\t</li>\\n\\t\\t\\n\\t\\t\\t<li class=\"vod_item\" style=\"display: none;\" >\\n\\t\\t\\t\\t<a href=\"/video.nhn?id=801946\"\\n\\t\\t\\t\\t   class=\"link_vod\"\\n\\t\\t\\t\\t   onclick=\"clickcr(this, \\'rnk*m.list\\', \\'801946\\', \\'18\\', event); \"\\n\\t\\t\\t\\t   title=\"흔들리는 다저스, 바우어 분란 시작? | 인사이드MLB\">\\n\\n\\t\\t\\t\\t\\t<div class=\"image_area\">\\n\\t\\t\\t\\t\\t\\t<span class=\"rank number18\"><span class=\"blind\">18위</span></span>\\n\\t\\t\\t\\t\\t\\t<span class=\"common_video_length\"><span class=\"blind\">재생시간</span>12:41</span>\\n\\t\\t\\t\\t\\t\\t<div class=\"image\">\\n\\t\\t\\t\\t\\t\\t\\t<img src=\"data:image/gif;base64,R0lGODlhAQABAAAAACH5BAEKAAEALAAAAAABAAEAAAICTAEAOw==\"\\n\\t\\t\\t\\t\\t\\t\\t\\t width=\"194\" height=\"112\" alt=\"\"\\n\\t\\t\\t\\t\\t\\t\\t\\t class=\"imageLazyLoad\"\\n\\t\\t\\t\\t\\t\\t\\t\\t lazy-src=\"https://dthumb-phinf.pstatic.net?src=https://phinf.pstatic.net/tvcast/20210510_202/iI07q_1620656031203iH26k_PNG/1620655850369.png&type=nf194_112&service=sports\">\\n\\t\\t\\t\\t\\t\\t</div>\\n\\t\\t\\t\\t\\t</div>\\n\\t\\t\\t\\t\\t<div class=\"text_area _sports_home_most_viewed_vod_title\">흔들리는 다저스, 바우어 분란 시작? | 인사이드MLB</div>\\n\\t\\t\\t\\t</a>\\n\\t\\t\\t</li>\\n\\t\\t\\n\\t\\t\\t<li class=\"vod_item\" style=\"display: none;\" >\\n\\t\\t\\t\\t<a href=\"/video.nhn?id=800487\"\\n\\t\\t\\t\\t   class=\"link_vod\"\\n\\t\\t\\t\\t   onclick=\"clickcr(this, \\'rnk*m.list\\', \\'800487\\', \\'19\\', event); \"\\n\\t\\t\\t\\t   title=\"정용진 부회장님, 피니쉬만 바꿔도...!!(피니쉬 멋지게 하는 방법)\">\\n\\n\\t\\t\\t\\t\\t<div class=\"image_area\">\\n\\t\\t\\t\\t\\t\\t<span class=\"rank number19\"><span class=\"blind\">19위</span></span>\\n\\t\\t\\t\\t\\t\\t<span class=\"common_video_length\"><span class=\"blind\">재생시간</span>05:01</span>\\n\\t\\t\\t\\t\\t\\t<div class=\"image\">\\n\\t\\t\\t\\t\\t\\t\\t<img src=\"data:image/gif;base64,R0lGODlhAQABAAAAACH5BAEKAAEALAAAAAABAAEAAAICTAEAOw==\"\\n\\t\\t\\t\\t\\t\\t\\t\\t width=\"194\" height=\"112\" alt=\"\"\\n\\t\\t\\t\\t\\t\\t\\t\\t class=\"imageLazyLoad\"\\n\\t\\t\\t\\t\\t\\t\\t\\t lazy-src=\"https://dthumb-phinf.pstatic.net?src=https://phinf.pstatic.net/tvcast/20210507_257/Z5WNN_16203823182041iA4z_JPEG/98854d71-af1c-11eb-9903-505dac8c3639_03.jpg&type=nf194_112&service=sports\">\\n\\t\\t\\t\\t\\t\\t</div>\\n\\t\\t\\t\\t\\t</div>\\n\\t\\t\\t\\t\\t<div class=\"text_area _sports_home_most_viewed_vod_title\">정용진 부회장님, 피니쉬만 바꿔도...!!(피니쉬 멋지게 하는 방법)</div>\\n\\t\\t\\t\\t</a>\\n\\t\\t\\t</li>\\n\\t\\t\\n\\t\\t\\t<li class=\"vod_item\" style=\"display: none;\" >\\n\\t\\t\\t\\t<a href=\"/video.nhn?id=801929\"\\n\\t\\t\\t\\t   class=\"link_vod\"\\n\\t\\t\\t\\t   onclick=\"clickcr(this, \\'rnk*m.list\\', \\'801929\\', \\'20\\', event); \"\\n\\t\\t\\t\\t   title=\"응모전 통해 로리 매킬로이와 프로암 기회를 얻은자\">\\n\\n\\t\\t\\t\\t\\t<div class=\"image_area\">\\n\\t\\t\\t\\t\\t\\t<span class=\"rank number20\"><span class=\"blind\">20위</span></span>\\n\\t\\t\\t\\t\\t\\t<span class=\"common_video_length\"><span class=\"blind\">재생시간</span>03:59</span>\\n\\t\\t\\t\\t\\t\\t<div class=\"image\">\\n\\t\\t\\t\\t\\t\\t\\t<img src=\"data:image/gif;base64,R0lGODlhAQABAAAAACH5BAEKAAEALAAAAAABAAEAAAICTAEAOw==\"\\n\\t\\t\\t\\t\\t\\t\\t\\t width=\"194\" height=\"112\" alt=\"\"\\n\\t\\t\\t\\t\\t\\t\\t\\t class=\"imageLazyLoad\"\\n\\t\\t\\t\\t\\t\\t\\t\\t lazy-src=\"https://dthumb-phinf.pstatic.net?src=https://phinf.pstatic.net/tvcast/20210511_13/kW8dJ_1620660101323nv5NM_JPEG/1620660050092.jpg&type=nf194_112&service=sports\">\\n\\t\\t\\t\\t\\t\\t</div>\\n\\t\\t\\t\\t\\t</div>\\n\\t\\t\\t\\t\\t<div class=\"text_area _sports_home_most_viewed_vod_title\">응모전 통해 로리 매킬로이와 프로암 기회를 얻은자</div>\\n\\t\\t\\t\\t</a>\\n\\t\\t\\t</li>\\n\\t\\t\\n\\t</ul>\\n\\t<!-- [D] 20위까지 펼쳤을 경우 버튼 미노출 적용 -->\\n\\t<div class=\"vod_button_area\">\\n\\t\\t<button type=\"button\" class=\"button_more\">11~20위 영상 더보기</button>\\n\\t</div>\\n</div>\\n\\n<script>\\n\\t$(\"._sports_home_most_viewed_vod_title\").dotdotdot({\\'height\\' : 36});\\n\\n\\t$(\".vod_button_area\").on(\"click\", \"button\", function(e) {\\n\\t\\t$(\".vod_item\").show();\\n\\t\\t$(\"._sports_home_most_viewed_vod_title\").dotdotdot({\\'height\\' : 36});\\n\\t\\t$(e.currentTarget).hide();\\n\\t\\tclickcr(this, \\'rnk*m.more\\', \\'\\', \\'\\', e);\\n\\t});\\n</script>\\n\\n\\n\\n<div id=\"_sports_home_airs_area\" class=\"news_section\">\\n</div>\\n\\n<script id=\"_sports_home_airs_template\" type=\"text/x-handlebars-template\">\\n\\t\\t\\n\\t\\t<h3 class=\"section_title\">추천뉴스</h3>\\n\\t\\t<ul class=\"news_list\">\\n\\t\\t\\t\\n\\t\\t\\t{{#each this}}\\n\\t\\t\\t<li class=\"news_item {{#ifCond @index \\'<\\' 3}}type_top{{/ifCond}}\">\\n\\t\\t\\t\\t<a href=\"/news.nhn?oid={{office_id}}&aid={{article_id}}\" class=\"link_news_item\"\\n\\t\\t\\t\\t\\tonclick=\"clickcr(this, \\'nws*{{#if category}}{{category}}{{else}}{{upper_category}}{{/if}}\\', \\'\\', \\'\\', event);\">\\n\\t\\t\\t\\t\\t<div class=\"image_area\">\\n\\t\\t\\t\\t\\t\\t\\n\\t\\t\\t\\t\\t\\t<div class=\"image\"><img src=\"https://dthumb-phinf.pstatic.net?src={{image}}&type=nf160_95&service=sports\" width=\"160\" height=\"95\" alt=\"\"></div>\\n\\t\\t\\t\\t\\t</div>\\n\\t\\t\\t\\t\\t<div class=\"text_area\">\\n\\t\\t\\t\\t\\t\\t<strong class=\"title\">{{{title}}}</strong>\\n\\t\\t\\t\\t\\t\\t<span class=\"press\">{{{office_name}}}</span>\\n\\t\\t\\t\\t\\t</div>\\n\\t\\t\\t\\t</a>\\n\\t\\t\\t</li>\\n\\t\\t\\t{{/each}}\\n\\t\\t</ul>\\n</script>\\n<script>\\n\\t$.ajax(\"https://proxy-gateway.sports.naver.com/airs/recommends?start=1&display=12\", {\\n\\t\\tdataType: \\'json\\',\\n\\t\\ttimeout: 3000,\\n\\t\\txhrFields: { withCredentials:true },\\n\\t\\tsuccess: function (res) {\\n\\t\\t\\t$(\"#_sports_home_airs_area\").html(\\n\\t\\t\\t\\tHandlebars.compile($(\"#_sports_home_airs_template\").html())(res.result.recommend)\\n\\t\\t\\t);\\n\\t\\t},\\n\\t\\terror: function(res) {\\n\\t\\t\\tJEagleEyeClient.sendError(new Error(res));\\n\\t\\t},\\n\\t\\tcomplete: function(res) {\\n\\t\\t\\tif (res.statusText === \\'timeout\\') {\\n\\t\\t\\t\\tconsole.log(\\'timeout\\');\\n\\t\\t\\t\\tJEagleEyeClient.sendError(new Error(res));\\n\\t\\t\\t}\\n\\t\\t}\\n\\t});\\n</script>\\n\\n\\n\\n\\n\\n<div class=\"photo_section\">\\n\\t<!-- 생생화보 -->\\n\\t<h3 class=\"section_title\">\\n\\t\\t<a href=\"/photocenter/albumList.nhn?category=kbo\" class=\"link_title\" onclick=\"clickcr(this, \\'pho.gopage\\', \\'\\', \\'\\', event);\">\\n\\t\\t\\t생생화보<span class=\"blind\">더보기</span>\\n\\t\\t</a>\\n\\t</h3>\\n\\t<div class=\"photo_area\">\\n\\t\\t<!-- [D] photo_item 큰 버전 type_big, 작은 버전 type_small 클래스 적용 -->\\n\\t\\n\\t\\n\\t\\t\\n\\t\\t<div class=\"photo_item type_big\">\\n\\t\\t\\t<a href=\"/photocenter/photoList.nhn?albumId=97842&category=kbo\"\\n\\t\\t\\t   class=\"link_photo\"\\n\\t\\t\\t   onclick=\"clickcr(this, \\'pho.list\\', \\'97842\\', \\'\\', event); \"\\n\\t\\t\\t   title=\" 박경수 \\'매서운 타격을 위해서\\'\">\\n\\t\\t\\t\\t<div class=\"image_area\">\\n\\t\\t\\t\\t\\t<!-- [D] 이미지 alt 값 비워주세요. -->\\n\\t\\t\\t\\t\\t<div class=\"image\">\\n\\t\\t\\t\\t\\t\\t<img src=\"data:image/gif;base64,R0lGODlhAQABAAAAACH5BAEKAAEALAAAAAABAAEAAAICTAEAOw==\"\\n\\t\\t\\t\\t\\t\\t\\t class=\"imageLazyLoad\"\\n\\t\\t\\t\\t\\t\\t\\t lazy-src=\"https://dthumb-phinf.pstatic.net?src=http://imgnews.naver.net/image/117/2021/05/11/202105111536771568_1_20210511153705163.jpg&type=nf500_330&service=sports\"\\n\\t\\t\\t\\t\\t\\t\\t width=\"500\" height=\"330\" alt=\"\">\\n\\t\\t\\t\\t\\t</div>\\n\\t\\t\\t\\t</div>\\n\\t\\t\\t\\t<div class=\"text_area\"> 박경수 \\'매서운 타격을 위해서\\'</div>\\n\\t\\t\\t</a>\\n\\t\\t</div>\\n\\t\\t<ul class=\"photo_list\">\\n\\t\\t\\n\\t\\t\\n\\t\\n\\t\\n\\t\\n\\t\\t\\n\\t\\t\\n\\t\\t\\t<li class=\"photo_item type_small\">\\n\\t\\t\\t\\t<a href=\"/photocenter/photoList.nhn?albumId=97841&category=kfootball\"\\n\\t\\t\\t\\t   class=\"link_photo\"\\n\\t\\t\\t\\t   onclick=\"clickcr(this, \\'pho.list\\', \\'97841\\', \\'\\', event); \"\\n\\t\\t\\t\\t   title=\" 이민아 \\'우주의 기를 모아~~ 슛!\\'\">\\n\\t\\t\\t\\t\\t<div class=\"image_area\">\\n\\t\\t\\t\\t\\t\\t<div class=\"image\">\\n\\t\\t\\t\\t\\t\\t\\t<img src=\"data:image/gif;base64,R0lGODlhAQABAAAAACH5BAEKAAEALAAAAAABAAEAAAICTAEAOw==\"\\n\\t\\t\\t\\t\\t\\t\\t\\t class=\"imageLazyLoad\"\\n\\t\\t\\t\\t\\t\\t\\t\\t lazy-src=\"https://dthumb-phinf.pstatic.net?src=http://imgnews.naver.net/image/436/2021/05/11/0000043988_001_20210511153404932.jpg&type=nf250_165&service=sports\"\\n\\t\\t\\t\\t\\t\\t\\t\\t width=\"250\" height=\"165\" alt=\"\">\\n\\t\\t\\t\\t\\t\\t</div>\\n\\t\\t\\t\\t\\t</div>\\n\\t\\t\\t\\t\\t<div class=\"text_area\"> 이민아 \\'우주의 기를 모아~~ 슛!\\'</div>\\n\\t\\t\\t\\t</a>\\n\\t\\t\\t</li>\\n\\t\\t\\n\\t\\n\\t\\n\\t\\n\\t\\t\\n\\t\\t\\n\\t\\t\\t<li class=\"photo_item type_small\">\\n\\t\\t\\t\\t<a href=\"/photocenter/photoList.nhn?albumId=97839&category=nba\"\\n\\t\\t\\t\\t   class=\"link_photo\"\\n\\t\\t\\t\\t   onclick=\"clickcr(this, \\'pho.list\\', \\'97839\\', \\'\\', event); \"\\n\\t\\t\\t\\t   title=\"USA BASKETBALL NBA\">\\n\\t\\t\\t\\t\\t<div class=\"image_area\">\\n\\t\\t\\t\\t\\t\\t<div class=\"image\">\\n\\t\\t\\t\\t\\t\\t\\t<img src=\"data:image/gif;base64,R0lGODlhAQABAAAAACH5BAEKAAEALAAAAAABAAEAAAICTAEAOw==\"\\n\\t\\t\\t\\t\\t\\t\\t\\t class=\"imageLazyLoad\"\\n\\t\\t\\t\\t\\t\\t\\t\\t lazy-src=\"https://dthumb-phinf.pstatic.net?src=http://imgnews.naver.net/image/091/2021/05/11/PEP20210511077401055_P2_20210511103016740.jpg&type=nf250_165&service=sports\"\\n\\t\\t\\t\\t\\t\\t\\t\\t width=\"250\" height=\"165\" alt=\"\">\\n\\t\\t\\t\\t\\t\\t</div>\\n\\t\\t\\t\\t\\t</div>\\n\\t\\t\\t\\t\\t<div class=\"text_area\">USA BASKETBALL NBA</div>\\n\\t\\t\\t\\t</a>\\n\\t\\t\\t</li>\\n\\t\\t\\n\\t\\n\\t\\n\\t\\n\\t\\t\\n\\t\\t\\n\\t\\t\\t<li class=\"photo_item type_small\">\\n\\t\\t\\t\\t<a href=\"/photocenter/photoList.nhn?albumId=97838&category=mlb\"\\n\\t\\t\\t\\t   class=\"link_photo\"\\n\\t\\t\\t\\t   onclick=\"clickcr(this, \\'pho.list\\', \\'97838\\', \\'\\', event); \"\\n\\t\\t\\t\\t   title=\"Angels Astros Baseball\">\\n\\t\\t\\t\\t\\t<div class=\"image_area\">\\n\\t\\t\\t\\t\\t\\t<div class=\"image\">\\n\\t\\t\\t\\t\\t\\t\\t<img src=\"data:image/gif;base64,R0lGODlhAQABAAAAACH5BAEKAAEALAAAAAABAAEAAAICTAEAOw==\"\\n\\t\\t\\t\\t\\t\\t\\t\\t class=\"imageLazyLoad\"\\n\\t\\t\\t\\t\\t\\t\\t\\t lazy-src=\"https://dthumb-phinf.pstatic.net?src=http://imgnews.naver.net/image/077/2021/05/11/PAP20210511068501055_P2_20210511093514208.jpg&type=nf250_165&service=sports\"\\n\\t\\t\\t\\t\\t\\t\\t\\t width=\"250\" height=\"165\" alt=\"\">\\n\\t\\t\\t\\t\\t\\t</div>\\n\\t\\t\\t\\t\\t</div>\\n\\t\\t\\t\\t\\t<div class=\"text_area\">Angels Astros Baseball</div>\\n\\t\\t\\t\\t</a>\\n\\t\\t\\t</li>\\n\\t\\t\\n\\t\\n\\t\\n\\t\\n\\t\\t\\n\\t\\t\\n\\t\\t\\t<li class=\"photo_item type_small\">\\n\\t\\t\\t\\t<a href=\"/photocenter/photoList.nhn?albumId=97837&category=wfootball\"\\n\\t\\t\\t\\t   class=\"link_photo\"\\n\\t\\t\\t\\t   onclick=\"clickcr(this, \\'pho.list\\', \\'97837\\', \\'\\', event); \"\\n\\t\\t\\t\\t   title=\"Britain Soccer Premier League\">\\n\\t\\t\\t\\t\\t<div class=\"image_area\">\\n\\t\\t\\t\\t\\t\\t<div class=\"image\">\\n\\t\\t\\t\\t\\t\\t\\t<img src=\"data:image/gif;base64,R0lGODlhAQABAAAAACH5BAEKAAEALAAAAAABAAEAAAICTAEAOw==\"\\n\\t\\t\\t\\t\\t\\t\\t\\t class=\"imageLazyLoad\"\\n\\t\\t\\t\\t\\t\\t\\t\\t lazy-src=\"https://dthumb-phinf.pstatic.net?src=http://imgnews.naver.net/image/077/2021/05/11/PAP20210511052801055_P2_20210511063909890.jpg&type=nf250_165&service=sports\"\\n\\t\\t\\t\\t\\t\\t\\t\\t width=\"250\" height=\"165\" alt=\"\">\\n\\t\\t\\t\\t\\t\\t</div>\\n\\t\\t\\t\\t\\t</div>\\n\\t\\t\\t\\t\\t<div class=\"text_area\">Britain Soccer Premier League</div>\\n\\t\\t\\t\\t</a>\\n\\t\\t\\t</li>\\n\\t\\t\\n\\t\\n\\t\\n\\t\\t</ul>\\n\\t</div>\\n</div>\\n\\n\\n\\n\\n\\n\\n\\n\\n\\n<div class=\"shopping_section\">\\n\\t<h3 class=\"section_title\">\\n\\t\\t\\n\\t\\t\\t\\n\\t\\t\\t\\t<a href=\"https://shopping.naver.com/\" class=\"link_title\">네이버 쇼핑<span class=\"blind\">더보기</span></a>\\n\\t\\t\\t\\n\\t\\t\\t\\n\\t\\t\\n\\t</h3>\\n\\t<ul class=\"shopping_list\">\\n\\t\\t\\n\\t\\t<li class=\"shopping_item\">\\n\\t\\t\\t<a href=\"https://smartstore.naver.com/golfzonretail/shoppingstory/detail?id=2001987680\" onclick=\"clickcr(this, \\'plw.goods\\', \\'\\', \\'\\', event);\" class=\"link_shopping\">\\n\\t\\t\\t\\t<div class=\"image_area\">\\n\\t\\t\\t\\t\\t<div class=\"image\"><img src=\"data:image/gif;base64,R0lGODlhAQABAAAAACH5BAEKAAEALAAAAAABAAEAAAICTAEAOw==\" class=\"imageLazyLoad\" lazy-src=\"https://phinf.pstatic.net/checkout/20210510_95/162063135096446xvW_JPEG/20210540d285f5-a436-4233-ac25-6dd03584ae8c.jpg\" alt=\"원데이 특가 찬스!<br>부쉬넬 거리측정기\"width=\"150\" height=\"190\"></div>\\n\\t\\t\\t\\t</div>\\n\\t\\t\\t\\t<div class=\"text_area\">\\n\\t\\t\\t\\t\\t<div class=\"price\"><b class=\"num\">398,000</b>원</div>\\n\\t\\t\\t\\t\\t<div class=\"title\">원데이 특가 찬스!<br>부쉬넬 거리측정기</div>\\n\\t\\t\\t\\t</div>\\n\\t\\t\\t</a>\\n\\t\\t</li>\\n\\t\\t\\n\\t\\t<li class=\"shopping_item\">\\n\\t\\t\\t<a href=\"https://shopping.naver.com/window/play/category?menu=10010585&first=4704912458\" onclick=\"clickcr(this, \\'plw.goods\\', \\'\\', \\'\\', event);\" class=\"link_shopping\">\\n\\t\\t\\t\\t<div class=\"image_area\">\\n\\t\\t\\t\\t\\t<div class=\"image\"><img src=\"data:image/gif;base64,R0lGODlhAQABAAAAACH5BAEKAAEALAAAAAABAAEAAAICTAEAOw==\" class=\"imageLazyLoad\" lazy-src=\"https://phinf.pstatic.net/checkout/20210510_110/1620631495044qfsLd_JPEG/20210543dc1101-7c2f-49b3-8230-cc619db794b7.jpg\" alt=\"간편한 보온&보냉<br>아이스박스 쿨러\"width=\"150\" height=\"190\"></div>\\n\\t\\t\\t\\t</div>\\n\\t\\t\\t\\t<div class=\"text_area\">\\n\\t\\t\\t\\t\\t<div class=\"price\"><b class=\"num\">23,900</b>원</div>\\n\\t\\t\\t\\t\\t<div class=\"title\">간편한 보온&보냉<br>아이스박스 쿨러</div>\\n\\t\\t\\t\\t</div>\\n\\t\\t\\t</a>\\n\\t\\t</li>\\n\\t\\t\\n\\t\\t<li class=\"shopping_item\">\\n\\t\\t\\t<a href=\"https://shopping.naver.com/window/play/category?menu=10009783&first=5486899606\" onclick=\"clickcr(this, \\'plw.goods\\', \\'\\', \\'\\', event);\" class=\"link_shopping\">\\n\\t\\t\\t\\t<div class=\"image_area\">\\n\\t\\t\\t\\t\\t<div class=\"image\"><img src=\"data:image/gif;base64,R0lGODlhAQABAAAAACH5BAEKAAEALAAAAAABAAEAAAICTAEAOw==\" class=\"imageLazyLoad\" lazy-src=\"https://phinf.pstatic.net/checkout/20210510_297/1620631523469ECoQw_JPEG/202105baa87bc4-13a6-4ae7-969a-e3323a8ccd2a.jpg\" alt=\"완벽한 비거리&정확성<br>NEW 3피스 골프공\"width=\"150\" height=\"190\"></div>\\n\\t\\t\\t\\t</div>\\n\\t\\t\\t\\t<div class=\"text_area\">\\n\\t\\t\\t\\t\\t<div class=\"price\"><b class=\"num\">72,000</b>원</div>\\n\\t\\t\\t\\t\\t<div class=\"title\">완벽한 비거리&정확성<br>NEW 3피스 골프공</div>\\n\\t\\t\\t\\t</div>\\n\\t\\t\\t</a>\\n\\t\\t</li>\\n\\t\\t\\n\\t\\t<li class=\"shopping_item\">\\n\\t\\t\\t<a href=\"https://shopping.naver.com/play/fishing/category/10002335?first=5555630312&menu=10002327&sort=RECENT&water=SEA\" onclick=\"clickcr(this, \\'plw.goods\\', \\'\\', \\'\\', event);\" class=\"link_shopping\">\\n\\t\\t\\t\\t<div class=\"image_area\">\\n\\t\\t\\t\\t\\t<div class=\"image\"><img src=\"data:image/gif;base64,R0lGODlhAQABAAAAACH5BAEKAAEALAAAAAABAAEAAAICTAEAOw==\" class=\"imageLazyLoad\" lazy-src=\"https://phinf.pstatic.net/checkout/20210510_190/1620631555174iE30q_JPEG/20210500bcc614-2243-4faa-97b2-c86bdfd72b64.jpg\" alt=\"최적의 접지력 발휘<br>선상 논슬립 반장화2\"width=\"150\" height=\"190\"></div>\\n\\t\\t\\t\\t</div>\\n\\t\\t\\t\\t<div class=\"text_area\">\\n\\t\\t\\t\\t\\t<div class=\"price\"><b class=\"num\">65,000</b>원</div>\\n\\t\\t\\t\\t\\t<div class=\"title\">최적의 접지력 발휘<br>선상 논슬립 반장화2</div>\\n\\t\\t\\t\\t</div>\\n\\t\\t\\t</a>\\n\\t\\t</li>\\n\\t\\t\\n\\t\\t<li class=\"shopping_item\">\\n\\t\\t\\t<a href=\"https://shopping.naver.com/window/play/category?menu=10009785&first=5535696079\" onclick=\"clickcr(this, \\'plw.goods\\', \\'\\', \\'\\', event);\" class=\"link_shopping\">\\n\\t\\t\\t\\t<div class=\"image_area\">\\n\\t\\t\\t\\t\\t<div class=\"image\"><img src=\"data:image/gif;base64,R0lGODlhAQABAAAAACH5BAEKAAEALAAAAAABAAEAAAICTAEAOw==\" class=\"imageLazyLoad\" lazy-src=\"https://phinf.pstatic.net/checkout/20210510_126/1620631614776NYaRD_JPEG/202105e46915ca-cedc-4ed9-bbeb-092a350f6812.jpg\" alt=\"다양한 사이즈 선택<br>브라운 야구 글러브\"width=\"150\" height=\"190\"></div>\\n\\t\\t\\t\\t</div>\\n\\t\\t\\t\\t<div class=\"text_area\">\\n\\t\\t\\t\\t\\t<div class=\"price\"><b class=\"num\">15,500</b>원</div>\\n\\t\\t\\t\\t\\t<div class=\"title\">다양한 사이즈 선택<br>브라운 야구 글러브</div>\\n\\t\\t\\t\\t</div>\\n\\t\\t\\t</a>\\n\\t\\t</li>\\n\\t\\t\\n\\t\\t<li class=\"shopping_item\">\\n\\t\\t\\t<a href=\"https://shopping.naver.com/window/play/category?menu=10009791&first=1001494495\" onclick=\"clickcr(this, \\'plw.goods\\', \\'\\', \\'\\', event);\" class=\"link_shopping\">\\n\\t\\t\\t\\t<div class=\"image_area\">\\n\\t\\t\\t\\t\\t<div class=\"image\"><img src=\"data:image/gif;base64,R0lGODlhAQABAAAAACH5BAEKAAEALAAAAAABAAEAAAICTAEAOw==\" class=\"imageLazyLoad\" lazy-src=\"https://phinf.pstatic.net/checkout/20210510_221/16206316412772OCFV_JPEG/20210560c943c5-ba8f-46bc-9a4a-3b796e7641b8.jpg\" alt=\"넉넉한 수납 공간<br>키카 축구화 가방\"width=\"150\" height=\"190\"></div>\\n\\t\\t\\t\\t</div>\\n\\t\\t\\t\\t<div class=\"text_area\">\\n\\t\\t\\t\\t\\t<div class=\"price\"><b class=\"num\">5,900</b>원</div>\\n\\t\\t\\t\\t\\t<div class=\"title\">넉넉한 수납 공간<br>키카 축구화 가방</div>\\n\\t\\t\\t\\t</div>\\n\\t\\t\\t</a>\\n\\t\\t</li>\\n\\t\\t\\n\\t</ul>\\n</div>\\n\\n\\n    </div>\\n</div>\\n\\n\\n\\n\\n\\n\\t\\n\\t\\t\\n\\t\\n\\t\\n\\n<script id=\"_sports_da_template\" type=\"text/x-handlebars-template\">\\n\\t<iframe {{#if iframeId}}\\n\\t\\t\\t\\tid=\"{{iframeId}}\"\\n\\t\\t\\t\\tname=\"{{iframeId}}\"\\n\\t\\t\\t{{else}}\\n\\t\\t\\t\\tid=\"{{previewId}}{{#if calpId}}_{{calpId}}{{/if}}\"\\n\\t\\t\\t\\tname=\"{{previewId}}{{#if calpId}}_{{calpId}}{{/if}}\"\\n\\t\\t\\t{{/if}}\\n\\t\\t\\tdata-veta-preview=\"{{previewId}}\"\\n\\t\\t\\tsrc=\"https://veta.naver.com/fxshow?su={{unitId}}{{#if calpId}}&calp={{calpId}}{{/if}}\"\\n\\t\\t\\twidth=\"{{width}}\"\\n\\t\\t\\theight=\"{{height}}\"\\n\\t\\t\\ttitle=\"광고\"\\n\\t\\t\\talt=\"광고 영역 입니다.\"\\n\\t\\t\\tallowTransparency=\"true\"\\n\\t\\t\\tmarginheight=\"0\"\\n\\t\\t\\tmarginwidth=\"0\"\\n\\t\\t\\tframeborder=\"0\"\\n\\t\\t\\tscrolling=\"no\"\\n\\t\\t\\talign=\"center\"\\n\\t\\t\\t{{#if ext}}{{ext}}{{/if}}>\\n\\t</iframe>\\n</script>\\n\\n\\n<script id=\"_sports_2020_da_template\" type=\"text/x-handlebars-template\">\\n\\t{{#with adUnit}}\\n\\t<iframe {{#if iframeId}}\\n\\t\\t\\tid=\"{{iframeId}}\"\\n\\t\\t\\tname=\"{{iframeId}}\"\\n\\t\\t\\t{{else}}\\n\\t\\t\\tid=\"{{previewId}}{{#if calpId}}_{{calpId}}{{/if}}\"\\n\\t\\t\\tname=\"{{previewId}}{{#if calpId}}_{{calpId}}{{/if}}\"\\n\\t\\t\\t{{/if}}\\n\\t\\t\\tdata-veta-preview=\"{{previewId}}\"\\n\\t\\t\\tsrc=\"{{../daUrl}}su={{unitId}}{{#if calpId}}&calp={{calpId}}{{/if}}\"\\n\\t\\t\\twidth=\"{{width}}\"\\n\\t\\t\\theight=\"{{height}}\"\\n\\t\\t\\ttitle=\"광고\"\\n\\t\\t\\talt=\"광고 영역 입니다.\"\\n\\t\\t\\tallowTransparency=\"true\"\\n\\t\\t\\tmarginheight=\"0\"\\n\\t\\t\\tmarginwidth=\"0\"\\n\\t\\t\\tframeborder=\"0\"\\n\\t\\t\\tscrolling=\"no\"\\n\\t\\t\\talign=\"center\"\\n\\t\\t\\t{{#if ext}}{{ext}}{{/if}}>\\n\\t</iframe>\\n\\t{{/with}}\\n</script>\\n<script>\\n\\t//TODO section pc2018 인건 평창끝나면 지워주세요\\n\\t//NOTE : 뉴스 엔드 하단 광고 경우엔 NewsEndAdUnit.java 에서 데이터 내려주고 있음.\\n\\n    var adList = [\\n\\t\\t{\"sid\":\"sports_home_right_banner\", \"name\":\"스포츠_우측배너(스포츠홈)\", \"section\":\"\", \"type\":\"pc\", \"oldUnitId\":\"1002B\", \"unitId\":\"SU10351\", \"previewId\":\"p_sports_right\", \"width\":\"300\", \"height\":\"250\", \"menu\":\"\", \"calpId\":\"home\", \"useCase\":\"iframe\"},\\n\\t\\t{\"sid\":\"section_home_double_play\", \"name\":\"P_스포츠_더블플레이(스포츠홈, 종목홈)\", \"section\":\"kbaseball\", \"type\":\"pc\", \"oldUnitId\":\"986B\", \"unitId\":\"SU10514\", \"previewId\":\"p_sports_dpl\", \"width\":\"600\", \"height\":\"70\", \"menu\":\"\", \"calpId\":\"kbaseball\", \"useCase\":\"js\"},\\n\\t\\t{\"sid\":\"section_home_double_play\", \"name\":\"P_스포츠_더블플레이(스포츠홈, 종목홈)\", \"section\":\"wbaseball\", \"type\":\"pc\", \"oldUnitId\":\"988C\", \"unitId\":\"SU10514\", \"previewId\":\"p_sports_dpl\", \"width\":\"600\", \"height\":\"70\", \"menu\":\"\", \"calpId\":\"wbaseball\", \"useCase\":\"js\"},\\n\\t\\t{\"sid\":\"section_home_double_play\", \"name\":\"P_스포츠_더블플레이(스포츠홈, 종목홈)\", \"section\":\"kfootball\", \"type\":\"pc\", \"oldUnitId\":\"989B\", \"unitId\":\"SU10514\", \"previewId\":\"p_sports_dpl\", \"width\":\"600\", \"height\":\"70\", \"menu\":\"\", \"calpId\":\"kfootball\", \"useCase\":\"js\"},\\n\\t\\t{\"sid\":\"section_home_double_play\", \"name\":\"P_스포츠_더블플레이(스포츠홈, 종목홈)\", \"section\":\"wfootball\", \"type\":\"pc\", \"oldUnitId\":\"928C\", \"unitId\":\"SU10514\", \"previewId\":\"p_sports_dpl\", \"width\":\"600\", \"height\":\"70\", \"menu\":\"\", \"calpId\":\"wfootball\", \"useCase\":\"js\"},\\n\\t\\t{\"sid\":\"section_home_double_play\", \"name\":\"P_스포츠_더블플레이(스포츠홈, 종목홈)\", \"section\":\"basketball\", \"type\":\"pc\", \"oldUnitId\":\"990B\", \"unitId\":\"SU10514\", \"previewId\":\"p_sports_dpl\", \"width\":\"600\", \"height\":\"70\", \"menu\":\"\", \"calpId\":\"basketball\", \"useCase\":\"js\"},\\n\\t\\t{\"sid\":\"section_home_double_play\", \"name\":\"P_스포츠_더블플레이(스포츠홈, 종목홈)\", \"section\":\"volleyball\", \"type\":\"pc\", \"oldUnitId\":\"1279A\", \"unitId\":\"SU10514\", \"previewId\":\"p_sports_dpl\", \"width\":\"600\", \"height\":\"70\", \"menu\":\"\", \"calpId\":\"volleyball\", \"useCase\":\"js\"},\\n\\t\\t{\"sid\":\"section_home_double_play\", \"name\":\"P_스포츠_더블플레이(스포츠홈, 종목홈)\", \"section\":\"golf\", \"type\":\"pc\", \"oldUnitId\":\"992G\", \"unitId\":\"SU10514\", \"previewId\":\"p_sports_dpl\", \"width\":\"600\", \"height\":\"70\", \"menu\":\"\", \"calpId\":\"golf\", \"useCase\":\"js\"},\\n\\t\\t{\"sid\":\"section_home_double_play\", \"name\":\"P_스포츠_더블플레이(스포츠홈, 종목홈)\", \"section\":\"general\", \"type\":\"pc\", \"oldUnitId\":\"994C\", \"unitId\":\"SU10514\", \"previewId\":\"p_sports_dpl\", \"width\":\"600\", \"height\":\"70\", \"menu\":\"\", \"calpId\":\"general\", \"useCase\":\"js\"},\\n\\t\\t{\"sid\":\"section_home_double_play\", \"name\":\"P_스포츠_더블플레이(스포츠홈, 종목홈)\", \"section\":\"esports\", \"type\":\"pc\", \"oldUnitId\":\"1046C\", \"unitId\":\"SU10514\", \"previewId\":\"p_sports_dpl\", \"width\":\"600\", \"height\":\"70\", \"menu\":\"\", \"calpId\":\"esports\", \"useCase\":\"js\"},\\n\\t\\t{\"sid\":\"section_home_double_play\", \"name\":\"P_스포츠_더블플레이(스포츠홈, 종목홈)\", \"section\":\"pc2018\", \"type\":\"pc\", \"oldUnitId\":\"\", \"unitId\":\"SU10282\", \"previewId\":\"p_sports_dpl\", \"width\":\"600\", \"height\":\"70\", \"menu\":\"\", \"calpId\":\"\", \"useCase\":\"js\"},\\n\\n\\n\\t\\t{\"sid\":\"section_end_right_banner\", \"name\":\"P_스포츠_우측배너(영상외 주요지면)\", \"section\":\"\", \"type\":\"pc\", \"oldUnitId\":\"159M\", \"unitId\":\"SU10351\", \"previewId\":\"p_sports_right\", \"width\":\"300\", \"height\":\"250\", \"menu\":\"\", \"calpId\":\"\", \"useCase\":\"iframe\"},\\n\\t\\t{\"sid\":\"section_end_right_banner\", \"name\":\"P_스포츠_우측배너(영상외 주요지면)\", \"section\":\"all\", \"type\":\"pc\", \"oldUnitId\":\"159M\", \"unitId\":\"SU10351\", \"previewId\":\"p_sports_right\", \"width\":\"300\", \"height\":\"250\", \"menu\":\"\", \"calpId\":\"\", \"useCase\":\"iframe\"},\\n\\t\\t{\"sid\":\"section_end_right_banner\", \"name\":\"P_스포츠_우측배너(영상외 주요지면)\", \"section\":\"kbaseball\", \"type\":\"pc\", \"oldUnitId\":\"159M\", \"unitId\":\"SU10351\", \"previewId\":\"p_sports_right\", \"width\":\"300\", \"height\":\"250\", \"menu\":\"\", \"calpId\":\"kbaseball\", \"useCase\":\"iframe\"},\\n\\t\\t{\"sid\":\"section_end_right_banner\", \"name\":\"P_스포츠_우측배너(영상외 주요지면)\", \"section\":\"wbaseball\", \"type\":\"pc\", \"oldUnitId\":\"159M\", \"unitId\":\"SU10351\", \"previewId\":\"p_sports_right\", \"width\":\"300\", \"height\":\"250\", \"menu\":\"\", \"calpId\":\"wbaseball\", \"useCase\":\"iframe\"},\\n\\t\\t{\"sid\":\"section_end_right_banner\", \"name\":\"P_스포츠_우측배너(영상외 주요지면)\", \"section\":\"kfootball\", \"type\":\"pc\", \"oldUnitId\":\"159M\", \"unitId\":\"SU10351\", \"previewId\":\"p_sports_right\", \"width\":\"300\", \"height\":\"250\", \"menu\":\"\", \"calpId\":\"kfootball\", \"useCase\":\"iframe\"},\\n\\t\\t{\"sid\":\"section_end_right_banner\", \"name\":\"P_스포츠_우측배너(영상외 주요지면)\", \"section\":\"wfootball\", \"type\":\"pc\", \"oldUnitId\":\"159M\", \"unitId\":\"SU10351\", \"previewId\":\"p_sports_right\", \"width\":\"300\", \"height\":\"250\", \"menu\":\"\", \"calpId\":\"wfootball\", \"useCase\":\"iframe\"},\\n\\t\\t{\"sid\":\"section_end_right_banner\", \"name\":\"P_스포츠_우측배너(영상외 주요지면)\", \"section\":\"basketball\", \"type\":\"pc\", \"oldUnitId\":\"159M\", \"unitId\":\"SU10351\", \"previewId\":\"p_sports_right\", \"width\":\"300\", \"height\":\"250\", \"menu\":\"\", \"calpId\":\"basketball\", \"useCase\":\"iframe\"},\\n\\t\\t{\"sid\":\"section_end_right_banner\", \"name\":\"P_스포츠_우측배너(영상외 주요지면)\", \"section\":\"volleyball\", \"type\":\"pc\", \"oldUnitId\":\"159M\", \"unitId\":\"SU10351\", \"previewId\":\"p_sports_right\", \"width\":\"300\", \"height\":\"250\", \"menu\":\"\", \"calpId\":\"volleyball\", \"useCase\":\"iframe\"},\\n\\t\\t{\"sid\":\"section_end_right_banner\", \"name\":\"P_스포츠_우측배너(영상외 주요지면)\", \"section\":\"golf\", \"type\":\"pc\", \"oldUnitId\":\"1001C\", \"unitId\":\"SU10351\", \"previewId\":\"p_sports_right\", \"width\":\"300\", \"height\":\"250\", \"menu\":\"\", \"calpId\":\"golf\", \"useCase\":\"iframe\"},\\n\\t\\t{\"sid\":\"section_end_right_banner\", \"name\":\"P_스포츠_우측배너(영상외 주요지면)\", \"section\":\"general\", \"type\":\"pc\", \"oldUnitId\":\"159M\", \"unitId\":\"SU10351\", \"previewId\":\"p_sports_right\", \"width\":\"300\", \"height\":\"250\", \"menu\":\"\", \"calpId\":\"general\", \"useCase\":\"iframe\"},\\n\\t\\t{\"sid\":\"section_end_right_banner\", \"name\":\"P_스포츠_우측배너(영상외 주요지면)\", \"section\":\"esports\", \"type\":\"pc\", \"oldUnitId\":\"1047E\", \"unitId\":\"SU10351\", \"previewId\":\"p_sports_right\", \"width\":\"300\", \"height\":\"250\", \"menu\":\"\", \"calpId\":\"esports\", \"useCase\":\"iframe\"},\\n\\t\\t{\"sid\":\"section_end_right_banner\", \"name\":\"P_스포츠_우측배너(영상외 주요지면)\", \"section\":\"pc2018\", \"type\":\"pc\", \"oldUnitId\":\"\", \"unitId\":\"SU10285\", \"previewId\":\"p_sports_right\", \"width\":\"300\", \"height\":\"250\", \"menu\":\"\", \"calpId\":\"\", \"useCase\":\"iframe\"},\\n\\n\\t\\t// 영상 통합 광고\\n\\t\\t{\"sid\":\"vod_right_banner\", \"name\":\"P_스포츠_영상_통합스킨\", \"section\":\"kbaseball\", \"type\":\"pc\", \"oldUnitId\":\"1253B\", \"unitId\":\"SU10453\", \"previewId\":\"p_sports_right\", \"width\":\"300\", \"height\":\"250\", \"menu\":\"\", \"calpId\":\"kbaseball\", \"useCase\":\"js\"},\\n\\t\\t{\"sid\":\"vod_right_banner\", \"name\":\"P_스포츠_영상_통합스킨\", \"section\":\"wbaseball\", \"type\":\"pc\", \"oldUnitId\":\"1051D\", \"unitId\":\"SU10453\", \"previewId\":\"p_sports_right\", \"width\":\"300\", \"height\":\"250\", \"menu\":\"\", \"calpId\":\"wbaseball\", \"useCase\":\"js\"},\\n\\t\\t{\"sid\":\"vod_right_banner\", \"name\":\"P_스포츠_영상_통합스킨\", \"section\":\"kfootball\", \"type\":\"pc\", \"oldUnitId\":\"1255C\", \"unitId\":\"SU10453\", \"previewId\":\"p_sports_right\", \"width\":\"300\", \"height\":\"250\", \"menu\":\"\", \"calpId\":\"kfootball\", \"useCase\":\"js\"},\\n\\t\\t{\"sid\":\"vod_right_banner\", \"name\":\"P_스포츠_영상_통합스킨\", \"section\":\"wfootball\", \"type\":\"pc\", \"oldUnitId\":\"1057D\", \"unitId\":\"SU10453\", \"previewId\":\"p_sports_right\", \"width\":\"300\", \"height\":\"250\", \"menu\":\"\", \"calpId\":\"wfootball\", \"useCase\":\"js\"},\\n\\t\\t{\"sid\":\"vod_right_banner\", \"name\":\"P_스포츠_영상_통합스킨\", \"section\":\"basketball\", \"type\":\"pc\", \"oldUnitId\":\"1251B\", \"unitId\":\"SU10453\", \"previewId\":\"p_sports_right\", \"width\":\"300\", \"height\":\"250\", \"menu\":\"\", \"calpId\":\"basketball\", \"useCase\":\"js\"},\\n\\t\\t{\"sid\":\"vod_right_banner\", \"name\":\"P_스포츠_영상_통합스킨\", \"section\":\"basketball\", \"category\":\"nba\", \"type\":\"pc\", \"unitId\":\"SU10453\", \"previewId\":\"p_sports_right\", \"width\":\"300\", \"height\":\"250\", \"menu\":\"\", \"calpId\":\"nba\", \"useCase\":\"js\"},\\n\\t\\t{\"sid\":\"vod_right_banner\", \"name\":\"P_스포츠_영상_통합스킨\", \"section\":\"volleyball\", \"type\":\"pc\", \"oldUnitId\":\"1251B\", \"unitId\":\"SU10453\", \"previewId\":\"p_sports_right\", \"width\":\"300\", \"height\":\"250\", \"menu\":\"\", \"calpId\":\"volleyball\", \"useCase\":\"js\"},\\n\\t\\t{\"sid\":\"vod_right_banner\", \"name\":\"P_스포츠_영상_통합스킨\", \"section\":\"golf\", \"type\":\"pc\", \"oldUnitId\":\"1021D\", \"unitId\":\"SU10453\", \"previewId\":\"p_sports_right\", \"width\":\"300\", \"height\":\"250\", \"menu\":\"\", \"calpId\":\"golf\", \"useCase\":\"js\"},\\n\\t\\t{\"sid\":\"vod_right_banner\", \"name\":\"P_스포츠_영상_통합스킨\", \"section\":\"general\", \"type\":\"pc\", \"oldUnitId\":\"1251B\", \"unitId\":\"SU10453\", \"previewId\":\"p_sports_right\", \"width\":\"300\", \"height\":\"250\", \"menu\":\"\", \"calpId\":\"general\", \"useCase\":\"js\"},\\n\\t\\t{\"sid\":\"vod_right_banner\", \"name\":\"P_스포츠_영상_통합스킨\", \"section\":\"esports\", \"type\":\"pc\", \"oldUnitId\":\"1102C\", \"unitId\":\"SU10453\", \"previewId\":\"p_sports_right\", \"width\":\"300\", \"height\":\"250\", \"menu\":\"\", \"calpId\":\"esports\", \"useCase\":\"js\"},\\n\\n\\t\\t// TODO ioctv 관련 sports/sus#1867 채널 삭제시 광고 상수 역시 삭제 필요\\n\\t\\t{\"sid\":\"vod_right_banner\", \"name\":\"P_스포츠_영상_통합스킨\", \"section\":\"general\", \"category\":\"ioctv\", \"type\":\"pc\", \"oldUnitId\":\"1102C\", \"unitId\":\"SU10453\", \"previewId\":\"p_sports_right\", \"width\":\"300\", \"height\":\"250\", \"menu\":\"\", \"calpId\":\"ioctv\", \"useCase\":\"js\"},\\n\\n\\t\\t// 평창 영상 광고코드\\n\\t\\t{\"sid\":\"veta_300250\", \"name\":\"P_스포츠_영상_통합스킨\", \"section\":\"pc2018\", \"type\":\"pc\", \"oldUnitId\":\"\", \"unitId\":\"SU10284\", \"previewId\":\"p_sports_right\", \"width\":\"300\", \"height\":\"250\", \"menu\":\"\", \"calpId\":\"\", \"useCase\":\"js\"},\\n\\t\\t{\"sid\":\"vod_topskin\", \"name\":\"P_스포츠_영상_상단스킨\", \"section\":\"pc2018\", \"type\":\"pc\", \"oldUnitId\":\"\", \"unitId\":\"SU10284\", \"previewId\":\"p_sports_topskin\", \"width\":\"300\", \"height\":\"75\", \"menu\":\"\", \"calpId\":\"\", \"useCase\":\"iframe\"},\\n\\n\\t\\t{\"sid\":\"gamecenter_right_banner\", \"name\":\"P_스포츠_게임센터_경기결과_우측배너 \", \"section\":\"kbaseball\", \"type\":\"pc\", \"oldUnitId\":\"735A\", \"unitId\":\"SU10124\", \"previewId\":\"p_sports_game\", \"width\":\"200\", \"height\":\"573\", \"menu\":\"\", \"calpId\":\"kbaseball\", \"useCase\":\"iframe\"},\\n\\t\\t{\"sid\":\"gamecenter_right_banner\", \"name\":\"P_스포츠_게임센터_경기결과_우측배너 \", \"section\":\"wbaseball\", \"type\":\"pc\", \"oldUnitId\":\"1053A\", \"unitId\":\"SU10124\", \"previewId\":\"p_sports_game\", \"width\":\"200\", \"height\":\"573\", \"menu\":\"\", \"calpId\":\"wbaseball\", \"useCase\":\"iframe\"},\\n\\t\\t{\"sid\":\"gamecenter_topskin\", \"name\":\"P_스포츠_게임센터_상단스킨\", \"section\":\"\", \"type\":\"pc\", \"oldUnitId\":\"1059A\", \"unitId\":\"SU10125\", \"previewId\":\"p_sports_gskin\", \"width\":\"560\", \"height\":\"53\", \"menu\":\"\", \"calpId\":\"\", \"useCase\":\"iframe\"},\\n\\t\\t{\"sid\":\"gamecenter_fence\", \"name\":\"P_스포츠_게임센터_펜스광고\", \"section\":\"\", \"type\":\"pc\", \"oldUnitId\":\"1059B\", \"unitId\":\"SU10126\", \"previewId\":\"p_sports_gfence\", \"width\":\"434\", \"height\":\"32\", \"menu\":\"\", \"calpId\":\"\", \"useCase\":\"iframe\"},\\n\\n        {\"sid\":\"tv_bottom_banner\", \"name\":\"P_스포츠_생중계_하단배너\", \"section\":\"kbaseball\", \"type\":\"pc\", \"oldUnitId\":\"\", \"unitId\":\"SU10670\", \"previewId\":\"p_sports_live\", \"width\":\"700\", \"height\":\"70\", \"menu\":\"\", \"calpId\":\"kbaseball\", \"useCase\":\"iframe\"},\\n        {\"sid\":\"tv_bottom_banner\", \"name\":\"P_스포츠_생중계_하단배너\", \"section\":\"wbaseball\", \"type\":\"pc\", \"oldUnitId\":\"\", \"unitId\":\"SU10670\", \"previewId\":\"p_sports_live\", \"width\":\"700\", \"height\":\"70\", \"menu\":\"\", \"calpId\":\"wbaseball\", \"useCase\":\"iframe\"},\\n        {\"sid\":\"tv_bottom_banner\", \"name\":\"P_스포츠_생중계_하단배너\", \"section\":\"kfootball\", \"type\":\"pc\", \"oldUnitId\":\"\", \"unitId\":\"SU10670\", \"previewId\":\"p_sports_live\", \"width\":\"700\", \"height\":\"70\", \"menu\":\"\", \"calpId\":\"kfootball\", \"useCase\":\"iframe\"},\\n        {\"sid\":\"tv_bottom_banner\", \"name\":\"P_스포츠_생중계_하단배너\", \"section\":\"wfootball\", \"type\":\"pc\", \"oldUnitId\":\"\", \"unitId\":\"SU10670\", \"previewId\":\"p_sports_live\", \"width\":\"700\", \"height\":\"70\", \"menu\":\"\", \"calpId\":\"wfootball\", \"useCase\":\"iframe\"},\\n        {\"sid\":\"tv_bottom_banner\", \"name\":\"P_스포츠_생중계_하단배너\", \"section\":\"basketball\", \"type\":\"pc\", \"oldUnitId\":\"\", \"unitId\":\"SU10670\", \"previewId\":\"p_sports_live\", \"width\":\"700\", \"height\":\"70\", \"menu\":\"\", \"calpId\":\"basketball\", \"useCase\":\"iframe\"},\\n        {\"sid\":\"tv_bottom_banner\", \"name\":\"P_스포츠_생중계_하단배너\", \"section\":\"volleyball\", \"type\":\"pc\", \"oldUnitId\":\"\", \"unitId\":\"SU10670\", \"previewId\":\"p_sports_live\", \"width\":\"700\", \"height\":\"70\", \"menu\":\"\", \"calpId\":\"volleyball\", \"useCase\":\"iframe\"},\\n        {\"sid\":\"tv_bottom_banner\", \"name\":\"P_스포츠_생중계_하단배너\", \"section\":\"golf\", \"type\":\"pc\", \"oldUnitId\":\"\", \"unitId\":\"SU10670\", \"previewId\":\"p_sports_live\", \"width\":\"700\", \"height\":\"70\", \"menu\":\"\", \"calpId\":\"golf\", \"useCase\":\"iframe\"},\\n        {\"sid\":\"tv_bottom_banner\", \"name\":\"P_스포츠_생중계_하단배너\", \"section\":\"general\", \"type\":\"pc\", \"oldUnitId\":\"\", \"unitId\":\"SU10670\", \"previewId\":\"p_sports_live\", \"width\":\"700\", \"height\":\"70\", \"menu\":\"\", \"calpId\":\"general\", \"useCase\":\"iframe\"},\\n        {\"sid\":\"tv_bottom_banner\", \"name\":\"P_스포츠_생중계_하단배너\", \"section\":\"esports\", \"type\":\"pc\", \"oldUnitId\":\"\", \"unitId\":\"SU10670\", \"previewId\":\"p_sports_live\", \"width\":\"700\", \"height\":\"70\", \"menu\":\"\", \"calpId\":\"esports\", \"useCase\":\"iframe\"}\\n\\t];\\n</script>\\n<script>\\n    exeJs.push(function(){\\n        \\n    });\\n</script>\\n\\n\\n\\t</div>\\n\\t\\n<div id=\"footer\">\\n\\t\\n\\t\\n\\t\\t\\n\\n\\n\\n\\n\\n<div class=\"notice_foot\">\\n\\t<strong class=\"title\">공지</strong>\\n\\t<div class=\"inner\">\\n\\t\\n\\t\\t<a href=\"https://m.post.naver.com/viewer/postView.nhn?volumeNo=31462993&memberNo=1156373\" target=_blank onclick=\"clickcr(this, \\'not.noti\\', \\'1466402863231\\', \\'\\', event);\"><span>스포츠 TV중계 편성 - 5/10(월)~5/17(월)</span></a>\\n\\t\\n\\t</div>\\n</div>\\n\\n\\n\\t\\n    <ul>\\n\\t<li class=\"first\"><a onclick=\"clickcr(this, \\'fot.service\\', \\'\\', \\'\\', event);\" target=\"_blank\" href=\"https://www.naver.com/rules/service.html\">네이버 이용약관</a></li>\\n\\t<li><a href=\"https://news.naver.com/main/principle.nhn\" target=\"_blank\" onClick=\"clickcr(this, \\'fot.principle\\', \\'\\', \\'\\', event);\">댓글/게시글 운영원칙</a></li>\\n\\t<li><a href=\"https://www.naver.com/rules/privacy.html\" target=\"_blank\" onClick=\"clickcr(this, \\'fot.privacy\\', \\'\\', \\'\\', event);\"><strong>개인정보처리방침</strong></a></li>\\n\\t<li><a href=\"https://www.naver.com/rules/disclaimer.html\" target=\"_blank\" onClick=\"clickcr(this, \\'fot.disclaimer\\', \\'\\', \\'\\', event);\">책임의 한계와 법적고지</a></li>\\n\\t<li><a target=\"_blank\" onclick=\"OPS.viewOPS(\\'ops\\', {url : \\'https://help.naver.com/support/alias/contents2/sports/sports_2.naver\\'}); clickcr(this, \\'fot.shelp\\', \\'\\', \\'\\', event); return false;\" href=\"#\">스포츠 고객센터</a></li>\\n\\t</ul>\\n\\t<p class=\"copyr\">본 콘텐츠의 저작권은 네이버 및 제공처에 있으며, 이를 이용하는 경우 저작권법 등에 따라 법적책임을 질 수 있습니다.</p>\\n\\t<address>\\n\\t\\t<a href=\"http://www.navercorp.com/\" target=\"_blank\" onClick=\"clickcr(this, \\'fot.nhn\\', \\'\\', \\'\\', event);\" class=\"logo\"><img src=\"https://ssl.pstatic.net/static/common/footer/ci_naver.gif\" width=\"63\" height=\"11\" alt=\"NAVER\"></a>\\n\\t\\t<em>Copyright &copy;</em>\\n\\t\\t<a href=\"http://www.navercorp.com/\" target=\"_blank\" onClick=\"clickcr(this, \\'fot.nhn\\', \\'\\', \\'\\', event);\">NAVER Corp.</a>\\n\\t\\t<span>All Rights Reserved.</span>\\n\\t</address>\\n\\t\\n</div>\\n<script type=\\'text/javascript\\' src=\\'https://ssl.pstatic.net/static.sports/resources/pc/2021/05/10/124010/js/src/changeUrl.js\\' charset=\\'UTF-8\\'></script>\\n\\n<script type=\"text/javascript\">\\n\\tvar container_link = \"container\";\\n\\tif(document.getElementById(\"container_link\")) {\\n\\t\\tdocument.getElementById(\"container_link\").innerHTML = \"<a href=\\'#container\\' onclick=\\\\\"document.getElementById(\\'container\\').tabIndex=-1;document.getElementById(\\'container\\').focus();\\\\\"><span>본문으로 바로가기</span></a>\";\\n\\t}\\n\\n\\tfunction goToMobileUrl(mobileRedirectUrl) {\\n\\t\\tif(mobileRedirectUrl) {\\n\\t\\t\\tlocation.href = \"/mobileview.nhn?url=\" + encodeURIComponent(mobileRedirectUrl);\\n\\t\\t}else{\\n\\t\\t\\tlocation.href = \"/index.nhn\";\\n\\t\\t}\\n\\t}\\n\\tlazyloadjs(\"https://ssl.pstatic.net/static/common/js/cs_ops_webncc.js\");\\n</script>\\n</div>\\n\\t<script type=\"text/javascript\">\\n\\t\\t\\n\\t</script>\\n\\t\\n\\n<script>lazyloadjs(\\'https://ssl.pstatic.net/static.sports/resources/pc/2021/05/10/124010/js/generated/baseJsBottomLazy.js\\');</script>\\n\\n\\n</body>\\n</html>'"
      ]
     },
     "execution_count": 60,
     "metadata": {},
     "output_type": "execute_result"
    }
   ],
   "source": [
    "# 응답반은 페이지 정보 보기\n",
    "res.text"
   ]
  },
  {
   "cell_type": "markdown",
   "metadata": {},
   "source": [
    "#### 네이버페이지에서 블로그라는 글자 가져오기"
   ]
  },
  {
   "cell_type": "markdown",
   "metadata": {},
   "source": [
    "##### BeautlfilSoup 사용하기"
   ]
  },
  {
   "cell_type": "markdown",
   "metadata": {},
   "source": [
    "--가져온 데이터에서 내가 원하는 내용만 추출할때 사용"
   ]
  },
  {
   "cell_type": "code",
   "execution_count": 61,
   "metadata": {},
   "outputs": [],
   "source": [
    "from bs4 import BeautifulSoup as bs"
   ]
  },
  {
   "cell_type": "code",
   "execution_count": 68,
   "metadata": {},
   "outputs": [],
   "source": [
    "#bs(어떤걸 가공할것인가, 어떻게 가공할것인가 - 파싱방법)\n",
    "soup = bs(res.text, \"lxml\")"
   ]
  },
  {
   "cell_type": "code",
   "execution_count": 69,
   "metadata": {
    "scrolled": true
   },
   "outputs": [],
   "source": [
    "#find_all = 특정 데이터를 모두 찾아오는 기능(태그 , 클래스/아이디)\n",
    "result = soup.find_all(\"a\", class_ = \"nav\")"
   ]
  },
  {
   "cell_type": "code",
   "execution_count": 70,
   "metadata": {},
   "outputs": [],
   "source": [
    "result2 = soup.select(\".title\")  #li > .nav"
   ]
  },
  {
   "cell_type": "code",
   "execution_count": 72,
   "metadata": {
    "scrolled": true
   },
   "outputs": [
    {
     "data": {
      "text/plain": [
       "'‘감독들의 무덤’ 롯데, 잔여 연봉 지급액만 ‘21억 원’ 수준 [MK시선]'"
      ]
     },
     "execution_count": 72,
     "metadata": {},
     "output_type": "execute_result"
    }
   ],
   "source": [
    "result2[0].text"
   ]
  },
  {
   "cell_type": "code",
   "execution_count": 86,
   "metadata": {},
   "outputs": [],
   "source": [
    "s_url = \"https://sports.news.naver.com/index.nhn\" #1단계"
   ]
  },
  {
   "cell_type": "code",
   "execution_count": 87,
   "metadata": {},
   "outputs": [],
   "source": [
    "soup = bs(res.text, \"lxml\") #2단계"
   ]
  },
  {
   "cell_type": "code",
   "execution_count": 88,
   "metadata": {},
   "outputs": [],
   "source": [
    "result3 = soup.select(\"strong.title\") #3단계  soup.select(\".title\")"
   ]
  },
  {
   "cell_type": "code",
   "execution_count": 91,
   "metadata": {},
   "outputs": [
    {
     "data": {
      "text/plain": [
       "'‘감독들의 무덤’ 롯데, 잔여 연봉 지급액만 ‘21억 원’ 수준 [MK시선]'"
      ]
     },
     "execution_count": 91,
     "metadata": {},
     "output_type": "execute_result"
    }
   ],
   "source": [
    "result3[0].text #4단계"
   ]
  },
  {
   "cell_type": "code",
   "execution_count": 95,
   "metadata": {},
   "outputs": [
    {
     "name": "stdout",
     "output_type": "stream",
     "text": [
      "‘감독들의 무덤’ 롯데, 잔여 연봉 지급액만 ‘21억 원’ 수준 [MK시선]\n",
      "[오피셜] 롯데 허문회 전격 경질, 래리 서튼 신임 감독 선임\n",
      "루니, “맨유 9번 시절, 시즌 34골 넣어도 끔찍했다”\n",
      "라멜라, SNS에 자신의 가족 욕한 한국인 '공개 저격'\n",
      "양현종이 1순위라더니…텍사스, 아리하라 대체자로 벤자민 낙점\n",
      "'목발 짚고 작별 인사' 이유 있었네...日기자, 부상 귀국 테임즈 인성 극찬\n",
      "공지\n"
     ]
    }
   ],
   "source": [
    "for i in range(len(result3)):  #리스트 전부 뽑기\n",
    "    print(result3[i].text)"
   ]
  },
  {
   "cell_type": "code",
   "execution_count": 97,
   "metadata": {},
   "outputs": [
    {
     "name": "stdout",
     "output_type": "stream",
     "text": [
      "‘감독들의 무덤’ 롯데, 잔여 연봉 지급액만 ‘21억 원’ 수준 [MK시선]\n",
      "[오피셜] 롯데 허문회 전격 경질, 래리 서튼 신임 감독 선임\n",
      "루니, “맨유 9번 시절, 시즌 34골 넣어도 끔찍했다”\n",
      "라멜라, SNS에 자신의 가족 욕한 한국인 '공개 저격'\n",
      "양현종이 1순위라더니…텍사스, 아리하라 대체자로 벤자민 낙점\n",
      "'목발 짚고 작별 인사' 이유 있었네...日기자, 부상 귀국 테임즈 인성 극찬\n",
      "공지\n"
     ]
    }
   ],
   "source": [
    "for i in result3:   #리스트 전부 뽑기\n",
    "    print(i.text)"
   ]
  },
  {
   "cell_type": "markdown",
   "metadata": {},
   "source": [
    "### Melon 페이저 정보 가져오기"
   ]
  },
  {
   "cell_type": "code",
   "execution_count": 14,
   "metadata": {},
   "outputs": [],
   "source": [
    "m_url = \"https://www.melon.com/\"\n",
    "res = req.get(m_url)"
   ]
  },
  {
   "cell_type": "code",
   "execution_count": 15,
   "metadata": {},
   "outputs": [
    {
     "data": {
      "text/plain": [
       "<Response [406]>"
      ]
     },
     "execution_count": 15,
     "metadata": {},
     "output_type": "execute_result"
    }
   ],
   "source": [
    "res  #406 = 요청거부"
   ]
  },
  {
   "cell_type": "code",
   "execution_count": 16,
   "metadata": {},
   "outputs": [],
   "source": [
    "# 컴퓨터가 아닌 사람으로 속이는 작업\n",
    "h = {\"User-Agent\": \"Mozilla/5.0 (Windows NT 10.0; Win64; x64) AppleWebKit/537.36 (KHTML, like Gecko) Chrome/83.0.4103.116 Safari/537.36\"}"
   ]
  },
  {
   "cell_type": "code",
   "execution_count": 18,
   "metadata": {},
   "outputs": [],
   "source": [
    "res = req.get(m_url, headers = h)"
   ]
  },
  {
   "cell_type": "code",
   "execution_count": 19,
   "metadata": {},
   "outputs": [
    {
     "data": {
      "text/plain": [
       "<Response [200]>"
      ]
     },
     "execution_count": 19,
     "metadata": {},
     "output_type": "execute_result"
    }
   ],
   "source": [
    "res"
   ]
  },
  {
   "cell_type": "markdown",
   "metadata": {},
   "source": [
    "### 멜론노래제목 가져오기"
   ]
  },
  {
   "cell_type": "code",
   "execution_count": 98,
   "metadata": {},
   "outputs": [],
   "source": [
    "ml_url = \"https://www.melon.com/chart/index.htm\"\n",
    "res = req.get(ml_url)"
   ]
  },
  {
   "cell_type": "code",
   "execution_count": 100,
   "metadata": {},
   "outputs": [
    {
     "data": {
      "text/plain": [
       "<Response [406]>"
      ]
     },
     "execution_count": 100,
     "metadata": {},
     "output_type": "execute_result"
    }
   ],
   "source": [
    "res"
   ]
  },
  {
   "cell_type": "code",
   "execution_count": 101,
   "metadata": {},
   "outputs": [],
   "source": [
    "h = {\"User-Agent\": \"Mozilla/5.0 (Windows NT 10.0; Win64; x64) AppleWebKit/537.36 (KHTML, like Gecko) Chrome/83.0.4103.116 Safari/537.36\"}"
   ]
  },
  {
   "cell_type": "code",
   "execution_count": 102,
   "metadata": {},
   "outputs": [],
   "source": [
    "res = req.get(ml_url, headers = h)"
   ]
  },
  {
   "cell_type": "code",
   "execution_count": 104,
   "metadata": {},
   "outputs": [
    {
     "data": {
      "text/plain": [
       "<Response [200]>"
      ]
     },
     "execution_count": 104,
     "metadata": {},
     "output_type": "execute_result"
    }
   ],
   "source": [
    "res"
   ]
  },
  {
   "cell_type": "code",
   "execution_count": 136,
   "metadata": {},
   "outputs": [],
   "source": [
    "soup = bs(res.text, \"lxml\")"
   ]
  },
  {
   "cell_type": "code",
   "execution_count": 156,
   "metadata": {},
   "outputs": [],
   "source": [
    "melone = soup.select(\"div.rank01\")"
   ]
  },
  {
   "cell_type": "code",
   "execution_count": 159,
   "metadata": {
    "scrolled": true
   },
   "outputs": [
    {
     "name": "stdout",
     "output_type": "stream",
     "text": [
      "\n",
      "롤린 (Rollin')\n",
      "\n",
      "\n",
      "Peaches (Feat. Daniel Caesar & Giveon)\n",
      "\n",
      "\n",
      "라일락\n",
      "\n",
      "\n",
      "운전만해 (We Ride)\n",
      "\n",
      "\n",
      "Celebrity\n",
      "\n",
      "\n",
      "Timeless\n",
      "\n",
      "\n",
      "라라라\n",
      "\n",
      "\n",
      "내사람\n",
      "\n",
      "\n",
      "Dynamite\n",
      "\n",
      "\n",
      "내 손을 잡아\n",
      "\n",
      "\n",
      "Coin\n",
      "\n",
      "\n",
      "LOVE DAY (2021) (바른연애 길잡이 X 양요섭, 정은지)\n",
      "\n",
      "\n",
      "밝게 빛나는 별이 되어 비춰줄게\n",
      "\n",
      "\n",
      "마.피.아. In the morning\n",
      "\n",
      "\n",
      "On The Ground\n",
      "\n",
      "\n",
      "밤하늘의 별을(2020)\n",
      "\n",
      "\n",
      "멜로디\n",
      "\n",
      "\n",
      "Dun Dun Dance\n",
      "\n",
      "\n",
      "잠이 오질 않네요\n",
      "\n",
      "\n",
      "그냥 안아달란 말야\n",
      "\n",
      "\n",
      "사이렌 Remix (Feat. UNEDUCATED KID, Paul Blanco)\n",
      "\n",
      "\n",
      "살다가\n",
      "\n",
      "\n",
      "취기를 빌려 (취향저격 그녀 X 산들)\n",
      "\n",
      "\n",
      "Blueming\n",
      "\n",
      "\n",
      "에잇(Prod.&Feat. SUGA of BTS)\n",
      "\n",
      "\n",
      "어푸 (Ah puh)\n",
      "\n",
      "\n",
      "Lovesick Girls\n",
      "\n",
      "\n",
      "VVS (Feat. JUSTHIS) (Prod. GroovyRoom)\n",
      "\n",
      "\n",
      "맛 (Hot Sauce)\n",
      "\n",
      "\n",
      "나랑 같이 걸을래 (바른연애 길잡이 X 적재)\n",
      "\n",
      "\n",
      "12:45 (Stripped)\n",
      "\n",
      "\n",
      "흔들리는 꽃들 속에서 네 샴푸향이 느껴진거야\n",
      "\n",
      "\n",
      "어떻게 이별까지 사랑하겠어, 널 사랑하는 거지\n",
      "\n",
      "\n",
      "그날에 나는 맘이 편했을까\n",
      "\n",
      "\n",
      "이 밤을 빌려 말해요 (바른연애 길잡이 X 10CM)\n",
      "\n",
      "\n",
      "ASAP\n",
      "\n",
      "\n",
      "추억은 만남보다 이별에 남아\n",
      "\n",
      "\n",
      "오래된 노래\n",
      "\n",
      "\n",
      "Savage Love (Laxed - Siren Beat) (BTS Remix)\n",
      "\n",
      "\n",
      "Dolphin\n",
      "\n",
      "\n",
      "METEOR\n",
      "\n",
      "\n",
      "2002\n",
      "\n",
      "\n",
      "모든 날, 모든 순간 (Every day, Every Moment)\n",
      "\n",
      "\n",
      "너의 발걸음에 빛을 비춰줄게 (Prod. 조영수)\n",
      "\n",
      "\n",
      "힘든 건 사랑이 아니다\n",
      "\n",
      "\n",
      "봄 안녕 봄\n",
      "\n",
      "\n",
      "아이와 나의 바다\n",
      "\n",
      "\n",
      "아로하\n",
      "\n",
      "\n",
      "너의 번호를 누르고 (Prod. 영화처럼)\n",
      "\n",
      "\n",
      "상상더하기\n",
      "\n",
      "\n",
      "사실 나는 (Feat.전건호)\n",
      "\n",
      "\n",
      "어떻게 지내 (Prod. By VAN.C)\n",
      "\n",
      "\n",
      "Life Goes On\n",
      "\n",
      "\n",
      "작은 것들을 위한 시 (Boy With Luv) (Feat. Halsey)\n",
      "\n",
      "\n",
      "오늘도 빛나는 너에게 (To You My Light) (Feat.이라온)\n",
      "\n",
      "\n",
      "봄날\n",
      "\n",
      "\n",
      "늦은 밤 너의 집 앞 골목길에서\n",
      "\n",
      "\n",
      "살짝 설렜어 (Nonstop)\n",
      "\n",
      "\n",
      "How You Like That\n",
      "\n",
      "\n",
      "기다릴게\n",
      "\n",
      "\n",
      "Memories\n",
      "\n",
      "\n",
      "Flu\n",
      "\n",
      "\n",
      "이렇게 좋아해 본 적이 없어요\n",
      "\n",
      "\n",
      "마음을 드려요\n",
      "\n",
      "\n",
      "고백 (바른연애 길잡이 X 허각)\n",
      "\n",
      "\n",
      "이제 나만 믿어요\n",
      "\n",
      "\n",
      "내 마음이 움찔했던 순간 (취향저격 그녀 X 규현)\n",
      "\n",
      "\n",
      "Dance Monkey\n",
      "\n",
      "\n",
      "함께 했는데 이별은 나 혼자인 거야\n",
      "\n",
      "\n",
      "고래 (Dive Into You)\n",
      "\n",
      "\n",
      "죄와벌\n",
      "\n",
      "\n",
      "When We Disco (Duet with 선미)\n",
      "\n",
      "\n",
      "닫힌엔딩 (Closed Ending)\n",
      "\n",
      "\n",
      "돌림노래 (Feat. DEAN)\n",
      "\n",
      "\n",
      "Love poem\n",
      "\n",
      "\n",
      "너를 만나\n",
      "\n",
      "\n",
      "Off My Face\n",
      "\n",
      "\n",
      "불어온다\n",
      "\n",
      "\n",
      "Paris In The Rain\n",
      "\n",
      "\n",
      "우리 왜 헤어져야 해\n",
      "\n",
      "\n",
      "시작\n",
      "\n",
      "\n",
      "우린 어쩌다 헤어진 걸까\n",
      "\n",
      "\n",
      "혼술하고 싶은 밤\n",
      "\n",
      "\n",
      "아리랑\n",
      "\n",
      "\n",
      "내일이 오면 (Feat. 기리보이, BIG Naughty (서동현))\n",
      "\n",
      "\n",
      "되풀이\n",
      "\n",
      "\n",
      "Diggity\n",
      "\n",
      "\n",
      "Don't Start Now\n",
      "\n",
      "\n",
      "거짓말이라도 해서 널 보고싶어\n",
      "\n",
      "\n",
      "Gone\n",
      "\n",
      "\n",
      "서면역에서\n",
      "\n",
      "\n",
      "안녕\n",
      "\n",
      "\n",
      "Downtown Baby\n",
      "\n",
      "\n",
      "우리의 계절 (My Youth)\n",
      "\n",
      "\n",
      "Maniac\n",
      "\n",
      "\n",
      "에필로그\n",
      "\n",
      "\n",
      "응급실 (2021)\n",
      "\n",
      "\n",
      "딩가딩가 (Dingga)\n",
      "\n",
      "\n",
      "술 한잔 해요\n",
      "\n",
      "\n",
      "사랑은 지날수록 더욱 선명하게 남아\n",
      "\n"
     ]
    }
   ],
   "source": [
    "for i in melone:\n",
    "    print(i.text)"
   ]
  },
  {
   "cell_type": "code",
   "execution_count": 151,
   "metadata": {},
   "outputs": [],
   "source": [
    "melone = soup.select(\"div.rank01 > span > a\")"
   ]
  },
  {
   "cell_type": "code",
   "execution_count": 160,
   "metadata": {
    "scrolled": true
   },
   "outputs": [
    {
     "name": "stdout",
     "output_type": "stream",
     "text": [
      "\n",
      "롤린 (Rollin')\n",
      "\n",
      "\n",
      "Peaches (Feat. Daniel Caesar & Giveon)\n",
      "\n",
      "\n",
      "라일락\n",
      "\n",
      "\n",
      "운전만해 (We Ride)\n",
      "\n",
      "\n",
      "Celebrity\n",
      "\n",
      "\n",
      "Timeless\n",
      "\n",
      "\n",
      "라라라\n",
      "\n",
      "\n",
      "내사람\n",
      "\n",
      "\n",
      "Dynamite\n",
      "\n",
      "\n",
      "내 손을 잡아\n",
      "\n",
      "\n",
      "Coin\n",
      "\n",
      "\n",
      "LOVE DAY (2021) (바른연애 길잡이 X 양요섭, 정은지)\n",
      "\n",
      "\n",
      "밝게 빛나는 별이 되어 비춰줄게\n",
      "\n",
      "\n",
      "마.피.아. In the morning\n",
      "\n",
      "\n",
      "On The Ground\n",
      "\n",
      "\n",
      "밤하늘의 별을(2020)\n",
      "\n",
      "\n",
      "멜로디\n",
      "\n",
      "\n",
      "Dun Dun Dance\n",
      "\n",
      "\n",
      "잠이 오질 않네요\n",
      "\n",
      "\n",
      "그냥 안아달란 말야\n",
      "\n",
      "\n",
      "사이렌 Remix (Feat. UNEDUCATED KID, Paul Blanco)\n",
      "\n",
      "\n",
      "살다가\n",
      "\n",
      "\n",
      "취기를 빌려 (취향저격 그녀 X 산들)\n",
      "\n",
      "\n",
      "Blueming\n",
      "\n",
      "\n",
      "에잇(Prod.&Feat. SUGA of BTS)\n",
      "\n",
      "\n",
      "어푸 (Ah puh)\n",
      "\n",
      "\n",
      "Lovesick Girls\n",
      "\n",
      "\n",
      "VVS (Feat. JUSTHIS) (Prod. GroovyRoom)\n",
      "\n",
      "\n",
      "맛 (Hot Sauce)\n",
      "\n",
      "\n",
      "나랑 같이 걸을래 (바른연애 길잡이 X 적재)\n",
      "\n",
      "\n",
      "12:45 (Stripped)\n",
      "\n",
      "\n",
      "흔들리는 꽃들 속에서 네 샴푸향이 느껴진거야\n",
      "\n",
      "\n",
      "어떻게 이별까지 사랑하겠어, 널 사랑하는 거지\n",
      "\n",
      "\n",
      "그날에 나는 맘이 편했을까\n",
      "\n",
      "\n",
      "이 밤을 빌려 말해요 (바른연애 길잡이 X 10CM)\n",
      "\n",
      "\n",
      "ASAP\n",
      "\n",
      "\n",
      "추억은 만남보다 이별에 남아\n",
      "\n",
      "\n",
      "오래된 노래\n",
      "\n",
      "\n",
      "Savage Love (Laxed - Siren Beat) (BTS Remix)\n",
      "\n",
      "\n",
      "Dolphin\n",
      "\n",
      "\n",
      "METEOR\n",
      "\n",
      "\n",
      "2002\n",
      "\n",
      "\n",
      "모든 날, 모든 순간 (Every day, Every Moment)\n",
      "\n",
      "\n",
      "너의 발걸음에 빛을 비춰줄게 (Prod. 조영수)\n",
      "\n",
      "\n",
      "힘든 건 사랑이 아니다\n",
      "\n",
      "\n",
      "봄 안녕 봄\n",
      "\n",
      "\n",
      "아이와 나의 바다\n",
      "\n",
      "\n",
      "아로하\n",
      "\n",
      "\n",
      "너의 번호를 누르고 (Prod. 영화처럼)\n",
      "\n",
      "\n",
      "상상더하기\n",
      "\n",
      "\n",
      "사실 나는 (Feat.전건호)\n",
      "\n",
      "\n",
      "어떻게 지내 (Prod. By VAN.C)\n",
      "\n",
      "\n",
      "Life Goes On\n",
      "\n",
      "\n",
      "작은 것들을 위한 시 (Boy With Luv) (Feat. Halsey)\n",
      "\n",
      "\n",
      "오늘도 빛나는 너에게 (To You My Light) (Feat.이라온)\n",
      "\n",
      "\n",
      "봄날\n",
      "\n",
      "\n",
      "늦은 밤 너의 집 앞 골목길에서\n",
      "\n",
      "\n",
      "살짝 설렜어 (Nonstop)\n",
      "\n",
      "\n",
      "How You Like That\n",
      "\n",
      "\n",
      "기다릴게\n",
      "\n",
      "\n",
      "Memories\n",
      "\n",
      "\n",
      "Flu\n",
      "\n",
      "\n",
      "이렇게 좋아해 본 적이 없어요\n",
      "\n",
      "\n",
      "마음을 드려요\n",
      "\n",
      "\n",
      "고백 (바른연애 길잡이 X 허각)\n",
      "\n",
      "\n",
      "이제 나만 믿어요\n",
      "\n",
      "\n",
      "내 마음이 움찔했던 순간 (취향저격 그녀 X 규현)\n",
      "\n",
      "\n",
      "Dance Monkey\n",
      "\n",
      "\n",
      "함께 했는데 이별은 나 혼자인 거야\n",
      "\n",
      "\n",
      "고래 (Dive Into You)\n",
      "\n",
      "\n",
      "죄와벌\n",
      "\n",
      "\n",
      "When We Disco (Duet with 선미)\n",
      "\n",
      "\n",
      "닫힌엔딩 (Closed Ending)\n",
      "\n",
      "\n",
      "돌림노래 (Feat. DEAN)\n",
      "\n",
      "\n",
      "Love poem\n",
      "\n",
      "\n",
      "너를 만나\n",
      "\n",
      "\n",
      "Off My Face\n",
      "\n",
      "\n",
      "불어온다\n",
      "\n",
      "\n",
      "Paris In The Rain\n",
      "\n",
      "\n",
      "우리 왜 헤어져야 해\n",
      "\n",
      "\n",
      "시작\n",
      "\n",
      "\n",
      "우린 어쩌다 헤어진 걸까\n",
      "\n",
      "\n",
      "혼술하고 싶은 밤\n",
      "\n",
      "\n",
      "아리랑\n",
      "\n",
      "\n",
      "내일이 오면 (Feat. 기리보이, BIG Naughty (서동현))\n",
      "\n",
      "\n",
      "되풀이\n",
      "\n",
      "\n",
      "Diggity\n",
      "\n",
      "\n",
      "Don't Start Now\n",
      "\n",
      "\n",
      "거짓말이라도 해서 널 보고싶어\n",
      "\n",
      "\n",
      "Gone\n",
      "\n",
      "\n",
      "서면역에서\n",
      "\n",
      "\n",
      "안녕\n",
      "\n",
      "\n",
      "Downtown Baby\n",
      "\n",
      "\n",
      "우리의 계절 (My Youth)\n",
      "\n",
      "\n",
      "Maniac\n",
      "\n",
      "\n",
      "에필로그\n",
      "\n",
      "\n",
      "응급실 (2021)\n",
      "\n",
      "\n",
      "딩가딩가 (Dingga)\n",
      "\n",
      "\n",
      "술 한잔 해요\n",
      "\n",
      "\n",
      "사랑은 지날수록 더욱 선명하게 남아\n",
      "\n"
     ]
    }
   ],
   "source": [
    "for i in melone:\n",
    "    print(i.text)"
   ]
  },
  {
   "cell_type": "code",
   "execution_count": 181,
   "metadata": {},
   "outputs": [],
   "source": [
    "melone1 = soup.select(\"div.rank02 > a:nth-child(1)\")"
   ]
  },
  {
   "cell_type": "code",
   "execution_count": 182,
   "metadata": {},
   "outputs": [
    {
     "name": "stdout",
     "output_type": "stream",
     "text": [
      "브레이브걸스\n",
      "Justin Bieber\n",
      "아이유\n",
      "브레이브걸스\n",
      "아이유\n",
      "SG 워너비\n",
      "SG 워너비\n",
      "SG 워너비\n",
      "방탄소년단\n",
      "아이유\n",
      "아이유\n",
      "양요섭\n",
      "송이한\n",
      "ITZY (있지)\n",
      "로제 (ROSÉ)\n",
      "경서\n",
      "ASH ISLAND\n",
      "오마이걸 (OH MY GIRL)\n",
      "장범준\n",
      "다비치\n",
      "호미들\n",
      "SG 워너비\n",
      "산들\n",
      "아이유\n",
      "아이유\n",
      "아이유\n",
      "BLACKPINK\n",
      "미란이 (Mirani)\n",
      "NCT DREAM\n",
      "적재\n",
      "Etham\n",
      "장범준\n",
      "AKMU (악동뮤지션)\n",
      "이예준\n",
      "10CM\n",
      "STAYC(스테이씨)\n",
      "정동하\n",
      "스탠딩 에그\n",
      "Jawsh 685\n",
      "오마이걸 (OH MY GIRL)\n",
      "창모 (CHANGMO)\n",
      "Anne-Marie\n",
      "폴킴\n",
      "케이시 (Kassy)\n",
      "임창정\n",
      "아이유\n",
      "아이유\n",
      "조정석\n",
      "#안녕\n",
      "라붐 (LABOUM)\n",
      "경서예지\n",
      "오반 (OVAN)\n",
      "방탄소년단\n",
      "방탄소년단\n",
      "마크툽 (MAKTUB)\n",
      "방탄소년단\n",
      "노을\n",
      "오마이걸 (OH MY GIRL)\n",
      "BLACKPINK\n",
      "하동균\n",
      "Maroon 5\n",
      "아이유\n",
      "CHEEZE (치즈)\n",
      "아이유\n",
      "허각\n",
      "임영웅\n",
      "규현 (KYUHYUN)\n",
      "Tones And I\n",
      "소정 (레이디스 코드)\n",
      "NCT DREAM\n",
      "SG 워너비\n",
      "박진영\n",
      "숀 (SHAUN)\n",
      "아이유\n",
      "아이유\n",
      "폴킴\n",
      "Justin Bieber\n",
      "하이라이트 (Highlight)\n",
      "Lauv\n",
      "신예영\n",
      "가호 (Gaho)\n",
      "허각\n",
      "벤\n",
      "SG 워너비\n",
      "릴보이 (lIlBOI)\n",
      "임창정\n",
      "NCT DREAM\n",
      "Dua Lipa\n",
      "백지영\n",
      "로제 (ROSÉ)\n",
      "순순희\n",
      "폴킴\n",
      "블루 (BLOO)\n",
      "NCT DREAM\n",
      "Conan Gray\n",
      "아이유\n",
      "황인욱\n",
      "마마무 (Mamamoo)\n",
      "경서 (경서예지)\n",
      "전상근\n"
     ]
    }
   ],
   "source": [
    "for i in melone1:\n",
    "    print(i.text)"
   ]
  }
 ],
 "metadata": {
  "kernelspec": {
   "display_name": "Python 3",
   "language": "python",
   "name": "python3"
  },
  "language_info": {
   "codemirror_mode": {
    "name": "ipython",
    "version": 3
   },
   "file_extension": ".py",
   "mimetype": "text/x-python",
   "name": "python",
   "nbconvert_exporter": "python",
   "pygments_lexer": "ipython3",
   "version": "3.8.5"
  },
  "toc": {
   "base_numbering": 1,
   "nav_menu": {},
   "number_sections": true,
   "sideBar": true,
   "skip_h1_title": false,
   "title_cell": "Table of Contents",
   "title_sidebar": "Contents",
   "toc_cell": false,
   "toc_position": {
    "height": "calc(100% - 180px)",
    "left": "10px",
    "top": "150px",
    "width": "230px"
   },
   "toc_section_display": true,
   "toc_window_display": true
  }
 },
 "nbformat": 4,
 "nbformat_minor": 4
}
